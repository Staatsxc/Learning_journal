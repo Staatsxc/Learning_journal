{
 "cells": [
  {
   "cell_type": "markdown",
   "metadata": {
    "id": "_xfkJ0nSFIGb"
   },
   "source": [
    "# Turunan Symbolic\n",
    "\n",
    "---\n",
    "\n",
    "Penurunan fungsi biasa berdasarkan simbolnya"
   ]
  },
  {
   "cell_type": "code",
   "execution_count": 1,
   "metadata": {
    "id": "bj3SBjwAEotY"
   },
   "outputs": [],
   "source": [
    "import sympy as sy"
   ]
  },
  {
   "cell_type": "code",
   "execution_count": 2,
   "metadata": {
    "colab": {
     "base_uri": "https://localhost:8080/",
     "height": 39
    },
    "id": "oSbxZN1nFGNs",
    "outputId": "cb5bbb77-ac46-4535-b9fc-620227d52c4f"
   },
   "outputs": [
    {
     "data": {
      "text/latex": [
       "$\\displaystyle x$"
      ],
      "text/plain": [
       "x"
      ]
     },
     "execution_count": 2,
     "metadata": {},
     "output_type": "execute_result"
    }
   ],
   "source": [
    "x = sy.Symbol('x')\n",
    "x"
   ]
  },
  {
   "cell_type": "code",
   "execution_count": 3,
   "metadata": {
    "colab": {
     "base_uri": "https://localhost:8080/",
     "height": 39
    },
    "id": "nWLY40MVFrQu",
    "outputId": "158e006c-55d2-4854-bb22-4350ccdff9f2"
   },
   "outputs": [
    {
     "data": {
      "text/latex": [
       "$\\displaystyle 2 x^{2} + 4 x - 1$"
      ],
      "text/plain": [
       "2*x**2 + 4*x - 1"
      ]
     },
     "execution_count": 3,
     "metadata": {},
     "output_type": "execute_result"
    }
   ],
   "source": [
    "f = 2*x**2 + 4*x - 1\n",
    "f"
   ]
  },
  {
   "cell_type": "code",
   "execution_count": 4,
   "metadata": {
    "colab": {
     "base_uri": "https://localhost:8080/",
     "height": 39
    },
    "id": "Xg1-I1NVFxeV",
    "outputId": "cfe82ee3-f613-44f8-c35f-050e414dd389"
   },
   "outputs": [
    {
     "data": {
      "text/latex": [
       "$\\displaystyle 4 x + 4$"
      ],
      "text/plain": [
       "4*x + 4"
      ]
     },
     "execution_count": 4,
     "metadata": {},
     "output_type": "execute_result"
    }
   ],
   "source": [
    "#First order\n",
    "df = f.diff()\n",
    "df"
   ]
  },
  {
   "cell_type": "code",
   "execution_count": 5,
   "metadata": {
    "colab": {
     "base_uri": "https://localhost:8080/",
     "height": 39
    },
    "id": "HsX4R3ejqz3O",
    "outputId": "2fefc57a-fa19-4cd6-9cd2-c016a08e4a5e"
   },
   "outputs": [
    {
     "data": {
      "text/latex": [
       "$\\displaystyle 4 x + 4$"
      ],
      "text/plain": [
       "4*x + 4"
      ]
     },
     "execution_count": 5,
     "metadata": {},
     "output_type": "execute_result"
    }
   ],
   "source": [
    "#Turunan Pertama\n",
    "sy.diff(f)"
   ]
  },
  {
   "cell_type": "code",
   "execution_count": 6,
   "metadata": {
    "colab": {
     "base_uri": "https://localhost:8080/",
     "height": 37
    },
    "id": "me2mbm5_GBPv",
    "outputId": "e9750903-2ade-49cb-b67f-fb6597037c6a"
   },
   "outputs": [
    {
     "data": {
      "text/latex": [
       "$\\displaystyle 4$"
      ],
      "text/plain": [
       "4"
      ]
     },
     "execution_count": 6,
     "metadata": {},
     "output_type": "execute_result"
    }
   ],
   "source": [
    "#Second order\n",
    "d2f = df.diff()\n",
    "d2f"
   ]
  },
  {
   "cell_type": "code",
   "execution_count": 7,
   "metadata": {
    "colab": {
     "base_uri": "https://localhost:8080/",
     "height": 37
    },
    "id": "kz4x4L6e0U1b",
    "outputId": "9bb4cb0b-cab8-42c3-e5bd-f81e7b8d0fef"
   },
   "outputs": [
    {
     "data": {
      "text/latex": [
       "$\\displaystyle 4$"
      ],
      "text/plain": [
       "4"
      ]
     },
     "execution_count": 7,
     "metadata": {},
     "output_type": "execute_result"
    }
   ],
   "source": [
    "f.diff().diff()"
   ]
  },
  {
   "cell_type": "code",
   "execution_count": 8,
   "metadata": {
    "colab": {
     "base_uri": "https://localhost:8080/",
     "height": 37
    },
    "id": "JuT_zB9_tjU_",
    "outputId": "7b13c178-2d3c-416a-bfde-daf52e98909c"
   },
   "outputs": [
    {
     "data": {
      "text/latex": [
       "$\\displaystyle 4$"
      ],
      "text/plain": [
       "4"
      ]
     },
     "execution_count": 8,
     "metadata": {},
     "output_type": "execute_result"
    }
   ],
   "source": [
    "#Turunan kedua\n",
    "sy.diff(sy.diff(f)) #atau sy.diff(df)"
   ]
  },
  {
   "cell_type": "code",
   "execution_count": 9,
   "metadata": {
    "colab": {
     "base_uri": "https://localhost:8080/",
     "height": 37
    },
    "id": "oR4AH4VaGGKL",
    "outputId": "7a6f2ab8-69b3-422c-ef0a-3ddd35863773"
   },
   "outputs": [
    {
     "data": {
      "text/latex": [
       "$\\displaystyle 0$"
      ],
      "text/plain": [
       "0"
      ]
     },
     "execution_count": 9,
     "metadata": {},
     "output_type": "execute_result"
    }
   ],
   "source": [
    "#Third order\n",
    "d2f.diff()"
   ]
  },
  {
   "cell_type": "code",
   "execution_count": 10,
   "metadata": {
    "colab": {
     "base_uri": "https://localhost:8080/",
     "height": 37
    },
    "id": "NjzieM64qlNM",
    "outputId": "2842a1f5-d930-45a5-aa2e-2884185841fa"
   },
   "outputs": [
    {
     "data": {
      "text/latex": [
       "$\\displaystyle 0$"
      ],
      "text/plain": [
       "0"
      ]
     },
     "execution_count": 10,
     "metadata": {},
     "output_type": "execute_result"
    }
   ],
   "source": [
    "f.diff().diff().diff()"
   ]
  },
  {
   "cell_type": "code",
   "execution_count": 11,
   "metadata": {
    "colab": {
     "base_uri": "https://localhost:8080/",
     "height": 39
    },
    "id": "CNAIpgnR0Cpk",
    "outputId": "360ac2bb-37a2-4003-df3e-f8db99578ece"
   },
   "outputs": [
    {
     "data": {
      "text/latex": [
       "$\\displaystyle - \\log{\\left(x^{2} \\right)} + \\cos{\\left(x \\right)}$"
      ],
      "text/plain": [
       "-log(x**2) + cos(x)"
      ]
     },
     "execution_count": 11,
     "metadata": {},
     "output_type": "execute_result"
    }
   ],
   "source": [
    "g = sy.cos(x)- sy.log(x**2)\n",
    "g"
   ]
  },
  {
   "cell_type": "code",
   "execution_count": 12,
   "metadata": {
    "colab": {
     "base_uri": "https://localhost:8080/",
     "height": 51
    },
    "id": "TCOeWQXy0LRR",
    "outputId": "61f8a747-131a-46e9-cfa7-b1a17dbbd7f0"
   },
   "outputs": [
    {
     "data": {
      "text/latex": [
       "$\\displaystyle - \\sin{\\left(x \\right)} - \\frac{2}{x}$"
      ],
      "text/plain": [
       "-sin(x) - 2/x"
      ]
     },
     "execution_count": 12,
     "metadata": {},
     "output_type": "execute_result"
    }
   ],
   "source": [
    "g.diff()"
   ]
  },
  {
   "cell_type": "code",
   "execution_count": 13,
   "metadata": {
    "colab": {
     "base_uri": "https://localhost:8080/",
     "height": 51
    },
    "id": "cRxUSr8sYR-0",
    "outputId": "3a306b16-c63f-41a3-f176-e1627ca4a0fb"
   },
   "outputs": [
    {
     "data": {
      "text/latex": [
       "$\\displaystyle \\sin{\\left(x \\right)} - \\frac{4}{x^{3}}$"
      ],
      "text/plain": [
       "sin(x) - 4/x**3"
      ]
     },
     "execution_count": 13,
     "metadata": {},
     "output_type": "execute_result"
    }
   ],
   "source": [
    "g.diff().diff().diff()"
   ]
  },
  {
   "cell_type": "markdown",
   "metadata": {
    "id": "3SKvVb9-HN4o"
   },
   "source": [
    "# Turunan Numerik\n",
    "\n",
    "---\n",
    "\n",
    "Menurunkan suatu fungsi dengan array"
   ]
  },
  {
   "cell_type": "code",
   "execution_count": 14,
   "metadata": {
    "id": "rbXkWrGTHWd8"
   },
   "outputs": [],
   "source": [
    "import numpy as np"
   ]
  },
  {
   "cell_type": "code",
   "execution_count": 15,
   "metadata": {
    "id": "VzodoYICsnNF"
   },
   "outputs": [],
   "source": [
    "#np.linspace(start,stop,num), default num=50"
   ]
  },
  {
   "cell_type": "code",
   "execution_count": 16,
   "metadata": {
    "id": "fmKkS88IHabC"
   },
   "outputs": [],
   "source": [
    "X = np.linspace(-100,100, 100)\n",
    "Y = 2*X**2+4*X-1"
   ]
  },
  {
   "cell_type": "code",
   "execution_count": 17,
   "metadata": {
    "colab": {
     "base_uri": "https://localhost:8080/"
    },
    "id": "g4dpJUmtHxsN",
    "outputId": "50715e55-e381-4754-ece7-dd20852b58e1"
   },
   "outputs": [
    {
     "data": {
      "text/plain": [
       "array([-100.        ,  -97.97979798,  -95.95959596,  -93.93939394,\n",
       "        -91.91919192,  -89.8989899 ,  -87.87878788,  -85.85858586,\n",
       "        -83.83838384,  -81.81818182,  -79.7979798 ,  -77.77777778,\n",
       "        -75.75757576,  -73.73737374,  -71.71717172,  -69.6969697 ,\n",
       "        -67.67676768,  -65.65656566,  -63.63636364,  -61.61616162,\n",
       "        -59.5959596 ,  -57.57575758,  -55.55555556,  -53.53535354,\n",
       "        -51.51515152,  -49.49494949,  -47.47474747,  -45.45454545,\n",
       "        -43.43434343,  -41.41414141,  -39.39393939,  -37.37373737,\n",
       "        -35.35353535,  -33.33333333,  -31.31313131,  -29.29292929,\n",
       "        -27.27272727,  -25.25252525,  -23.23232323,  -21.21212121,\n",
       "        -19.19191919,  -17.17171717,  -15.15151515,  -13.13131313,\n",
       "        -11.11111111,   -9.09090909,   -7.07070707,   -5.05050505,\n",
       "         -3.03030303,   -1.01010101,    1.01010101,    3.03030303,\n",
       "          5.05050505,    7.07070707,    9.09090909,   11.11111111,\n",
       "         13.13131313,   15.15151515,   17.17171717,   19.19191919,\n",
       "         21.21212121,   23.23232323,   25.25252525,   27.27272727,\n",
       "         29.29292929,   31.31313131,   33.33333333,   35.35353535,\n",
       "         37.37373737,   39.39393939,   41.41414141,   43.43434343,\n",
       "         45.45454545,   47.47474747,   49.49494949,   51.51515152,\n",
       "         53.53535354,   55.55555556,   57.57575758,   59.5959596 ,\n",
       "         61.61616162,   63.63636364,   65.65656566,   67.67676768,\n",
       "         69.6969697 ,   71.71717172,   73.73737374,   75.75757576,\n",
       "         77.77777778,   79.7979798 ,   81.81818182,   83.83838384,\n",
       "         85.85858586,   87.87878788,   89.8989899 ,   91.91919192,\n",
       "         93.93939394,   95.95959596,   97.97979798,  100.        ])"
      ]
     },
     "execution_count": 17,
     "metadata": {},
     "output_type": "execute_result"
    }
   ],
   "source": [
    "X"
   ]
  },
  {
   "cell_type": "code",
   "execution_count": 18,
   "metadata": {
    "colab": {
     "base_uri": "https://localhost:8080/"
    },
    "id": "my8DOz5uHz7A",
    "outputId": "1a689252-ac85-441b-e437-3e2205a958a9"
   },
   "outputs": [
    {
     "data": {
      "text/plain": [
       "array([ 1.95990000e+04,  1.88071624e+04,  1.80316497e+04,  1.72724619e+04,\n",
       "        1.65295989e+04,  1.58030608e+04,  1.50928476e+04,  1.43989592e+04,\n",
       "        1.37213957e+04,  1.30601570e+04,  1.24152432e+04,  1.17866543e+04,\n",
       "        1.11743903e+04,  1.05784511e+04,  9.99883675e+03,  9.43554729e+03,\n",
       "        8.88858270e+03,  8.35794297e+03,  7.84362810e+03,  7.34563810e+03,\n",
       "        6.86397296e+03,  6.39863269e+03,  5.94961728e+03,  5.51692674e+03,\n",
       "        5.10056107e+03,  4.70052025e+03,  4.31680431e+03,  3.94941322e+03,\n",
       "        3.59834701e+03,  3.26360565e+03,  2.94518916e+03,  2.64309754e+03,\n",
       "        2.35733078e+03,  2.08788889e+03,  1.83477186e+03,  1.59797970e+03,\n",
       "        1.37751240e+03,  1.17336996e+03,  9.85552393e+02,  8.14059688e+02,\n",
       "        6.58891848e+02,  5.20048873e+02,  3.97530762e+02,  2.91337517e+02,\n",
       "        2.01469136e+02,  1.27925620e+02,  7.07069687e+01,  2.98131823e+01,\n",
       "        5.24426079e+00, -2.99979594e+00,  5.08101214e+00,  2.94866850e+01,\n",
       "        7.02172227e+01,  1.27272625e+02,  2.00652893e+02,  2.90358025e+02,\n",
       "        3.96388022e+02,  5.18742883e+02,  6.57422610e+02,  8.12427201e+02,\n",
       "        9.83756657e+02,  1.17141098e+03,  1.37539016e+03,  1.59569421e+03,\n",
       "        1.83232313e+03,  2.08527691e+03,  2.35455556e+03,  2.64015907e+03,\n",
       "        2.94208744e+03,  3.26034068e+03,  3.59491878e+03,  3.94582175e+03,\n",
       "        4.31304959e+03,  4.69660229e+03,  5.09647985e+03,  5.51268228e+03,\n",
       "        5.94520957e+03,  6.39406173e+03,  6.85923875e+03,  7.34074064e+03,\n",
       "        7.83856739e+03,  8.35271901e+03,  8.88319549e+03,  9.42999684e+03,\n",
       "        9.99312305e+03,  1.05725741e+04,  1.11683501e+04,  1.17804509e+04,\n",
       "        1.24088765e+04,  1.30536271e+04,  1.37147025e+04,  1.43921027e+04,\n",
       "        1.50858279e+04,  1.57958779e+04,  1.65222527e+04,  1.72649525e+04,\n",
       "        1.80239770e+04,  1.87993265e+04,  1.95910008e+04,  2.03990000e+04])"
      ]
     },
     "execution_count": 18,
     "metadata": {},
     "output_type": "execute_result"
    }
   ],
   "source": [
    "Y"
   ]
  },
  {
   "cell_type": "code",
   "execution_count": 19,
   "metadata": {
    "colab": {
     "base_uri": "https://localhost:8080/",
     "height": 282
    },
    "id": "29wz3GTxH5Bh",
    "outputId": "d78287c5-2840-4693-80bb-dfd4c7a26fe2"
   },
   "outputs": [
    {
     "data": {
      "text/plain": [
       "[<matplotlib.lines.Line2D at 0x190d6076ad0>]"
      ]
     },
     "execution_count": 19,
     "metadata": {},
     "output_type": "execute_result"
    },
    {
     "data": {
      "image/png": "[encoded data removed]",
      "text/plain": [
       "<Figure size 432x288 with 1 Axes>"
      ]
     },
     "metadata": {
      "needs_background": "light"
     },
     "output_type": "display_data"
    }
   ],
   "source": [
    "import matplotlib.pyplot as plt\n",
    "\n",
    "plt.plot(X,Y)"
   ]
  },
  {
   "cell_type": "markdown",
   "metadata": {
    "id": "3RU98Um4w3l7"
   },
   "source": [
    "$m = \\frac {Δy} {Δx}$  atau \n",
    "$m = \\frac {diff (y)} {diff(x)}$\n"
   ]
  },
  {
   "cell_type": "code",
   "execution_count": 20,
   "metadata": {
    "id": "gf1FrqowILz1"
   },
   "outputs": [],
   "source": [
    "df1 = np.diff(Y)/np.diff(X)\n",
    "df2 = np.gradient(Y,X)\n"
   ]
  },
  {
   "cell_type": "code",
   "execution_count": 21,
   "metadata": {
    "colab": {
     "base_uri": "https://localhost:8080/",
     "height": 282
    },
    "id": "NWckUEh2H9q3",
    "outputId": "85e7c90f-caf2-40f9-922c-11e875368a39"
   },
   "outputs": [
    {
     "data": {
      "text/plain": [
       "[<matplotlib.lines.Line2D at 0x190d917ab90>]"
      ]
     },
     "execution_count": 21,
     "metadata": {},
     "output_type": "execute_result"
    },
    {
     "data": {
      "image/png": "[encoded data removed]",
      "text/plain": [
       "<Figure size 432x288 with 1 Axes>"
      ]
     },
     "metadata": {
      "needs_background": "light"
     },
     "output_type": "display_data"
    }
   ],
   "source": [
    "plt.plot(X[1:],df1)"
   ]
  },
  {
   "cell_type": "code",
   "execution_count": 22,
   "metadata": {
    "colab": {
     "base_uri": "https://localhost:8080/",
     "height": 282
    },
    "id": "iSGPB_5ZIdVb",
    "outputId": "135a8ba9-81fc-4f27-c155-02bde9859ad9"
   },
   "outputs": [
    {
     "data": {
      "text/plain": [
       "[<matplotlib.lines.Line2D at 0x190d9220220>]"
      ]
     },
     "execution_count": 22,
     "metadata": {},
     "output_type": "execute_result"
    },
    {
     "data": {
      "image/png": "[encoded data removed]",
      "text/plain": [
       "<Figure size 432x288 with 1 Axes>"
      ]
     },
     "metadata": {
      "needs_background": "light"
     },
     "output_type": "display_data"
    }
   ],
   "source": [
    "plt.plot(X,df2)"
   ]
  },
  {
   "cell_type": "markdown",
   "metadata": {
    "id": "aw_ihVmULl6J"
   },
   "source": [
    "### Optimisasi\n",
    "\n",
    "---\n",
    "- Diperuntukan untuk mencari nilai minimum dan maximum global\n",
    "- Diperuntukan untuk menghitung nilai error"
   ]
  },
  {
   "cell_type": "code",
   "execution_count": 23,
   "metadata": {
    "colab": {
     "base_uri": "https://localhost:8080/"
    },
    "id": "3oGSfrIgLnHi",
    "outputId": "76945c94-5db9-4707-ac81-49530dfa737b"
   },
   "outputs": [
    {
     "data": {
      "text/plain": [
       "     fun: -3.0\n",
       " message: '\\nOptimization terminated successfully;\\nThe returned value satisfies the termination criteria\\n(using xtol = 1.48e-08 )'\n",
       "    nfev: 9\n",
       "     nit: 4\n",
       " success: True\n",
       "       x: -1.0000000000000002"
      ]
     },
     "execution_count": 23,
     "metadata": {},
     "output_type": "execute_result"
    }
   ],
   "source": [
    "from scipy.optimize import minimize_scalar\n",
    "\n",
    "def f(x):\n",
    "  return 2*x**2+4*x-1\n",
    "\n",
    "opt=minimize_scalar(f)\n",
    "opt"
   ]
  },
  {
   "cell_type": "markdown",
   "metadata": {
    "id": "4UooK-GMzejF"
   },
   "source": [
    "**fun = y**\n",
    "\n",
    "nfev = number of function evaluation\n",
    "\n",
    "nit = number of iterations\n",
    "\n",
    "**x = variabel minimum global**"
   ]
  },
  {
   "cell_type": "code",
   "execution_count": 24,
   "metadata": {
    "colab": {
     "base_uri": "https://localhost:8080/"
    },
    "id": "LT0Y7CFI3ajP",
    "outputId": "2babcdab-7ecb-494f-c060-0644c30fc366"
   },
   "outputs": [
    {
     "data": {
      "text/plain": [
       "-1.0000000000000002"
      ]
     },
     "execution_count": 24,
     "metadata": {},
     "output_type": "execute_result"
    }
   ],
   "source": [
    "opt.x"
   ]
  },
  {
   "cell_type": "code",
   "execution_count": 25,
   "metadata": {
    "colab": {
     "base_uri": "https://localhost:8080/"
    },
    "id": "RB0ZmJzV8Ujz",
    "outputId": "3eac8f88-5cb3-4937-8fb8-8830dfe2269a"
   },
   "outputs": [
    {
     "data": {
      "text/plain": [
       "-3.0"
      ]
     },
     "execution_count": 25,
     "metadata": {},
     "output_type": "execute_result"
    }
   ],
   "source": [
    "opt.fun"
   ]
  },
  {
   "cell_type": "code",
   "execution_count": 26,
   "metadata": {
    "colab": {
     "base_uri": "https://localhost:8080/",
     "height": 286
    },
    "id": "ptRBdkU_1FgV",
    "outputId": "00f8d0a2-433b-40eb-9197-c8ee5b36aa45"
   },
   "outputs": [
    {
     "data": {
      "text/plain": [
       "[<matplotlib.lines.Line2D at 0x190f7bc9c60>]"
      ]
     },
     "execution_count": 26,
     "metadata": {},
     "output_type": "execute_result"
    },
    {
     "data": {
      "image/png": "[encoded data removed]",
      "text/plain": [
       "<Figure size 432x288 with 1 Axes>"
      ]
     },
     "metadata": {
      "needs_background": "light"
     },
     "output_type": "display_data"
    }
   ],
   "source": [
    "import matplotlib.pyplot as plt\n",
    "X1 = np.linspace(-10,10)\n",
    "Y1 = X1**3 - 6*X1**2 \n",
    "plt.plot(X1,Y1)"
   ]
  },
  {
   "cell_type": "code",
   "execution_count": 27,
   "metadata": {
    "colab": {
     "base_uri": "https://localhost:8080/"
    },
    "id": "JApwvkuyL_d8",
    "outputId": "9643ac05-6d70-484c-fe61-b367d41d6519"
   },
   "outputs": [
    {
     "data": {
      "text/plain": [
       "     fun: -32.0\n",
       " message: '\\nOptimization terminated successfully;\\nThe returned value satisfies the termination criteria\\n(using xtol = 1.48e-08 )'\n",
       "    nfev: 14\n",
       "     nit: 9\n",
       " success: True\n",
       "       x: 4.000000012405599"
      ]
     },
     "execution_count": 27,
     "metadata": {},
     "output_type": "execute_result"
    }
   ],
   "source": [
    "def f2(x):\n",
    "  return (x**3 - 6*x**2 )\n",
    "\n",
    "minimize_scalar(f2)"
   ]
  },
  {
   "cell_type": "code",
   "execution_count": 28,
   "metadata": {
    "colab": {
     "base_uri": "https://localhost:8080/",
     "height": 282
    },
    "id": "_ROcepeJAzNm",
    "outputId": "d7ae709b-2ae4-47af-c329-d0e0b5f159ba"
   },
   "outputs": [
    {
     "data": {
      "text/plain": [
       "[<matplotlib.lines.Line2D at 0x190f7c436a0>]"
      ]
     },
     "execution_count": 28,
     "metadata": {},
     "output_type": "execute_result"
    },
    {
     "data": {
      "image/png": "[encoded data removed]",
      "text/plain": [
       "<Figure size 432x288 with 1 Axes>"
      ]
     },
     "metadata": {
      "needs_background": "light"
     },
     "output_type": "display_data"
    }
   ],
   "source": [
    "X1 = np.linspace(-10,10)\n",
    "Y1 = X1**3 - 6*X1**2 + 9*X1 + 1\n",
    "plt.plot(X1,-Y1)"
   ]
  },
  {
   "cell_type": "markdown",
   "metadata": {
    "id": "uGvcBsiO1VGY"
   },
   "source": [
    "Scipy hanya memiliki minimize function untuk mencari nilai maximum (x) kalikan fungsi dengan -1"
   ]
  },
  {
   "cell_type": "code",
   "execution_count": 29,
   "metadata": {
    "colab": {
     "base_uri": "https://localhost:8080/"
    },
    "id": "YMJfSOdp9J8L",
    "outputId": "8a7b247e-d3e4-45fd-cd89-47ccc2375df5"
   },
   "outputs": [
    {
     "data": {
      "text/plain": [
       "     fun: -5.0\n",
       " message: '\\nOptimization terminated successfully;\\nThe returned value satisfies the termination criteria\\n(using xtol = 1.48e-08 )'\n",
       "    nfev: 13\n",
       "     nit: 9\n",
       " success: True\n",
       "       x: 0.99999998519"
      ]
     },
     "execution_count": 29,
     "metadata": {},
     "output_type": "execute_result"
    }
   ],
   "source": [
    "def f3(x):\n",
    "  return -(x**3 - 6*x**2 + 9*x + 1)\n",
    "\n",
    "minimize_scalar(f3)"
   ]
  },
  {
   "cell_type": "markdown",
   "metadata": {
    "id": "vKI2QlNb11jP"
   },
   "source": [
    "Kalikan kembali hasil fun (y) dengan -1 "
   ]
  },
  {
   "cell_type": "code",
   "execution_count": 30,
   "metadata": {
    "colab": {
     "base_uri": "https://localhost:8080/"
    },
    "id": "xrLAvSDzzgwN",
    "outputId": "7ffc9f68-2797-47bb-f20f-cd32504ea3ad"
   },
   "outputs": [
    {
     "name": "stdout",
     "output_type": "stream",
     "text": [
      "Global maximum: 5.0\n"
     ]
    }
   ],
   "source": [
    "print('Global maximum:',minimize_scalar(f3).fun*(-1))"
   ]
  },
  {
   "cell_type": "markdown",
   "metadata": {
    "id": "TbhqLB73rJva"
   },
   "source": [
    "## Turunan Parsial"
   ]
  },
  {
   "cell_type": "code",
   "execution_count": 31,
   "metadata": {
    "id": "k5KrsAWOdkFd"
   },
   "outputs": [],
   "source": [
    "import sympy as sy\n",
    "import numpy as np"
   ]
  },
  {
   "cell_type": "code",
   "execution_count": 32,
   "metadata": {
    "colab": {
     "base_uri": "https://localhost:8080/",
     "height": 39
    },
    "id": "sXJY76zGrLnw",
    "outputId": "d9ebcecf-f20c-4852-8549-d43bdcc2f9f6"
   },
   "outputs": [
    {
     "data": {
      "text/latex": [
       "$\\displaystyle x^{3} + 4 x y + x \\sin{\\left(z \\right)} + y z^{8}$"
      ],
      "text/plain": [
       "x**3 + 4*x*y + x*sin(z) + y*z**8"
      ]
     },
     "execution_count": 32,
     "metadata": {},
     "output_type": "execute_result"
    }
   ],
   "source": [
    "x,y,z = sy.symbols('x y z')\n",
    "f = 4*x*y + x*sy.sin(z) + x**3 + z**8*y\n",
    "f"
   ]
  },
  {
   "cell_type": "code",
   "execution_count": 33,
   "metadata": {
    "id": "BIUWY5RFYLxy"
   },
   "outputs": [],
   "source": [
    "x = sy.Symbol('x')\n",
    "y = sy.Symbol('y')\n",
    "z = sy.Symbol('z')"
   ]
  },
  {
   "cell_type": "code",
   "execution_count": 34,
   "metadata": {
    "colab": {
     "base_uri": "https://localhost:8080/",
     "height": 39
    },
    "id": "Xw9GcFZ3xdjB",
    "outputId": "e7b04d2d-75d6-4e48-92bb-049dabebc23e"
   },
   "outputs": [
    {
     "data": {
      "text/latex": [
       "$\\displaystyle 3 x^{2} + 4 y + \\sin{\\left(z \\right)}$"
      ],
      "text/plain": [
       "3*x**2 + 4*y + sin(z)"
      ]
     },
     "execution_count": 34,
     "metadata": {},
     "output_type": "execute_result"
    }
   ],
   "source": [
    "#Turunan parsial terhadap x\n",
    "sy.diff(f,x)"
   ]
  },
  {
   "cell_type": "code",
   "execution_count": 35,
   "metadata": {
    "colab": {
     "base_uri": "https://localhost:8080/",
     "height": 39
    },
    "id": "Evh0Z6mUxvLj",
    "outputId": "463b6b91-ce7f-4cf1-89f1-f78ad57dd34f"
   },
   "outputs": [
    {
     "data": {
      "text/latex": [
       "$\\displaystyle 4 x + z^{8}$"
      ],
      "text/plain": [
       "4*x + z**8"
      ]
     },
     "execution_count": 35,
     "metadata": {},
     "output_type": "execute_result"
    }
   ],
   "source": [
    "#Turunan parsial terhadap y\n",
    "sy.diff(f,y)"
   ]
  },
  {
   "cell_type": "code",
   "execution_count": 36,
   "metadata": {
    "colab": {
     "base_uri": "https://localhost:8080/",
     "height": 39
    },
    "id": "XTVyxCUDx6Ck",
    "outputId": "9891b1e7-fcee-4599-b458-62f356acdfce"
   },
   "outputs": [
    {
     "data": {
      "text/latex": [
       "$\\displaystyle x \\cos{\\left(z \\right)} + 8 y z^{7}$"
      ],
      "text/plain": [
       "x*cos(z) + 8*y*z**7"
      ]
     },
     "execution_count": 36,
     "metadata": {},
     "output_type": "execute_result"
    }
   ],
   "source": [
    "#Turunan parsial terhadap z\n",
    "f.diff(z)"
   ]
  },
  {
   "cell_type": "code",
   "execution_count": 37,
   "metadata": {
    "colab": {
     "base_uri": "https://localhost:8080/",
     "height": 39
    },
    "id": "oePh1W_wiwTc",
    "outputId": "97d3735e-1adb-4a59-9ef8-1663816a6775"
   },
   "outputs": [
    {
     "data": {
      "text/latex": [
       "$\\displaystyle 6 x$"
      ],
      "text/plain": [
       "6*x"
      ]
     },
     "execution_count": 37,
     "metadata": {},
     "output_type": "execute_result"
    }
   ],
   "source": [
    "#Second order dxx\n",
    "\n",
    "f.diff(x).diff(x)"
   ]
  },
  {
   "cell_type": "code",
   "execution_count": 38,
   "metadata": {
    "colab": {
     "base_uri": "https://localhost:8080/",
     "height": 37
    },
    "id": "UK-2IJhMi6wM",
    "outputId": "ab6c109c-dc51-4e4c-a79a-556622f5f68a"
   },
   "outputs": [
    {
     "data": {
      "text/latex": [
       "$\\displaystyle 4$"
      ],
      "text/plain": [
       "4"
      ]
     },
     "execution_count": 38,
     "metadata": {},
     "output_type": "execute_result"
    }
   ],
   "source": [
    "#Second order dyx\n",
    "f.diff(x).diff(y)"
   ]
  },
  {
   "cell_type": "markdown",
   "metadata": {
    "id": "zSK6nIw1yb8t"
   },
   "source": [
    "### Gradien"
   ]
  },
  {
   "cell_type": "code",
   "execution_count": 39,
   "metadata": {
    "colab": {
     "base_uri": "https://localhost:8080/",
     "height": 39
    },
    "id": "Rg1kctcJydYf",
    "outputId": "8aa363df-f46d-406e-ad2c-c23070fd6092"
   },
   "outputs": [
    {
     "data": {
      "text/latex": [
       "$\\displaystyle \\left[\\begin{matrix}3 x^{2} + 4 y + \\sin{\\left(z \\right)} & 4 x + z^{8} & x \\cos{\\left(z \\right)} + 8 y z^{7}\\end{matrix}\\right]$"
      ],
      "text/plain": [
       "[3*x**2 + 4*y + sin(z), 4*x + z**8, x*cos(z) + 8*y*z**7]"
      ]
     },
     "execution_count": 39,
     "metadata": {},
     "output_type": "execute_result"
    }
   ],
   "source": [
    "from sympy.tensor.array import derive_by_array\n",
    "grad = derive_by_array(f, (x,y,z))\n",
    "grad"
   ]
  },
  {
   "cell_type": "markdown",
   "metadata": {
    "id": "mYc1qWGN89AJ"
   },
   "source": [
    "Hasil turunan parsial ditampung ke dalam array"
   ]
  },
  {
   "cell_type": "markdown",
   "metadata": {
    "id": "71nMiQLOzDTA"
   },
   "source": [
    "### Jacobian"
   ]
  },
  {
   "cell_type": "markdown",
   "metadata": {
    "id": "NZFo-mPG-jQE"
   },
   "source": [
    "Contoh 1"
   ]
  },
  {
   "cell_type": "code",
   "execution_count": 40,
   "metadata": {
    "colab": {
     "base_uri": "https://localhost:8080/",
     "height": 58
    },
    "id": "982SzctuzErz",
    "outputId": "7db9e208-a307-4625-854a-7d38891b9da8"
   },
   "outputs": [
    {
     "data": {
      "text/latex": [
       "$\\displaystyle \\left[\\begin{matrix}x y + y\\\\2 x y - 2\\end{matrix}\\right]$"
      ],
      "text/plain": [
       "Matrix([\n",
       "[  x*y + y],\n",
       "[2*x*y - 2]])"
      ]
     },
     "execution_count": 40,
     "metadata": {},
     "output_type": "execute_result"
    }
   ],
   "source": [
    "f_jacob = sy.Matrix([x*y+y, 2*x*y-2]) #Inputannya berupa matrix\n",
    "f_jacob"
   ]
  },
  {
   "cell_type": "code",
   "execution_count": 41,
   "metadata": {
    "colab": {
     "base_uri": "https://localhost:8080/",
     "height": 58
    },
    "id": "-a55XkgnyZdj",
    "outputId": "f136a01c-aa4e-4cff-dffc-5512fbb19973"
   },
   "outputs": [
    {
     "data": {
      "text/latex": [
       "$\\displaystyle \\left[\\begin{matrix}y & x + 1\\\\2 y & 2 x\\end{matrix}\\right]$"
      ],
      "text/plain": [
       "Matrix([\n",
       "[  y, x + 1],\n",
       "[2*y,   2*x]])"
      ]
     },
     "execution_count": 41,
     "metadata": {},
     "output_type": "execute_result"
    }
   ],
   "source": [
    "par = sy.Matrix([x,y]) #Definisikan variabel nya ke dalam matrix\n",
    "f_jacob.jacobian(par)"
   ]
  },
  {
   "cell_type": "markdown",
   "metadata": {
    "id": "L9ARkuHM-m9E"
   },
   "source": [
    "Contoh 2"
   ]
  },
  {
   "cell_type": "code",
   "execution_count": 42,
   "metadata": {
    "colab": {
     "base_uri": "https://localhost:8080/",
     "height": 78
    },
    "id": "Tsqtb0b1ll81",
    "outputId": "85498070-cb57-4132-92e3-0fa785e4fe4c"
   },
   "outputs": [
    {
     "data": {
      "text/latex": [
       "$\\displaystyle \\left[\\begin{matrix}3 x^{2} + 4 y + \\sin{\\left(z \\right)}\\\\4 x + z^{8}\\\\x \\cos{\\left(z \\right)} + 8 y z^{7}\\end{matrix}\\right]$"
      ],
      "text/plain": [
       "Matrix([\n",
       "[3*x**2 + 4*y + sin(z)],\n",
       "[           4*x + z**8],\n",
       "[  x*cos(z) + 8*y*z**7]])"
      ]
     },
     "execution_count": 42,
     "metadata": {},
     "output_type": "execute_result"
    }
   ],
   "source": [
    "sy.Matrix(grad) #Persamaan yang gradien"
   ]
  },
  {
   "cell_type": "code",
   "execution_count": 43,
   "metadata": {
    "colab": {
     "base_uri": "https://localhost:8080/",
     "height": 78
    },
    "id": "DJbHNESia3cg",
    "outputId": "de6174df-e32a-44ee-b9ae-b46e7e0043b1"
   },
   "outputs": [
    {
     "data": {
      "text/latex": [
       "$\\displaystyle \\left[\\begin{matrix}6 x & 4 & \\cos{\\left(z \\right)}\\\\4 & 0 & 8 z^{7}\\\\\\cos{\\left(z \\right)} & 8 z^{7} & - x \\sin{\\left(z \\right)} + 56 y z^{6}\\end{matrix}\\right]$"
      ],
      "text/plain": [
       "Matrix([\n",
       "[   6*x,      4,                cos(z)],\n",
       "[     4,      0,                8*z**7],\n",
       "[cos(z), 8*z**7, -x*sin(z) + 56*y*z**6]])"
      ]
     },
     "execution_count": 43,
     "metadata": {},
     "output_type": "execute_result"
    }
   ],
   "source": [
    "matrix_grad = sy.Matrix(grad)\n",
    "vars = sy.Matrix([x,y,z])\n",
    "matrix_grad.jacobian(vars)"
   ]
  },
  {
   "cell_type": "code",
   "execution_count": 44,
   "metadata": {
    "colab": {
     "base_uri": "https://localhost:8080/",
     "height": 78
    },
    "id": "33PJbMBazeN0",
    "outputId": "cb1f026a-246e-49b8-9861-b6915e8c04a9"
   },
   "outputs": [
    {
     "data": {
      "text/latex": [
       "$\\displaystyle \\left[\\begin{matrix}6 x & 4 & \\cos{\\left(z \\right)}\\\\4 & 0 & 8 z^{7}\\\\\\cos{\\left(z \\right)} & 8 z^{7} & - x \\sin{\\left(z \\right)} + 56 y z^{6}\\end{matrix}\\right]$"
      ],
      "text/plain": [
       "Matrix([\n",
       "[   6*x,      4,                cos(z)],\n",
       "[     4,      0,                8*z**7],\n",
       "[cos(z), 8*z**7, -x*sin(z) + 56*y*z**6]])"
      ]
     },
     "execution_count": 44,
     "metadata": {},
     "output_type": "execute_result"
    }
   ],
   "source": [
    "sy.Matrix(grad).jacobian(sy.Matrix([x,y,z]))"
   ]
  },
  {
   "cell_type": "markdown",
   "metadata": {
    "id": "43eQ4YZM0V-6"
   },
   "source": [
    "### Hessian"
   ]
  },
  {
   "cell_type": "code",
   "execution_count": 45,
   "metadata": {
    "colab": {
     "base_uri": "https://localhost:8080/",
     "height": 39
    },
    "id": "vNbYxfYTeb3p",
    "outputId": "1cb6cd51-e86b-46c1-b61c-86a54db4081f"
   },
   "outputs": [
    {
     "data": {
      "text/latex": [
       "$\\displaystyle x^{3} + 4 x y + x \\sin{\\left(z \\right)} + y z^{8}$"
      ],
      "text/plain": [
       "x**3 + 4*x*y + x*sin(z) + y*z**8"
      ]
     },
     "execution_count": 45,
     "metadata": {},
     "output_type": "execute_result"
    }
   ],
   "source": [
    "f"
   ]
  },
  {
   "cell_type": "code",
   "execution_count": 46,
   "metadata": {
    "colab": {
     "base_uri": "https://localhost:8080/",
     "height": 78
    },
    "id": "OZKbFjfZ0XBW",
    "outputId": "dbc42492-7687-4c83-8a0e-9a01e8e2ce33"
   },
   "outputs": [
    {
     "data": {
      "text/latex": [
       "$\\displaystyle \\left[\\begin{matrix}6 x & 4 & \\cos{\\left(z \\right)}\\\\4 & 0 & 8 z^{7}\\\\\\cos{\\left(z \\right)} & 8 z^{7} & - x \\sin{\\left(z \\right)} + 56 y z^{6}\\end{matrix}\\right]$"
      ],
      "text/plain": [
       "Matrix([\n",
       "[   6*x,      4,                cos(z)],\n",
       "[     4,      0,                8*z**7],\n",
       "[cos(z), 8*z**7, -x*sin(z) + 56*y*z**6]])"
      ]
     },
     "execution_count": 46,
     "metadata": {},
     "output_type": "execute_result"
    }
   ],
   "source": [
    "sy.hessian(f,(x,y,z))"
   ]
  },
  {
   "cell_type": "markdown",
   "metadata": {
    "id": "hHAWez6S2wG6"
   },
   "source": [
    "## Turunan Parsial Numerik"
   ]
  },
  {
   "cell_type": "code",
   "execution_count": 47,
   "metadata": {
    "id": "cYahfqx72ywd"
   },
   "outputs": [],
   "source": [
    "import numpy as np\n",
    "\n",
    "def f(x,y): \n",
    "  return x**2*y+2*x**3*y+y**5\n",
    "\n",
    "x=np.linspace(1,10)\n",
    "y=np.linspace(1,10)\n",
    "\n",
    "#Mengkombinasikan semua kemungkinan dan di pack ke dalam matrix\n",
    "z=np.array( [[f(i,j) for i in x] for j in y] )\n",
    "\n",
    "#Ada 2 output do x dan do y\n",
    "dx,dy=np.gradient(z)"
   ]
  },
  {
   "cell_type": "code",
   "execution_count": 48,
   "metadata": {
    "colab": {
     "base_uri": "https://localhost:8080/"
    },
    "id": "JLPQOhb5r0mT",
    "outputId": "c00a5762-2a72-49f4-a4e3-47d88a2065df"
   },
   "outputs": [
    {
     "data": {
      "text/plain": [
       "array([ 1.        ,  1.18367347,  1.36734694,  1.55102041,  1.73469388,\n",
       "        1.91836735,  2.10204082,  2.28571429,  2.46938776,  2.65306122,\n",
       "        2.83673469,  3.02040816,  3.20408163,  3.3877551 ,  3.57142857,\n",
       "        3.75510204,  3.93877551,  4.12244898,  4.30612245,  4.48979592,\n",
       "        4.67346939,  4.85714286,  5.04081633,  5.2244898 ,  5.40816327,\n",
       "        5.59183673,  5.7755102 ,  5.95918367,  6.14285714,  6.32653061,\n",
       "        6.51020408,  6.69387755,  6.87755102,  7.06122449,  7.24489796,\n",
       "        7.42857143,  7.6122449 ,  7.79591837,  7.97959184,  8.16326531,\n",
       "        8.34693878,  8.53061224,  8.71428571,  8.89795918,  9.08163265,\n",
       "        9.26530612,  9.44897959,  9.63265306,  9.81632653, 10.        ])"
      ]
     },
     "execution_count": 48,
     "metadata": {},
     "output_type": "execute_result"
    }
   ],
   "source": [
    "x"
   ]
  },
  {
   "cell_type": "code",
   "execution_count": 49,
   "metadata": {
    "colab": {
     "base_uri": "https://localhost:8080/"
    },
    "id": "hGVG0Kb3r5oz",
    "outputId": "a17bda5e-6b21-46c9-82f2-bce30badd81f"
   },
   "outputs": [
    {
     "data": {
      "text/plain": [
       "array([ 1.        ,  1.18367347,  1.36734694,  1.55102041,  1.73469388,\n",
       "        1.91836735,  2.10204082,  2.28571429,  2.46938776,  2.65306122,\n",
       "        2.83673469,  3.02040816,  3.20408163,  3.3877551 ,  3.57142857,\n",
       "        3.75510204,  3.93877551,  4.12244898,  4.30612245,  4.48979592,\n",
       "        4.67346939,  4.85714286,  5.04081633,  5.2244898 ,  5.40816327,\n",
       "        5.59183673,  5.7755102 ,  5.95918367,  6.14285714,  6.32653061,\n",
       "        6.51020408,  6.69387755,  6.87755102,  7.06122449,  7.24489796,\n",
       "        7.42857143,  7.6122449 ,  7.79591837,  7.97959184,  8.16326531,\n",
       "        8.34693878,  8.53061224,  8.71428571,  8.89795918,  9.08163265,\n",
       "        9.26530612,  9.44897959,  9.63265306,  9.81632653, 10.        ])"
      ]
     },
     "execution_count": 49,
     "metadata": {},
     "output_type": "execute_result"
    }
   ],
   "source": [
    "y"
   ]
  },
  {
   "cell_type": "code",
   "execution_count": 50,
   "metadata": {
    "colab": {
     "base_uri": "https://localhost:8080/"
    },
    "id": "HjUxT8-7hFfJ",
    "outputId": "80c370e5-70e3-45cb-b7b3-8fe9a628a04e"
   },
   "outputs": [
    {
     "data": {
      "text/plain": [
       "array([[4.00000000e+00, 5.71793215e+00, 7.98252429e+00, ...,\n",
       "        1.88137733e+03, 1.98916795e+03, 2.10100000e+03],\n",
       "       [5.87461078e+00, 7.90808149e+00, 1.05886191e+01, ...,\n",
       "        2.22807634e+03, 2.35566524e+03, 2.48803788e+03],\n",
       "       [8.88166350e+00, 1.12306728e+01, 1.43271559e+01, ...,\n",
       "        2.57590780e+03, 2.72329498e+03, 2.87620819e+03],\n",
       "       ...,\n",
       "       [8.29623214e+04, 8.29788696e+04, 8.30006836e+04, ...,\n",
       "        1.01046446e+05, 1.02084755e+05, 1.03161995e+05],\n",
       "       [9.11769952e+04, 9.11938590e+04, 9.12160890e+04, ...,\n",
       "        1.09605944e+05, 1.10664052e+05, 1.11761832e+05],\n",
       "       [1.00030000e+05, 1.00047179e+05, 1.00069825e+05, ...,\n",
       "        1.18803773e+05, 1.19881679e+05, 1.21000000e+05]])"
      ]
     },
     "execution_count": 50,
     "metadata": {},
     "output_type": "execute_result"
    }
   ],
   "source": [
    "z"
   ]
  },
  {
   "cell_type": "code",
   "execution_count": 51,
   "metadata": {
    "colab": {
     "base_uri": "https://localhost:8080/"
    },
    "id": "2gYI7RP4dvkU",
    "outputId": "493cde48-0b8b-4bf5-ad0d-5756e8af95aa"
   },
   "outputs": [
    {
     "data": {
      "text/plain": [
       "array([[4.00000000e+00, 5.87461078e+00, 8.88166350e+00, ...,\n",
       "        8.29623214e+04, 9.11769952e+04, 1.00030000e+05],\n",
       "       [5.71793215e+00, 7.90808149e+00, 1.12306728e+01, ...,\n",
       "        8.29788696e+04, 9.11938590e+04, 1.00047179e+05],\n",
       "       [7.98252429e+00, 1.05886191e+01, 1.43271559e+01, ...,\n",
       "        8.30006836e+04, 9.12160890e+04, 1.00069825e+05],\n",
       "       ...,\n",
       "       [1.88137733e+03, 2.22807634e+03, 2.57590780e+03, ...,\n",
       "        1.01046446e+05, 1.09605944e+05, 1.18803773e+05],\n",
       "       [1.98916795e+03, 2.35566524e+03, 2.72329498e+03, ...,\n",
       "        1.02084755e+05, 1.10664052e+05, 1.19881679e+05],\n",
       "       [2.10100000e+03, 2.48803788e+03, 2.87620819e+03, ...,\n",
       "        1.03161995e+05, 1.11761832e+05, 1.21000000e+05]])"
      ]
     },
     "execution_count": 51,
     "metadata": {},
     "output_type": "execute_result"
    }
   ],
   "source": [
    "z = []\n",
    "\n",
    "for i in x:\n",
    "  tmp = []\n",
    "  for j in y:\n",
    "    tmp.append(f(i,j))\n",
    "  z.append(tmp)\n",
    "z = np.array(z)\n",
    "z"
   ]
  },
  {
   "cell_type": "code",
   "execution_count": 52,
   "metadata": {
    "colab": {
     "base_uri": "https://localhost:8080/"
    },
    "id": "wRuEybYwY6Ij",
    "outputId": "fcd5c933-1d7d-41fa-98cf-dc2015550aed"
   },
   "outputs": [
    {
     "data": {
      "text/plain": [
       "(50, 50)"
      ]
     },
     "execution_count": 52,
     "metadata": {},
     "output_type": "execute_result"
    }
   ],
   "source": [
    "z.shape"
   ]
  },
  {
   "cell_type": "code",
   "execution_count": 53,
   "metadata": {
    "colab": {
     "base_uri": "https://localhost:8080/"
    },
    "id": "DgLgdBMT3LIe",
    "outputId": "46f60f23-7372-4e2a-9bee-6f9dbff4db28"
   },
   "outputs": [
    {
     "data": {
      "text/plain": [
       "array([[1.87461078e+00, 2.19014934e+00, 2.60609483e+00, ...,\n",
       "        3.46699018e+02, 3.66497295e+02, 3.87037876e+02],\n",
       "       [2.44083175e+00, 2.75637031e+00, 3.17231580e+00, ...,\n",
       "        3.47265239e+02, 3.67063516e+02, 3.87604097e+02],\n",
       "       [3.87727397e+00, 4.19281253e+00, 4.60875803e+00, ...,\n",
       "        3.48701681e+02, 3.68499958e+02, 3.89040539e+02],\n",
       "       ...,\n",
       "       [7.91308899e+03, 7.91340453e+03, 7.91382048e+03, ...,\n",
       "        8.25791340e+03, 8.27771168e+03, 8.29825226e+03],\n",
       "       [8.53383931e+03, 8.53415485e+03, 8.53457080e+03, ...,\n",
       "        8.87866372e+03, 8.89846200e+03, 8.91900258e+03],\n",
       "       [8.85300476e+03, 8.85332030e+03, 8.85373624e+03, ...,\n",
       "        9.19782916e+03, 9.21762744e+03, 9.23816802e+03]])"
      ]
     },
     "execution_count": 53,
     "metadata": {},
     "output_type": "execute_result"
    }
   ],
   "source": [
    "dx"
   ]
  },
  {
   "cell_type": "code",
   "execution_count": 54,
   "metadata": {
    "colab": {
     "base_uri": "https://localhost:8080/"
    },
    "id": "usGt41H23Nw0",
    "outputId": "dc97b5f0-65d9-40f7-ee86-3c79a0761e35"
   },
   "outputs": [
    {
     "data": {
      "text/plain": [
       "array([[   1.71793215,    1.99126214,    2.57510051, ...,  105.80708718,\n",
       "         109.81133711,  111.83205127],\n",
       "       [   2.03347071,    2.35700417,    3.04807816, ...,  125.24104197,\n",
       "         129.98076638,  132.37263212],\n",
       "       [   2.34900927,    2.7227462 ,    3.5210558 , ...,  144.67499676,\n",
       "         150.15019564,  152.91321296],\n",
       "       ...,\n",
       "       [  16.54824442,   19.18113739,   24.80504982, ..., 1019.20296225,\n",
       "        1057.7745126 , 1077.23935102],\n",
       "       [  16.86378298,   19.54687942,   25.27802746, ..., 1038.63691704,\n",
       "        1077.94394186, 1097.77993187],\n",
       "       [  17.17932154,   19.91262144,   25.75100511, ..., 1058.07087183,\n",
       "        1098.11337113, 1118.32051271]])"
      ]
     },
     "execution_count": 54,
     "metadata": {},
     "output_type": "execute_result"
    }
   ],
   "source": [
    "dy"
   ]
  },
  {
   "cell_type": "code",
   "execution_count": 55,
   "metadata": {
    "colab": {
     "base_uri": "https://localhost:8080/",
     "height": 353
    },
    "id": "F0sFAaGs3XgA",
    "outputId": "6a1e42a2-25d2-4b30-c243-cf43e8dbea4a"
   },
   "outputs": [
    {
     "data": {
      "text/plain": [
       "Text(0.5, 1.0, 'dy')"
      ]
     },
     "execution_count": 55,
     "metadata": {},
     "output_type": "execute_result"
    },
    {
     "data": {
      "image/png": "[encoded data removed]",
      "text/plain": [
       "<Figure size 1224x360 with 3 Axes>"
      ]
     },
     "metadata": {
      "needs_background": "light"
     },
     "output_type": "display_data"
    }
   ],
   "source": [
    "#Plot z,dx,dy yang dianggap sebagai sebuah gambar\n",
    "\n",
    "fig, ax = plt.subplots(ncols=3,figsize=(17,5))\n",
    "ax[0].imshow(z)\n",
    "ax[0].set_title('f(x,y)')\n",
    "ax[1].imshow(dx)\n",
    "ax[1].set_title('dx')\n",
    "ax[2].imshow(dy)\n",
    "ax[2].set_title('dy')"
   ]
  },
  {
   "cell_type": "code",
   "execution_count": 56,
   "metadata": {
    "colab": {
     "base_uri": "https://localhost:8080/",
     "height": 278
    },
    "id": "zdOiLsZ83c02",
    "outputId": "95ff57ae-191d-424d-8b9b-92519915ae53"
   },
   "outputs": [
    {
     "ename": "FileNotFoundError",
     "evalue": "[Errno 2] No such file or directory: '2-4.jpg'",
     "output_type": "error",
     "traceback": [
      "\u001b[1;31m---------------------------------------------------------------------------\u001b[0m",
      "\u001b[1;31mFileNotFoundError\u001b[0m                         Traceback (most recent call last)",
      "Input \u001b[1;32mIn [56]\u001b[0m, in \u001b[0;36m<cell line: 1>\u001b[1;34m()\u001b[0m\n\u001b[1;32m----> 1\u001b[0m gambar \u001b[38;5;241m=\u001b[39m \u001b[43mplt\u001b[49m\u001b[38;5;241;43m.\u001b[39;49m\u001b[43mimread\u001b[49m\u001b[43m(\u001b[49m\u001b[38;5;124;43m'\u001b[39;49m\u001b[38;5;124;43m2-4.jpg\u001b[39;49m\u001b[38;5;124;43m'\u001b[39;49m\u001b[43m)\u001b[49m\n\u001b[0;32m      2\u001b[0m R \u001b[38;5;241m=\u001b[39m gambar[:,:,\u001b[38;5;241m0\u001b[39m]\n\u001b[0;32m      3\u001b[0m plt\u001b[38;5;241m.\u001b[39mimshow(R)\n",
      "File \u001b[1;32m~\\AppData\\Local\\Programs\\Python\\Python310\\lib\\site-packages\\matplotlib\\pyplot.py:2160\u001b[0m, in \u001b[0;36mimread\u001b[1;34m(fname, format)\u001b[0m\n\u001b[0;32m   2158\u001b[0m \u001b[38;5;129m@_copy_docstring_and_deprecators\u001b[39m(matplotlib\u001b[38;5;241m.\u001b[39mimage\u001b[38;5;241m.\u001b[39mimread)\n\u001b[0;32m   2159\u001b[0m \u001b[38;5;28;01mdef\u001b[39;00m \u001b[38;5;21mimread\u001b[39m(fname, \u001b[38;5;28mformat\u001b[39m\u001b[38;5;241m=\u001b[39m\u001b[38;5;28;01mNone\u001b[39;00m):\n\u001b[1;32m-> 2160\u001b[0m     \u001b[38;5;28;01mreturn\u001b[39;00m \u001b[43mmatplotlib\u001b[49m\u001b[38;5;241;43m.\u001b[39;49m\u001b[43mimage\u001b[49m\u001b[38;5;241;43m.\u001b[39;49m\u001b[43mimread\u001b[49m\u001b[43m(\u001b[49m\u001b[43mfname\u001b[49m\u001b[43m,\u001b[49m\u001b[43m \u001b[49m\u001b[38;5;28;43mformat\u001b[39;49m\u001b[43m)\u001b[49m\n",
      "File \u001b[1;32m~\\AppData\\Local\\Programs\\Python\\Python310\\lib\\site-packages\\matplotlib\\image.py:1560\u001b[0m, in \u001b[0;36mimread\u001b[1;34m(fname, format)\u001b[0m\n\u001b[0;32m   1558\u001b[0m                 response \u001b[38;5;241m=\u001b[39m io\u001b[38;5;241m.\u001b[39mBytesIO(response\u001b[38;5;241m.\u001b[39mread())\n\u001b[0;32m   1559\u001b[0m             \u001b[38;5;28;01mreturn\u001b[39;00m imread(response, \u001b[38;5;28mformat\u001b[39m\u001b[38;5;241m=\u001b[39mext)\n\u001b[1;32m-> 1560\u001b[0m \u001b[38;5;28;01mwith\u001b[39;00m \u001b[43mimg_open\u001b[49m\u001b[43m(\u001b[49m\u001b[43mfname\u001b[49m\u001b[43m)\u001b[49m \u001b[38;5;28;01mas\u001b[39;00m image:\n\u001b[0;32m   1561\u001b[0m     \u001b[38;5;28;01mreturn\u001b[39;00m (_pil_png_to_float_array(image)\n\u001b[0;32m   1562\u001b[0m             \u001b[38;5;28;01mif\u001b[39;00m \u001b[38;5;28misinstance\u001b[39m(image, PIL\u001b[38;5;241m.\u001b[39mPngImagePlugin\u001b[38;5;241m.\u001b[39mPngImageFile) \u001b[38;5;28;01melse\u001b[39;00m\n\u001b[0;32m   1563\u001b[0m             pil_to_array(image))\n",
      "File \u001b[1;32m~\\AppData\\Local\\Programs\\Python\\Python310\\lib\\site-packages\\PIL\\Image.py:3068\u001b[0m, in \u001b[0;36mopen\u001b[1;34m(fp, mode, formats)\u001b[0m\n\u001b[0;32m   3065\u001b[0m     filename \u001b[38;5;241m=\u001b[39m fp\n\u001b[0;32m   3067\u001b[0m \u001b[38;5;28;01mif\u001b[39;00m filename:\n\u001b[1;32m-> 3068\u001b[0m     fp \u001b[38;5;241m=\u001b[39m \u001b[43mbuiltins\u001b[49m\u001b[38;5;241;43m.\u001b[39;49m\u001b[43mopen\u001b[49m\u001b[43m(\u001b[49m\u001b[43mfilename\u001b[49m\u001b[43m,\u001b[49m\u001b[43m \u001b[49m\u001b[38;5;124;43m\"\u001b[39;49m\u001b[38;5;124;43mrb\u001b[39;49m\u001b[38;5;124;43m\"\u001b[39;49m\u001b[43m)\u001b[49m\n\u001b[0;32m   3069\u001b[0m     exclusive_fp \u001b[38;5;241m=\u001b[39m \u001b[38;5;28;01mTrue\u001b[39;00m\n\u001b[0;32m   3071\u001b[0m \u001b[38;5;28;01mtry\u001b[39;00m:\n",
      "\u001b[1;31mFileNotFoundError\u001b[0m: [Errno 2] No such file or directory: '2-4.jpg'"
     ]
    }
   ],
   "source": [
    "gambar = plt.imread('2-4.jpg')\n",
    "R = gambar[:,:,0]\n",
    "plt.imshow(R)"
   ]
  },
  {
   "cell_type": "code",
   "execution_count": null,
   "metadata": {
    "colab": {
     "base_uri": "https://localhost:8080/"
    },
    "id": "lTK29iQsqhJd",
    "outputId": "1c5718ed-70cf-4075-a5ef-4296403c3977"
   },
   "outputs": [],
   "source": [
    "gambar.shape"
   ]
  },
  {
   "cell_type": "code",
   "execution_count": null,
   "metadata": {
    "colab": {
     "base_uri": "https://localhost:8080/"
    },
    "id": "G-SP1s9aqTIj",
    "outputId": "549dd6df-257c-45de-ecf5-48d2351ba3be"
   },
   "outputs": [],
   "source": [
    "R"
   ]
  },
  {
   "cell_type": "code",
   "execution_count": null,
   "metadata": {
    "colab": {
     "base_uri": "https://localhost:8080/",
     "height": 285
    },
    "id": "bzMTOuZS3pE1",
    "outputId": "670a49dc-8747-454d-d7b4-56cd49ef2d8a"
   },
   "outputs": [],
   "source": [
    "R_dx,R_dy = np.gradient(R)\n",
    "\n",
    "fig, ax = plt.subplots(ncols=3,figsize=(21,5))\n",
    "ax[0].imshow(R)\n",
    "ax[0].set_title('Gambar Filter R')\n",
    "ax[1].imshow(R_dx)\n",
    "ax[1].set_title('dx')\n",
    "ax[2].imshow(R_dy)\n",
    "ax[2].set_title('dy')"
   ]
  },
  {
   "cell_type": "markdown",
   "metadata": {
    "id": "7fHvXl-UCQsl"
   },
   "source": [
    "Gradient dapat melihat tekstur dari sebuah gambar"
   ]
  },
  {
   "cell_type": "code",
   "execution_count": null,
   "metadata": {
    "colab": {
     "base_uri": "https://localhost:8080/"
    },
    "id": "j8gfFstjicHN",
    "outputId": "9d7a252a-e632-4c0d-8932-0ca34f7c7c58"
   },
   "outputs": [],
   "source": [
    "R.shape"
   ]
  },
  {
   "cell_type": "markdown",
   "metadata": {
    "id": "ET9K8XDJ5yW6"
   },
   "source": [
    "# Integral\n",
    "\n",
    "### Symbol"
   ]
  },
  {
   "cell_type": "code",
   "execution_count": 57,
   "metadata": {
    "colab": {
     "base_uri": "https://localhost:8080/",
     "height": 39
    },
    "id": "OlBasGSo5z3a",
    "outputId": "7478213d-ee44-46b8-d1b3-58219d256afc"
   },
   "outputs": [
    {
     "data": {
      "text/latex": [
       "$\\displaystyle 2 x^{2} + 4 x - 1$"
      ],
      "text/plain": [
       "2*x**2 + 4*x - 1"
      ]
     },
     "execution_count": 57,
     "metadata": {},
     "output_type": "execute_result"
    }
   ],
   "source": [
    "import sympy as sy\n",
    "\n",
    "x = sy.Symbol('x')\n",
    "f = 2*x**2+4*x-1\n",
    "f"
   ]
  },
  {
   "cell_type": "code",
   "execution_count": 58,
   "metadata": {
    "colab": {
     "base_uri": "https://localhost:8080/",
     "height": 54
    },
    "id": "p9JDvTVNDVsX",
    "outputId": "582733fb-a77b-440a-e252-6b1d95b60e10"
   },
   "outputs": [
    {
     "data": {
      "text/latex": [
       "$\\displaystyle \\frac{2 x^{3}}{3} + 2 x^{2} - x$"
      ],
      "text/plain": [
       "2*x**3/3 + 2*x**2 - x"
      ]
     },
     "execution_count": 58,
     "metadata": {},
     "output_type": "execute_result"
    }
   ],
   "source": [
    "sy.integrate(f)"
   ]
  },
  {
   "cell_type": "code",
   "execution_count": 59,
   "metadata": {
    "colab": {
     "base_uri": "https://localhost:8080/"
    },
    "id": "RdbmKCPv217b",
    "outputId": "c2553b06-c0dd-4833-cf82-1c3894b2b2fe"
   },
   "outputs": [
    {
     "data": {
      "text/plain": [
       "116.99999999999999"
      ]
     },
     "execution_count": 59,
     "metadata": {},
     "output_type": "execute_result"
    }
   ],
   "source": [
    "def integral_f(x):\n",
    "  return (2/3)*x**3 + 2*x**2 - x\n",
    "\n",
    "#Integral tertentu dari f(x) dari 2 - 5\n",
    "integral_f(5) - integral_f(2)"
   ]
  },
  {
   "cell_type": "markdown",
   "metadata": {
    "id": "iVqYptPvEGOK"
   },
   "source": [
    "### Numeric - Fungsi"
   ]
  },
  {
   "cell_type": "code",
   "execution_count": 60,
   "metadata": {
    "colab": {
     "base_uri": "https://localhost:8080/"
    },
    "id": "f-grQcolEJ1o",
    "outputId": "0a3c9c4f-1194-4bde-ea77-07e6028f1e34"
   },
   "outputs": [
    {
     "name": "stdout",
     "output_type": "stream",
     "text": [
      "117.0\n"
     ]
    }
   ],
   "source": [
    "from scipy import integrate\n",
    "\n",
    "def f(x):\n",
    "  return 2*x**2+4*x-1\n",
    "  \n",
    "A = integrate.quad(f,2,5)\n",
    "print(A[0])"
   ]
  },
  {
   "cell_type": "code",
   "execution_count": 61,
   "metadata": {
    "colab": {
     "base_uri": "https://localhost:8080/"
    },
    "id": "ER9T0Ub1LuLO",
    "outputId": "731f8b1e-d29c-4046-a2f9-e717b466c3e4"
   },
   "outputs": [
    {
     "data": {
      "text/plain": [
       "(117.0, 1.2989609388114332e-12)"
      ]
     },
     "execution_count": 61,
     "metadata": {},
     "output_type": "execute_result"
    }
   ],
   "source": [
    "A"
   ]
  },
  {
   "cell_type": "markdown",
   "metadata": {
    "id": "EiuTYeFpEnYi"
   },
   "source": [
    "### Numeric - Data/Array"
   ]
  },
  {
   "cell_type": "code",
   "execution_count": 62,
   "metadata": {
    "colab": {
     "base_uri": "https://localhost:8080/"
    },
    "id": "GZyRvM98FMgS",
    "outputId": "04969d92-9d8d-4546-96ec-c6f01c3ee73c"
   },
   "outputs": [
    {
     "data": {
      "text/plain": [
       "117.00374843815077"
      ]
     },
     "execution_count": 62,
     "metadata": {},
     "output_type": "execute_result"
    }
   ],
   "source": [
    "from scipy import integrate\n",
    "import numpy as np\n",
    "\n",
    "def f(x):\n",
    "  return 2*x**2+4*x-1\n",
    "\n",
    "x = np.linspace(2,5)\n",
    "y = f(x)\n",
    "\n",
    "A = integrate.trapz(y,x) #trapezoid\n",
    "A"
   ]
  },
  {
   "cell_type": "code",
   "execution_count": 63,
   "metadata": {
    "colab": {
     "base_uri": "https://localhost:8080/"
    },
    "id": "my4nZt-cq2fF",
    "outputId": "2996ff4b-36a1-4c3c-8ebf-996c61c48956"
   },
   "outputs": [
    {
     "data": {
      "text/plain": [
       "array([2.        , 2.06122449, 2.12244898, 2.18367347, 2.24489796,\n",
       "       2.30612245, 2.36734694, 2.42857143, 2.48979592, 2.55102041,\n",
       "       2.6122449 , 2.67346939, 2.73469388, 2.79591837, 2.85714286,\n",
       "       2.91836735, 2.97959184, 3.04081633, 3.10204082, 3.16326531,\n",
       "       3.2244898 , 3.28571429, 3.34693878, 3.40816327, 3.46938776,\n",
       "       3.53061224, 3.59183673, 3.65306122, 3.71428571, 3.7755102 ,\n",
       "       3.83673469, 3.89795918, 3.95918367, 4.02040816, 4.08163265,\n",
       "       4.14285714, 4.20408163, 4.26530612, 4.32653061, 4.3877551 ,\n",
       "       4.44897959, 4.51020408, 4.57142857, 4.63265306, 4.69387755,\n",
       "       4.75510204, 4.81632653, 4.87755102, 4.93877551, 5.        ])"
      ]
     },
     "execution_count": 63,
     "metadata": {},
     "output_type": "execute_result"
    }
   ],
   "source": [
    "x"
   ]
  },
  {
   "cell_type": "code",
   "execution_count": 64,
   "metadata": {
    "colab": {
     "base_uri": "https://localhost:8080/"
    },
    "id": "TjZwRd3Aq3Us",
    "outputId": "e9583d15-8298-4cea-b0c5-e8cc710e8b47"
   },
   "outputs": [
    {
     "data": {
      "text/plain": [
       "array([15.        , 15.74219075, 16.49937526, 17.27155352, 18.05872553,\n",
       "       18.8608913 , 19.67805081, 20.51020408, 21.3573511 , 22.21949188,\n",
       "       23.09662641, 23.98875469, 24.89587672, 25.8179925 , 26.75510204,\n",
       "       27.70720533, 28.67430237, 29.65639317, 30.65347772, 31.66555602,\n",
       "       32.69262807, 33.73469388, 34.79175344, 35.86380675, 36.95085381,\n",
       "       38.05289463, 39.1699292 , 40.30195752, 41.44897959, 42.61099542,\n",
       "       43.788005  , 44.98000833, 46.18700541, 47.40899625, 48.64598084,\n",
       "       49.89795918, 51.16493128, 52.44689713, 53.74385673, 55.05581008,\n",
       "       56.38275718, 57.72469804, 59.08163265, 60.45356102, 61.84048313,\n",
       "       63.242399  , 64.65930862, 66.091212  , 67.53810912, 69.        ])"
      ]
     },
     "execution_count": 64,
     "metadata": {},
     "output_type": "execute_result"
    }
   ],
   "source": [
    "y"
   ]
  },
  {
   "cell_type": "code",
   "execution_count": 65,
   "metadata": {
    "colab": {
     "base_uri": "https://localhost:8080/",
     "height": 372
    },
    "id": "pQfhlSVMIxTp",
    "outputId": "304bc3a0-c197-48b5-9bc7-900639bdfddc"
   },
   "outputs": [
    {
     "data": {
      "text/html": [
       "<div>\n",
       "<style scoped>\n",
       "    .dataframe tbody tr th:only-of-type {\n",
       "        vertical-align: middle;\n",
       "    }\n",
       "\n",
       "    .dataframe tbody tr th {\n",
       "        vertical-align: top;\n",
       "    }\n",
       "\n",
       "    .dataframe thead th {\n",
       "        text-align: right;\n",
       "    }\n",
       "</style>\n",
       "<table border=\"1\" class=\"dataframe\">\n",
       "  <thead>\n",
       "    <tr style=\"text-align: right;\">\n",
       "      <th></th>\n",
       "      <th>Invoice ID</th>\n",
       "      <th>Branch</th>\n",
       "      <th>City</th>\n",
       "      <th>Customer type</th>\n",
       "      <th>Gender</th>\n",
       "      <th>Product line</th>\n",
       "      <th>Unit price</th>\n",
       "      <th>Quantity</th>\n",
       "      <th>Tax 5%</th>\n",
       "      <th>Total</th>\n",
       "      <th>Date</th>\n",
       "      <th>Time</th>\n",
       "      <th>Payment</th>\n",
       "      <th>cogs</th>\n",
       "      <th>gross margin percentage</th>\n",
       "      <th>gross income</th>\n",
       "      <th>Rating</th>\n",
       "    </tr>\n",
       "  </thead>\n",
       "  <tbody>\n",
       "    <tr>\n",
       "      <th>0</th>\n",
       "      <td>765-26-6951</td>\n",
       "      <td>A</td>\n",
       "      <td>Yangon</td>\n",
       "      <td>Normal</td>\n",
       "      <td>Male</td>\n",
       "      <td>Sports and travel</td>\n",
       "      <td>72.61</td>\n",
       "      <td>6</td>\n",
       "      <td>21.783</td>\n",
       "      <td>457.443</td>\n",
       "      <td>1/1/2019</td>\n",
       "      <td>10:39</td>\n",
       "      <td>Credit card</td>\n",
       "      <td>435.66</td>\n",
       "      <td>4.761905</td>\n",
       "      <td>21.783</td>\n",
       "      <td>6.9</td>\n",
       "    </tr>\n",
       "    <tr>\n",
       "      <th>1</th>\n",
       "      <td>651-88-7328</td>\n",
       "      <td>A</td>\n",
       "      <td>Yangon</td>\n",
       "      <td>Normal</td>\n",
       "      <td>Female</td>\n",
       "      <td>Fashion accessories</td>\n",
       "      <td>65.74</td>\n",
       "      <td>9</td>\n",
       "      <td>29.583</td>\n",
       "      <td>621.243</td>\n",
       "      <td>1/1/2019</td>\n",
       "      <td>13:55</td>\n",
       "      <td>Cash</td>\n",
       "      <td>591.66</td>\n",
       "      <td>4.761905</td>\n",
       "      <td>29.583</td>\n",
       "      <td>7.7</td>\n",
       "    </tr>\n",
       "    <tr>\n",
       "      <th>2</th>\n",
       "      <td>416-17-9926</td>\n",
       "      <td>A</td>\n",
       "      <td>Yangon</td>\n",
       "      <td>Member</td>\n",
       "      <td>Female</td>\n",
       "      <td>Electronic accessories</td>\n",
       "      <td>74.22</td>\n",
       "      <td>10</td>\n",
       "      <td>37.110</td>\n",
       "      <td>779.310</td>\n",
       "      <td>1/1/2019</td>\n",
       "      <td>14:42</td>\n",
       "      <td>Credit card</td>\n",
       "      <td>742.20</td>\n",
       "      <td>4.761905</td>\n",
       "      <td>37.110</td>\n",
       "      <td>4.3</td>\n",
       "    </tr>\n",
       "    <tr>\n",
       "      <th>3</th>\n",
       "      <td>530-90-9855</td>\n",
       "      <td>A</td>\n",
       "      <td>Yangon</td>\n",
       "      <td>Member</td>\n",
       "      <td>Male</td>\n",
       "      <td>Home and lifestyle</td>\n",
       "      <td>47.59</td>\n",
       "      <td>8</td>\n",
       "      <td>19.036</td>\n",
       "      <td>399.756</td>\n",
       "      <td>1/1/2019</td>\n",
       "      <td>14:47</td>\n",
       "      <td>Cash</td>\n",
       "      <td>380.72</td>\n",
       "      <td>4.761905</td>\n",
       "      <td>19.036</td>\n",
       "      <td>5.7</td>\n",
       "    </tr>\n",
       "    <tr>\n",
       "      <th>4</th>\n",
       "      <td>182-52-7000</td>\n",
       "      <td>A</td>\n",
       "      <td>Yangon</td>\n",
       "      <td>Member</td>\n",
       "      <td>Female</td>\n",
       "      <td>Sports and travel</td>\n",
       "      <td>27.04</td>\n",
       "      <td>4</td>\n",
       "      <td>5.408</td>\n",
       "      <td>113.568</td>\n",
       "      <td>1/1/2019</td>\n",
       "      <td>20:26</td>\n",
       "      <td>Ewallet</td>\n",
       "      <td>108.16</td>\n",
       "      <td>4.761905</td>\n",
       "      <td>5.408</td>\n",
       "      <td>6.9</td>\n",
       "    </tr>\n",
       "  </tbody>\n",
       "</table>\n",
       "</div>"
      ],
      "text/plain": [
       "    Invoice ID Branch    City Customer type  Gender            Product line  \\\n",
       "0  765-26-6951      A  Yangon        Normal    Male       Sports and travel   \n",
       "1  651-88-7328      A  Yangon        Normal  Female     Fashion accessories   \n",
       "2  416-17-9926      A  Yangon        Member  Female  Electronic accessories   \n",
       "3  530-90-9855      A  Yangon        Member    Male      Home and lifestyle   \n",
       "4  182-52-7000      A  Yangon        Member  Female       Sports and travel   \n",
       "\n",
       "   Unit price  Quantity  Tax 5%    Total      Date   Time      Payment  \\\n",
       "0       72.61         6  21.783  457.443  1/1/2019  10:39  Credit card   \n",
       "1       65.74         9  29.583  621.243  1/1/2019  13:55         Cash   \n",
       "2       74.22        10  37.110  779.310  1/1/2019  14:42  Credit card   \n",
       "3       47.59         8  19.036  399.756  1/1/2019  14:47         Cash   \n",
       "4       27.04         4   5.408  113.568  1/1/2019  20:26      Ewallet   \n",
       "\n",
       "     cogs  gross margin percentage  gross income  Rating  \n",
       "0  435.66                 4.761905        21.783     6.9  \n",
       "1  591.66                 4.761905        29.583     7.7  \n",
       "2  742.20                 4.761905        37.110     4.3  \n",
       "3  380.72                 4.761905        19.036     5.7  \n",
       "4  108.16                 4.761905         5.408     6.9  "
      ]
     },
     "execution_count": 65,
     "metadata": {},
     "output_type": "execute_result"
    }
   ],
   "source": [
    "#Case Menghitung Total Pendapatan tahun 2019 di Supermarket Cabang Yangon\n",
    "import pandas as pd\n",
    "\n",
    "data = pd.read_csv('https://raw.githubusercontent.com/fahmimnalfrzki/ds-masterclass-h8-vol2/main/data/supermarket_sales%20-%20Sheet1.csv')\n",
    "data = data[data['City']=='Yangon'].sort_values(['Date','Time']).reset_index(drop=True)\n",
    "data.head()"
   ]
  },
  {
   "cell_type": "code",
   "execution_count": 66,
   "metadata": {
    "colab": {
     "base_uri": "https://localhost:8080/",
     "height": 282
    },
    "id": "HnkkVGd7KRxM",
    "outputId": "fe9ea933-3046-44e1-c7c4-a5e9f97cde91"
   },
   "outputs": [
    {
     "data": {
      "text/plain": [
       "<AxesSubplot:>"
      ]
     },
     "execution_count": 66,
     "metadata": {},
     "output_type": "execute_result"
    },
    {
     "data": {
      "image/png": "[encoded data removed]",
      "text/plain": [
       "<Figure size 432x288 with 1 Axes>"
      ]
     },
     "metadata": {
      "needs_background": "light"
     },
     "output_type": "display_data"
    }
   ],
   "source": [
    "data['gross income'].plot(kind='line')"
   ]
  },
  {
   "cell_type": "code",
   "execution_count": 67,
   "metadata": {
    "colab": {
     "base_uri": "https://localhost:8080/"
    },
    "id": "_wGEcwwzI9nZ",
    "outputId": "103fd48d-bd44-446d-99b0-5ffe9cb0f851"
   },
   "outputs": [
    {
     "name": "stdout",
     "output_type": "stream",
     "text": [
      "Total Gross Income in 2019: 5033.7964999999995\n"
     ]
    }
   ],
   "source": [
    "x = data.index\n",
    "y = data['gross income']\n",
    "\n",
    "total_gross_income_2019 = integrate.trapz(y,x)\n",
    "print('Total Gross Income in 2019:',total_gross_income_2019)"
   ]
  },
  {
   "cell_type": "code",
   "execution_count": 68,
   "metadata": {
    "colab": {
     "base_uri": "https://localhost:8080/"
    },
    "id": "HtUTFg0MN7uB",
    "outputId": "74aa37e4-423c-40c1-81d8-0976ccaff5d0"
   },
   "outputs": [
    {
     "data": {
      "text/plain": [
       "5057.1605"
      ]
     },
     "execution_count": 68,
     "metadata": {},
     "output_type": "execute_result"
    }
   ],
   "source": [
    "data['gross income'].sum()"
   ]
  },
  {
   "cell_type": "markdown",
   "metadata": {
    "id": "05_I2OeNQC6t"
   },
   "source": [
    "## Luas area lingkaran"
   ]
  },
  {
   "cell_type": "code",
   "execution_count": 69,
   "metadata": {
    "id": "J4vXp4D0QEWj"
   },
   "outputs": [],
   "source": [
    "from scipy.integrate import trapz\n",
    "from scipy.integrate import quad\n",
    "import numpy as np\n",
    "\n",
    "R=30\n",
    "x=np.linspace(-R,R,1000)\n",
    "\n",
    "upper = np.sqrt(R**2 - x**2)\n",
    "lower = -upper"
   ]
  },
  {
   "cell_type": "code",
   "execution_count": 70,
   "metadata": {
    "colab": {
     "base_uri": "https://localhost:8080/"
    },
    "id": "5Lo5PvYwQN98",
    "outputId": "93133b1f-aa9d-4597-b6be-88ccb78cbef1"
   },
   "outputs": [
    {
     "data": {
      "text/plain": [
       "array([-30.        , -29.93993994, -29.87987988, -29.81981982,\n",
       "       -29.75975976, -29.6996997 , -29.63963964, -29.57957958,\n",
       "       -29.51951952, -29.45945946, -29.3993994 , -29.33933934,\n",
       "       -29.27927928, -29.21921922, -29.15915916, -29.0990991 ,\n",
       "       -29.03903904, -28.97897898, -28.91891892, -28.85885886,\n",
       "       -28.7987988 , -28.73873874, -28.67867868, -28.61861862,\n",
       "       -28.55855856, -28.4984985 , -28.43843844, -28.37837838,\n",
       "       -28.31831832, -28.25825826, -28.1981982 , -28.13813814,\n",
       "       -28.07807808, -28.01801802, -27.95795796, -27.8978979 ,\n",
       "       -27.83783784, -27.77777778, -27.71771772, -27.65765766,\n",
       "       -27.5975976 , -27.53753754, -27.47747748, -27.41741742,\n",
       "       -27.35735736, -27.2972973 , -27.23723724, -27.17717718,\n",
       "       -27.11711712, -27.05705706, -26.996997  , -26.93693694,\n",
       "       -26.87687688, -26.81681682, -26.75675676, -26.6966967 ,\n",
       "       -26.63663664, -26.57657658, -26.51651652, -26.45645646,\n",
       "       -26.3963964 , -26.33633634, -26.27627628, -26.21621622,\n",
       "       -26.15615616, -26.0960961 , -26.03603604, -25.97597598,\n",
       "       -25.91591592, -25.85585586, -25.7957958 , -25.73573574,\n",
       "       -25.67567568, -25.61561562, -25.55555556, -25.4954955 ,\n",
       "       -25.43543544, -25.37537538, -25.31531532, -25.25525526,\n",
       "       -25.1951952 , -25.13513514, -25.07507508, -25.01501502,\n",
       "       -24.95495495, -24.89489489, -24.83483483, -24.77477477,\n",
       "       -24.71471471, -24.65465465, -24.59459459, -24.53453453,\n",
       "       -24.47447447, -24.41441441, -24.35435435, -24.29429429,\n",
       "       -24.23423423, -24.17417417, -24.11411411, -24.05405405,\n",
       "       -23.99399399, -23.93393393, -23.87387387, -23.81381381,\n",
       "       -23.75375375, -23.69369369, -23.63363363, -23.57357357,\n",
       "       -23.51351351, -23.45345345, -23.39339339, -23.33333333,\n",
       "       -23.27327327, -23.21321321, -23.15315315, -23.09309309,\n",
       "       -23.03303303, -22.97297297, -22.91291291, -22.85285285,\n",
       "       -22.79279279, -22.73273273, -22.67267267, -22.61261261,\n",
       "       -22.55255255, -22.49249249, -22.43243243, -22.37237237,\n",
       "       -22.31231231, -22.25225225, -22.19219219, -22.13213213,\n",
       "       -22.07207207, -22.01201201, -21.95195195, -21.89189189,\n",
       "       -21.83183183, -21.77177177, -21.71171171, -21.65165165,\n",
       "       -21.59159159, -21.53153153, -21.47147147, -21.41141141,\n",
       "       -21.35135135, -21.29129129, -21.23123123, -21.17117117,\n",
       "       -21.11111111, -21.05105105, -20.99099099, -20.93093093,\n",
       "       -20.87087087, -20.81081081, -20.75075075, -20.69069069,\n",
       "       -20.63063063, -20.57057057, -20.51051051, -20.45045045,\n",
       "       -20.39039039, -20.33033033, -20.27027027, -20.21021021,\n",
       "       -20.15015015, -20.09009009, -20.03003003, -19.96996997,\n",
       "       -19.90990991, -19.84984985, -19.78978979, -19.72972973,\n",
       "       -19.66966967, -19.60960961, -19.54954955, -19.48948949,\n",
       "       -19.42942943, -19.36936937, -19.30930931, -19.24924925,\n",
       "       -19.18918919, -19.12912913, -19.06906907, -19.00900901,\n",
       "       -18.94894895, -18.88888889, -18.82882883, -18.76876877,\n",
       "       -18.70870871, -18.64864865, -18.58858859, -18.52852853,\n",
       "       -18.46846847, -18.40840841, -18.34834835, -18.28828829,\n",
       "       -18.22822823, -18.16816817, -18.10810811, -18.04804805,\n",
       "       -17.98798799, -17.92792793, -17.86786787, -17.80780781,\n",
       "       -17.74774775, -17.68768769, -17.62762763, -17.56756757,\n",
       "       -17.50750751, -17.44744745, -17.38738739, -17.32732733,\n",
       "       -17.26726727, -17.20720721, -17.14714715, -17.08708709,\n",
       "       -17.02702703, -16.96696697, -16.90690691, -16.84684685,\n",
       "       -16.78678679, -16.72672673, -16.66666667, -16.60660661,\n",
       "       -16.54654655, -16.48648649, -16.42642643, -16.36636637,\n",
       "       -16.30630631, -16.24624625, -16.18618619, -16.12612613,\n",
       "       -16.06606607, -16.00600601, -15.94594595, -15.88588589,\n",
       "       -15.82582583, -15.76576577, -15.70570571, -15.64564565,\n",
       "       -15.58558559, -15.52552553, -15.46546547, -15.40540541,\n",
       "       -15.34534535, -15.28528529, -15.22522523, -15.16516517,\n",
       "       -15.10510511, -15.04504505, -14.98498498, -14.92492492,\n",
       "       -14.86486486, -14.8048048 , -14.74474474, -14.68468468,\n",
       "       -14.62462462, -14.56456456, -14.5045045 , -14.44444444,\n",
       "       -14.38438438, -14.32432432, -14.26426426, -14.2042042 ,\n",
       "       -14.14414414, -14.08408408, -14.02402402, -13.96396396,\n",
       "       -13.9039039 , -13.84384384, -13.78378378, -13.72372372,\n",
       "       -13.66366366, -13.6036036 , -13.54354354, -13.48348348,\n",
       "       -13.42342342, -13.36336336, -13.3033033 , -13.24324324,\n",
       "       -13.18318318, -13.12312312, -13.06306306, -13.003003  ,\n",
       "       -12.94294294, -12.88288288, -12.82282282, -12.76276276,\n",
       "       -12.7027027 , -12.64264264, -12.58258258, -12.52252252,\n",
       "       -12.46246246, -12.4024024 , -12.34234234, -12.28228228,\n",
       "       -12.22222222, -12.16216216, -12.1021021 , -12.04204204,\n",
       "       -11.98198198, -11.92192192, -11.86186186, -11.8018018 ,\n",
       "       -11.74174174, -11.68168168, -11.62162162, -11.56156156,\n",
       "       -11.5015015 , -11.44144144, -11.38138138, -11.32132132,\n",
       "       -11.26126126, -11.2012012 , -11.14114114, -11.08108108,\n",
       "       -11.02102102, -10.96096096, -10.9009009 , -10.84084084,\n",
       "       -10.78078078, -10.72072072, -10.66066066, -10.6006006 ,\n",
       "       -10.54054054, -10.48048048, -10.42042042, -10.36036036,\n",
       "       -10.3003003 , -10.24024024, -10.18018018, -10.12012012,\n",
       "       -10.06006006, -10.        ,  -9.93993994,  -9.87987988,\n",
       "        -9.81981982,  -9.75975976,  -9.6996997 ,  -9.63963964,\n",
       "        -9.57957958,  -9.51951952,  -9.45945946,  -9.3993994 ,\n",
       "        -9.33933934,  -9.27927928,  -9.21921922,  -9.15915916,\n",
       "        -9.0990991 ,  -9.03903904,  -8.97897898,  -8.91891892,\n",
       "        -8.85885886,  -8.7987988 ,  -8.73873874,  -8.67867868,\n",
       "        -8.61861862,  -8.55855856,  -8.4984985 ,  -8.43843844,\n",
       "        -8.37837838,  -8.31831832,  -8.25825826,  -8.1981982 ,\n",
       "        -8.13813814,  -8.07807808,  -8.01801802,  -7.95795796,\n",
       "        -7.8978979 ,  -7.83783784,  -7.77777778,  -7.71771772,\n",
       "        -7.65765766,  -7.5975976 ,  -7.53753754,  -7.47747748,\n",
       "        -7.41741742,  -7.35735736,  -7.2972973 ,  -7.23723724,\n",
       "        -7.17717718,  -7.11711712,  -7.05705706,  -6.996997  ,\n",
       "        -6.93693694,  -6.87687688,  -6.81681682,  -6.75675676,\n",
       "        -6.6966967 ,  -6.63663664,  -6.57657658,  -6.51651652,\n",
       "        -6.45645646,  -6.3963964 ,  -6.33633634,  -6.27627628,\n",
       "        -6.21621622,  -6.15615616,  -6.0960961 ,  -6.03603604,\n",
       "        -5.97597598,  -5.91591592,  -5.85585586,  -5.7957958 ,\n",
       "        -5.73573574,  -5.67567568,  -5.61561562,  -5.55555556,\n",
       "        -5.4954955 ,  -5.43543544,  -5.37537538,  -5.31531532,\n",
       "        -5.25525526,  -5.1951952 ,  -5.13513514,  -5.07507508,\n",
       "        -5.01501502,  -4.95495495,  -4.89489489,  -4.83483483,\n",
       "        -4.77477477,  -4.71471471,  -4.65465465,  -4.59459459,\n",
       "        -4.53453453,  -4.47447447,  -4.41441441,  -4.35435435,\n",
       "        -4.29429429,  -4.23423423,  -4.17417417,  -4.11411411,\n",
       "        -4.05405405,  -3.99399399,  -3.93393393,  -3.87387387,\n",
       "        -3.81381381,  -3.75375375,  -3.69369369,  -3.63363363,\n",
       "        -3.57357357,  -3.51351351,  -3.45345345,  -3.39339339,\n",
       "        -3.33333333,  -3.27327327,  -3.21321321,  -3.15315315,\n",
       "        -3.09309309,  -3.03303303,  -2.97297297,  -2.91291291,\n",
       "        -2.85285285,  -2.79279279,  -2.73273273,  -2.67267267,\n",
       "        -2.61261261,  -2.55255255,  -2.49249249,  -2.43243243,\n",
       "        -2.37237237,  -2.31231231,  -2.25225225,  -2.19219219,\n",
       "        -2.13213213,  -2.07207207,  -2.01201201,  -1.95195195,\n",
       "        -1.89189189,  -1.83183183,  -1.77177177,  -1.71171171,\n",
       "        -1.65165165,  -1.59159159,  -1.53153153,  -1.47147147,\n",
       "        -1.41141141,  -1.35135135,  -1.29129129,  -1.23123123,\n",
       "        -1.17117117,  -1.11111111,  -1.05105105,  -0.99099099,\n",
       "        -0.93093093,  -0.87087087,  -0.81081081,  -0.75075075,\n",
       "        -0.69069069,  -0.63063063,  -0.57057057,  -0.51051051,\n",
       "        -0.45045045,  -0.39039039,  -0.33033033,  -0.27027027,\n",
       "        -0.21021021,  -0.15015015,  -0.09009009,  -0.03003003,\n",
       "         0.03003003,   0.09009009,   0.15015015,   0.21021021,\n",
       "         0.27027027,   0.33033033,   0.39039039,   0.45045045,\n",
       "         0.51051051,   0.57057057,   0.63063063,   0.69069069,\n",
       "         0.75075075,   0.81081081,   0.87087087,   0.93093093,\n",
       "         0.99099099,   1.05105105,   1.11111111,   1.17117117,\n",
       "         1.23123123,   1.29129129,   1.35135135,   1.41141141,\n",
       "         1.47147147,   1.53153153,   1.59159159,   1.65165165,\n",
       "         1.71171171,   1.77177177,   1.83183183,   1.89189189,\n",
       "         1.95195195,   2.01201201,   2.07207207,   2.13213213,\n",
       "         2.19219219,   2.25225225,   2.31231231,   2.37237237,\n",
       "         2.43243243,   2.49249249,   2.55255255,   2.61261261,\n",
       "         2.67267267,   2.73273273,   2.79279279,   2.85285285,\n",
       "         2.91291291,   2.97297297,   3.03303303,   3.09309309,\n",
       "         3.15315315,   3.21321321,   3.27327327,   3.33333333,\n",
       "         3.39339339,   3.45345345,   3.51351351,   3.57357357,\n",
       "         3.63363363,   3.69369369,   3.75375375,   3.81381381,\n",
       "         3.87387387,   3.93393393,   3.99399399,   4.05405405,\n",
       "         4.11411411,   4.17417417,   4.23423423,   4.29429429,\n",
       "         4.35435435,   4.41441441,   4.47447447,   4.53453453,\n",
       "         4.59459459,   4.65465465,   4.71471471,   4.77477477,\n",
       "         4.83483483,   4.89489489,   4.95495495,   5.01501502,\n",
       "         5.07507508,   5.13513514,   5.1951952 ,   5.25525526,\n",
       "         5.31531532,   5.37537538,   5.43543544,   5.4954955 ,\n",
       "         5.55555556,   5.61561562,   5.67567568,   5.73573574,\n",
       "         5.7957958 ,   5.85585586,   5.91591592,   5.97597598,\n",
       "         6.03603604,   6.0960961 ,   6.15615616,   6.21621622,\n",
       "         6.27627628,   6.33633634,   6.3963964 ,   6.45645646,\n",
       "         6.51651652,   6.57657658,   6.63663664,   6.6966967 ,\n",
       "         6.75675676,   6.81681682,   6.87687688,   6.93693694,\n",
       "         6.996997  ,   7.05705706,   7.11711712,   7.17717718,\n",
       "         7.23723724,   7.2972973 ,   7.35735736,   7.41741742,\n",
       "         7.47747748,   7.53753754,   7.5975976 ,   7.65765766,\n",
       "         7.71771772,   7.77777778,   7.83783784,   7.8978979 ,\n",
       "         7.95795796,   8.01801802,   8.07807808,   8.13813814,\n",
       "         8.1981982 ,   8.25825826,   8.31831832,   8.37837838,\n",
       "         8.43843844,   8.4984985 ,   8.55855856,   8.61861862,\n",
       "         8.67867868,   8.73873874,   8.7987988 ,   8.85885886,\n",
       "         8.91891892,   8.97897898,   9.03903904,   9.0990991 ,\n",
       "         9.15915916,   9.21921922,   9.27927928,   9.33933934,\n",
       "         9.3993994 ,   9.45945946,   9.51951952,   9.57957958,\n",
       "         9.63963964,   9.6996997 ,   9.75975976,   9.81981982,\n",
       "         9.87987988,   9.93993994,  10.        ,  10.06006006,\n",
       "        10.12012012,  10.18018018,  10.24024024,  10.3003003 ,\n",
       "        10.36036036,  10.42042042,  10.48048048,  10.54054054,\n",
       "        10.6006006 ,  10.66066066,  10.72072072,  10.78078078,\n",
       "        10.84084084,  10.9009009 ,  10.96096096,  11.02102102,\n",
       "        11.08108108,  11.14114114,  11.2012012 ,  11.26126126,\n",
       "        11.32132132,  11.38138138,  11.44144144,  11.5015015 ,\n",
       "        11.56156156,  11.62162162,  11.68168168,  11.74174174,\n",
       "        11.8018018 ,  11.86186186,  11.92192192,  11.98198198,\n",
       "        12.04204204,  12.1021021 ,  12.16216216,  12.22222222,\n",
       "        12.28228228,  12.34234234,  12.4024024 ,  12.46246246,\n",
       "        12.52252252,  12.58258258,  12.64264264,  12.7027027 ,\n",
       "        12.76276276,  12.82282282,  12.88288288,  12.94294294,\n",
       "        13.003003  ,  13.06306306,  13.12312312,  13.18318318,\n",
       "        13.24324324,  13.3033033 ,  13.36336336,  13.42342342,\n",
       "        13.48348348,  13.54354354,  13.6036036 ,  13.66366366,\n",
       "        13.72372372,  13.78378378,  13.84384384,  13.9039039 ,\n",
       "        13.96396396,  14.02402402,  14.08408408,  14.14414414,\n",
       "        14.2042042 ,  14.26426426,  14.32432432,  14.38438438,\n",
       "        14.44444444,  14.5045045 ,  14.56456456,  14.62462462,\n",
       "        14.68468468,  14.74474474,  14.8048048 ,  14.86486486,\n",
       "        14.92492492,  14.98498498,  15.04504505,  15.10510511,\n",
       "        15.16516517,  15.22522523,  15.28528529,  15.34534535,\n",
       "        15.40540541,  15.46546547,  15.52552553,  15.58558559,\n",
       "        15.64564565,  15.70570571,  15.76576577,  15.82582583,\n",
       "        15.88588589,  15.94594595,  16.00600601,  16.06606607,\n",
       "        16.12612613,  16.18618619,  16.24624625,  16.30630631,\n",
       "        16.36636637,  16.42642643,  16.48648649,  16.54654655,\n",
       "        16.60660661,  16.66666667,  16.72672673,  16.78678679,\n",
       "        16.84684685,  16.90690691,  16.96696697,  17.02702703,\n",
       "        17.08708709,  17.14714715,  17.20720721,  17.26726727,\n",
       "        17.32732733,  17.38738739,  17.44744745,  17.50750751,\n",
       "        17.56756757,  17.62762763,  17.68768769,  17.74774775,\n",
       "        17.80780781,  17.86786787,  17.92792793,  17.98798799,\n",
       "        18.04804805,  18.10810811,  18.16816817,  18.22822823,\n",
       "        18.28828829,  18.34834835,  18.40840841,  18.46846847,\n",
       "        18.52852853,  18.58858859,  18.64864865,  18.70870871,\n",
       "        18.76876877,  18.82882883,  18.88888889,  18.94894895,\n",
       "        19.00900901,  19.06906907,  19.12912913,  19.18918919,\n",
       "        19.24924925,  19.30930931,  19.36936937,  19.42942943,\n",
       "        19.48948949,  19.54954955,  19.60960961,  19.66966967,\n",
       "        19.72972973,  19.78978979,  19.84984985,  19.90990991,\n",
       "        19.96996997,  20.03003003,  20.09009009,  20.15015015,\n",
       "        20.21021021,  20.27027027,  20.33033033,  20.39039039,\n",
       "        20.45045045,  20.51051051,  20.57057057,  20.63063063,\n",
       "        20.69069069,  20.75075075,  20.81081081,  20.87087087,\n",
       "        20.93093093,  20.99099099,  21.05105105,  21.11111111,\n",
       "        21.17117117,  21.23123123,  21.29129129,  21.35135135,\n",
       "        21.41141141,  21.47147147,  21.53153153,  21.59159159,\n",
       "        21.65165165,  21.71171171,  21.77177177,  21.83183183,\n",
       "        21.89189189,  21.95195195,  22.01201201,  22.07207207,\n",
       "        22.13213213,  22.19219219,  22.25225225,  22.31231231,\n",
       "        22.37237237,  22.43243243,  22.49249249,  22.55255255,\n",
       "        22.61261261,  22.67267267,  22.73273273,  22.79279279,\n",
       "        22.85285285,  22.91291291,  22.97297297,  23.03303303,\n",
       "        23.09309309,  23.15315315,  23.21321321,  23.27327327,\n",
       "        23.33333333,  23.39339339,  23.45345345,  23.51351351,\n",
       "        23.57357357,  23.63363363,  23.69369369,  23.75375375,\n",
       "        23.81381381,  23.87387387,  23.93393393,  23.99399399,\n",
       "        24.05405405,  24.11411411,  24.17417417,  24.23423423,\n",
       "        24.29429429,  24.35435435,  24.41441441,  24.47447447,\n",
       "        24.53453453,  24.59459459,  24.65465465,  24.71471471,\n",
       "        24.77477477,  24.83483483,  24.89489489,  24.95495495,\n",
       "        25.01501502,  25.07507508,  25.13513514,  25.1951952 ,\n",
       "        25.25525526,  25.31531532,  25.37537538,  25.43543544,\n",
       "        25.4954955 ,  25.55555556,  25.61561562,  25.67567568,\n",
       "        25.73573574,  25.7957958 ,  25.85585586,  25.91591592,\n",
       "        25.97597598,  26.03603604,  26.0960961 ,  26.15615616,\n",
       "        26.21621622,  26.27627628,  26.33633634,  26.3963964 ,\n",
       "        26.45645646,  26.51651652,  26.57657658,  26.63663664,\n",
       "        26.6966967 ,  26.75675676,  26.81681682,  26.87687688,\n",
       "        26.93693694,  26.996997  ,  27.05705706,  27.11711712,\n",
       "        27.17717718,  27.23723724,  27.2972973 ,  27.35735736,\n",
       "        27.41741742,  27.47747748,  27.53753754,  27.5975976 ,\n",
       "        27.65765766,  27.71771772,  27.77777778,  27.83783784,\n",
       "        27.8978979 ,  27.95795796,  28.01801802,  28.07807808,\n",
       "        28.13813814,  28.1981982 ,  28.25825826,  28.31831832,\n",
       "        28.37837838,  28.43843844,  28.4984985 ,  28.55855856,\n",
       "        28.61861862,  28.67867868,  28.73873874,  28.7987988 ,\n",
       "        28.85885886,  28.91891892,  28.97897898,  29.03903904,\n",
       "        29.0990991 ,  29.15915916,  29.21921922,  29.27927928,\n",
       "        29.33933934,  29.3993994 ,  29.45945946,  29.51951952,\n",
       "        29.57957958,  29.63963964,  29.6996997 ,  29.75975976,\n",
       "        29.81981982,  29.87987988,  29.93993994,  30.        ])"
      ]
     },
     "execution_count": 70,
     "metadata": {},
     "output_type": "execute_result"
    }
   ],
   "source": [
    "x"
   ]
  },
  {
   "cell_type": "code",
   "execution_count": 71,
   "metadata": {
    "colab": {
     "base_uri": "https://localhost:8080/",
     "height": 391
    },
    "id": "6BEaukxWQZco",
    "outputId": "e8f83507-bace-4c07-8f88-e905f3f39166"
   },
   "outputs": [
    {
     "data": {
      "text/plain": [
       "[<matplotlib.lines.Line2D at 0x190b5f1e620>]"
      ]
     },
     "execution_count": 71,
     "metadata": {},
     "output_type": "execute_result"
    },
    {
     "data": {
      "image/png": "[encoded data removed]",
      "text/plain": [
       "<Figure size 432x432 with 1 Axes>"
      ]
     },
     "metadata": {
      "needs_background": "light"
     },
     "output_type": "display_data"
    }
   ],
   "source": [
    "import matplotlib.pyplot as plt\n",
    "fig,ax = plt.subplots(figsize=(6,6))\n",
    "ax.plot(x,upper)\n",
    "ax.plot(x,lower)"
   ]
  },
  {
   "cell_type": "code",
   "execution_count": 72,
   "metadata": {
    "colab": {
     "base_uri": "https://localhost:8080/"
    },
    "id": "A7dUDZ1QQSMD",
    "outputId": "d609898c-6c71-4e7f-f104-fb2185469a25"
   },
   "outputs": [
    {
     "name": "stdout",
     "output_type": "stream",
     "text": [
      "2827.3385871416567\n"
     ]
    }
   ],
   "source": [
    "#Cara 1\n",
    "area = trapz(upper,x) - trapz(lower,x)\n",
    "\n",
    "print(area)"
   ]
  },
  {
   "cell_type": "code",
   "execution_count": 73,
   "metadata": {
    "colab": {
     "base_uri": "https://localhost:8080/"
    },
    "id": "9hx5zZn03cg9",
    "outputId": "a18bb30d-93a3-4900-a7c9-2462afb1ab2f"
   },
   "outputs": [
    {
     "name": "stdout",
     "output_type": "stream",
     "text": [
      "2827.433388230819\n"
     ]
    }
   ],
   "source": [
    "#Cara 2\n",
    "def upper(x):\n",
    "  return np.sqrt(R**2 - x**2)\n",
    "\n",
    "def lower(x):\n",
    "  return -np.sqrt(R**2 - x**2)\n",
    "\n",
    "area = quad(upper,-R,R)[0] - quad(lower,-R,R)[0]\n",
    "print(area)"
   ]
  },
  {
   "cell_type": "code",
   "execution_count": 74,
   "metadata": {
    "colab": {
     "base_uri": "https://localhost:8080/"
    },
    "id": "VKfo3cXu9kVj",
    "outputId": "d4f9614a-5f29-4190-b84c-338059dd2bcb"
   },
   "outputs": [
    {
     "name": "stdout",
     "output_type": "stream",
     "text": [
      "2827.4333882308138\n"
     ]
    }
   ],
   "source": [
    "#Menggunakan rumus luas lingkaran\n",
    "print(np.pi*R**2)"
   ]
  },
  {
   "cell_type": "markdown",
   "metadata": {
    "id": "aTrVRzZOa5Ta"
   },
   "source": [
    "##Menghitung Luas area negara swiss"
   ]
  },
  {
   "cell_type": "code",
   "execution_count": 75,
   "metadata": {
    "colab": {
     "base_uri": "https://localhost:8080/",
     "height": 424
    },
    "id": "mfUg4S0ZbKAT",
    "outputId": "048e73e3-a61a-415f-ec42-b29d3384fe88"
   },
   "outputs": [
    {
     "data": {
      "text/html": [
       "<div>\n",
       "<style scoped>\n",
       "    .dataframe tbody tr th:only-of-type {\n",
       "        vertical-align: middle;\n",
       "    }\n",
       "\n",
       "    .dataframe tbody tr th {\n",
       "        vertical-align: top;\n",
       "    }\n",
       "\n",
       "    .dataframe thead th {\n",
       "        text-align: right;\n",
       "    }\n",
       "</style>\n",
       "<table border=\"1\" class=\"dataframe\">\n",
       "  <thead>\n",
       "    <tr style=\"text-align: right;\">\n",
       "      <th></th>\n",
       "      <th>longitude</th>\n",
       "      <th>latitude</th>\n",
       "    </tr>\n",
       "  </thead>\n",
       "  <tbody>\n",
       "    <tr>\n",
       "      <th>0</th>\n",
       "      <td>9.56672</td>\n",
       "      <td>47.54045</td>\n",
       "    </tr>\n",
       "    <tr>\n",
       "      <th>1</th>\n",
       "      <td>9.55980</td>\n",
       "      <td>47.50209</td>\n",
       "    </tr>\n",
       "    <tr>\n",
       "      <th>2</th>\n",
       "      <td>9.59660</td>\n",
       "      <td>47.46944</td>\n",
       "    </tr>\n",
       "    <tr>\n",
       "      <th>3</th>\n",
       "      <td>9.64965</td>\n",
       "      <td>47.45861</td>\n",
       "    </tr>\n",
       "    <tr>\n",
       "      <th>4</th>\n",
       "      <td>9.67035</td>\n",
       "      <td>47.39069</td>\n",
       "    </tr>\n",
       "    <tr>\n",
       "      <th>...</th>\n",
       "      <td>...</td>\n",
       "      <td>...</td>\n",
       "    </tr>\n",
       "    <tr>\n",
       "      <th>273</th>\n",
       "      <td>9.03333</td>\n",
       "      <td>47.68833</td>\n",
       "    </tr>\n",
       "    <tr>\n",
       "      <th>274</th>\n",
       "      <td>9.08264</td>\n",
       "      <td>47.68541</td>\n",
       "    </tr>\n",
       "    <tr>\n",
       "      <th>275</th>\n",
       "      <td>9.26110</td>\n",
       "      <td>47.66284</td>\n",
       "    </tr>\n",
       "    <tr>\n",
       "      <th>276</th>\n",
       "      <td>9.47832</td>\n",
       "      <td>47.57585</td>\n",
       "    </tr>\n",
       "    <tr>\n",
       "      <th>277</th>\n",
       "      <td>9.56672</td>\n",
       "      <td>47.54045</td>\n",
       "    </tr>\n",
       "  </tbody>\n",
       "</table>\n",
       "<p>278 rows × 2 columns</p>\n",
       "</div>"
      ],
      "text/plain": [
       "     longitude  latitude\n",
       "0      9.56672  47.54045\n",
       "1      9.55980  47.50209\n",
       "2      9.59660  47.46944\n",
       "3      9.64965  47.45861\n",
       "4      9.67035  47.39069\n",
       "..         ...       ...\n",
       "273    9.03333  47.68833\n",
       "274    9.08264  47.68541\n",
       "275    9.26110  47.66284\n",
       "276    9.47832  47.57585\n",
       "277    9.56672  47.54045\n",
       "\n",
       "[278 rows x 2 columns]"
      ]
     },
     "execution_count": 75,
     "metadata": {},
     "output_type": "execute_result"
    }
   ],
   "source": [
    "df = pd.read_csv('https://raw.githubusercontent.com/fahmimnalfrzki/Dataset/main/Swiss_boundaries.txt?token=AEZDEHXBTS7OMF32RTYPKZDA2FELA')\n",
    "df"
   ]
  },
  {
   "cell_type": "code",
   "execution_count": 76,
   "metadata": {
    "colab": {
     "base_uri": "https://localhost:8080/"
    },
    "id": "uhQlXuO-bSgC",
    "outputId": "d050b407-b906-44a0-ec13-d138b4c955d7"
   },
   "outputs": [
    {
     "name": "stdout",
     "output_type": "stream",
     "text": [
      "<class 'pandas.core.frame.DataFrame'>\n",
      "RangeIndex: 278 entries, 0 to 277\n",
      "Data columns (total 2 columns):\n",
      " #   Column     Non-Null Count  Dtype  \n",
      "---  ------     --------------  -----  \n",
      " 0   longitude  278 non-null    float64\n",
      " 1   latitude   278 non-null    float64\n",
      "dtypes: float64(2)\n",
      "memory usage: 4.5 KB\n"
     ]
    }
   ],
   "source": [
    "df.info()"
   ]
  },
  {
   "cell_type": "markdown",
   "metadata": {
    "id": "ZGoUWTtpbkus"
   },
   "source": [
    "Bentuk area negara swiss"
   ]
  },
  {
   "cell_type": "code",
   "execution_count": 77,
   "metadata": {
    "colab": {
     "base_uri": "https://localhost:8080/",
     "height": 282
    },
    "id": "tq5RUV5VbieB",
    "outputId": "5c3d413c-d83f-4e5c-bae1-1d4848aaadd0"
   },
   "outputs": [
    {
     "data": {
      "text/plain": [
       "[<matplotlib.lines.Line2D at 0x190b5f92830>]"
      ]
     },
     "execution_count": 77,
     "metadata": {},
     "output_type": "execute_result"
    },
    {
     "data": {
      "image/png": "[encoded data removed]",
      "text/plain": [
       "<Figure size 432x288 with 1 Axes>"
      ]
     },
     "metadata": {
      "needs_background": "light"
     },
     "output_type": "display_data"
    }
   ],
   "source": [
    "plt.plot(df['longitude'],df['latitude'])"
   ]
  },
  {
   "cell_type": "markdown",
   "metadata": {
    "id": "mzXC4iacbYLV"
   },
   "source": [
    "Hitung median untuk mencari nilai tengah untuk membedakan daerah southern dan northern"
   ]
  },
  {
   "cell_type": "code",
   "execution_count": 78,
   "metadata": {
    "colab": {
     "base_uri": "https://localhost:8080/"
    },
    "id": "S5Y7garAbTRY",
    "outputId": "1da4b7ec-7ccc-4b13-90da-1e0d55f969ed"
   },
   "outputs": [
    {
     "data": {
      "text/plain": [
       "46.61666000000005"
      ]
     },
     "execution_count": 78,
     "metadata": {},
     "output_type": "execute_result"
    }
   ],
   "source": [
    "median = df['latitude'].median()\n",
    "median"
   ]
  },
  {
   "cell_type": "markdown",
   "metadata": {
    "id": "BOuekdxjbsQT"
   },
   "source": [
    "Untuk mencari luas daerah dari suatu wilayah, cari integral dari area atas dikurangi area bawah. Dalam hal ini, cari integral dari daerah Nothern swiss yang latitude nya di atas median dari latitude lalu dikurangi integral dari daerah southern swiss yang latitude nya dibawah median dari latitude nya."
   ]
  },
  {
   "cell_type": "code",
   "execution_count": 79,
   "metadata": {
    "colab": {
     "base_uri": "https://localhost:8080/"
    },
    "id": "39-etiqfbq5R",
    "outputId": "cd813c25-58e3-4eef-9f5f-c8944bdeb958"
   },
   "outputs": [
    {
     "data": {
      "text/plain": [
       "4.189615000000004"
      ]
     },
     "execution_count": 79,
     "metadata": {},
     "output_type": "execute_result"
    }
   ],
   "source": [
    "trapz(df['latitude']>median, df['longitude']) - trapz(df['latitude']<median, df['longitude'])"
   ]
  },
  {
   "cell_type": "code",
   "execution_count": 81,
   "metadata": {},
   "outputs": [
    {
     "data": {
      "text/html": [
       "<div>\n",
       "<style scoped>\n",
       "    .dataframe tbody tr th:only-of-type {\n",
       "        vertical-align: middle;\n",
       "    }\n",
       "\n",
       "    .dataframe tbody tr th {\n",
       "        vertical-align: top;\n",
       "    }\n",
       "\n",
       "    .dataframe thead th {\n",
       "        text-align: right;\n",
       "    }\n",
       "</style>\n",
       "<table border=\"1\" class=\"dataframe\">\n",
       "  <thead>\n",
       "    <tr style=\"text-align: right;\">\n",
       "      <th></th>\n",
       "      <th>longitude</th>\n",
       "      <th>latitude</th>\n",
       "    </tr>\n",
       "  </thead>\n",
       "  <tbody>\n",
       "    <tr>\n",
       "      <th>count</th>\n",
       "      <td>278.000000</td>\n",
       "      <td>278.000000</td>\n",
       "    </tr>\n",
       "    <tr>\n",
       "      <th>mean</th>\n",
       "      <td>8.388293</td>\n",
       "      <td>46.789161</td>\n",
       "    </tr>\n",
       "    <tr>\n",
       "      <th>std</th>\n",
       "      <td>1.308479</td>\n",
       "      <td>0.627381</td>\n",
       "    </tr>\n",
       "    <tr>\n",
       "      <th>min</th>\n",
       "      <td>5.967010</td>\n",
       "      <td>45.829440</td>\n",
       "    </tr>\n",
       "    <tr>\n",
       "      <th>25%</th>\n",
       "      <td>7.339238</td>\n",
       "      <td>46.251680</td>\n",
       "    </tr>\n",
       "    <tr>\n",
       "      <th>50%</th>\n",
       "      <td>8.572925</td>\n",
       "      <td>46.616660</td>\n",
       "    </tr>\n",
       "    <tr>\n",
       "      <th>75%</th>\n",
       "      <td>9.500760</td>\n",
       "      <td>47.460065</td>\n",
       "    </tr>\n",
       "    <tr>\n",
       "      <th>max</th>\n",
       "      <td>10.488210</td>\n",
       "      <td>47.806660</td>\n",
       "    </tr>\n",
       "  </tbody>\n",
       "</table>\n",
       "</div>"
      ],
      "text/plain": [
       "        longitude    latitude\n",
       "count  278.000000  278.000000\n",
       "mean     8.388293   46.789161\n",
       "std      1.308479    0.627381\n",
       "min      5.967010   45.829440\n",
       "25%      7.339238   46.251680\n",
       "50%      8.572925   46.616660\n",
       "75%      9.500760   47.460065\n",
       "max     10.488210   47.806660"
      ]
     },
     "execution_count": 81,
     "metadata": {},
     "output_type": "execute_result"
    }
   ],
   "source": [
    "df.describe()"
   ]
  }
 ],
 "metadata": {
  "colab": {
   "collapsed_sections": [
    "EiuTYeFpEnYi",
    "05_I2OeNQC6t"
   ],
   "name": "Calculus.ipynb",
   "provenance": []
  },
  "kernelspec": {
   "display_name": "Python 3 (ipykernel)",
   "language": "python",
   "name": "python3"
  },
  "language_info": {
   "codemirror_mode": {
    "name": "ipython",
    "version": 3
   },
   "file_extension": ".py",
   "mimetype": "text/x-python",
   "name": "python",
   "nbconvert_exporter": "python",
   "pygments_lexer": "ipython3",
   "version": "3.10.4"
  }
 },
 "nbformat": 4,
 "nbformat_minor": 1
}
