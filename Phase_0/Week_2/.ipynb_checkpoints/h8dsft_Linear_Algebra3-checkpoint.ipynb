{
 "cells": [
  {
   "cell_type": "code",
   "execution_count": 16,
   "id": "ed49c512",
   "metadata": {},
   "outputs": [],
   "source": [
    "import numpy as np\n",
    "import scipy.linalg as la"
   ]
  },
  {
   "cell_type": "code",
   "execution_count": 41,
   "id": "2c768bc3",
   "metadata": {},
   "outputs": [],
   "source": [
    "# Apakah vektor a adalah eigen vektor dari matriks b ? buktikan \n",
    "a = np.array([1,3])\n",
    "b = np.array([\n",
    "    [1,-1],\n",
    "    [1,2]]\n",
    ")"
   ]
  },
  {
   "cell_type": "code",
   "execution_count": 68,
   "id": "72a3e6bf",
   "metadata": {},
   "outputs": [],
   "source": [
    "# Mencari eigen value dan vector dengan numpy\n",
    "eig_val, eig_vec = np.linalg.eig(b)"
   ]
  },
  {
   "cell_type": "code",
   "execution_count": 69,
   "id": "2f00da48",
   "metadata": {},
   "outputs": [
    {
     "data": {
      "text/plain": [
       "array([1.5+0.8660254j, 1.5-0.8660254j])"
      ]
     },
     "execution_count": 69,
     "metadata": {},
     "output_type": "execute_result"
    }
   ],
   "source": [
    "eig_val"
   ]
  },
  {
   "cell_type": "code",
   "execution_count": 70,
   "id": "48473478",
   "metadata": {},
   "outputs": [
    {
     "data": {
      "text/plain": [
       "array([-0.35355339+0.61237244j,  0.70710678-0.j        ])"
      ]
     },
     "execution_count": 70,
     "metadata": {},
     "output_type": "execute_result"
    }
   ],
   "source": [
    "np.diag(eig_vec)"
   ]
  },
  {
   "cell_type": "markdown",
   "id": "8b1e7358",
   "metadata": {},
   "source": [
    "vektor [1,3] bukanlah eigen vektor dari matriks b"
   ]
  },
  {
   "cell_type": "code",
   "execution_count": 66,
   "id": "64993e47",
   "metadata": {},
   "outputs": [
    {
     "data": {
      "text/plain": [
       "array([4, 5])"
      ]
     },
     "execution_count": 66,
     "metadata": {},
     "output_type": "execute_result"
    }
   ],
   "source": [
    "# Cara manual\n",
    "# Mengalikan vektor a dan b dan mencoba masukkan ke rumus\n",
    "c = a @ b\n",
    "c\n"
   ]
  },
  {
   "cell_type": "markdown",
   "id": "1c340d82",
   "metadata": {},
   "source": [
    "apakah dari array 4,5 ada angka yang bisa dikeluarkan supaya eigen vektornya menjadi 1,3 ?\n",
    "jika eigen valuenya 2 maka vektornya [2,2.5]\n",
    "jika eigen valuenya 4 maka vektornya [1,5/4]\n",
    "jika eigen valuenya 0.6 maka vektornya [1.4 ,5]\n",
    "maka vektor [1,3] bukannlah eigen vektor dari matriks b"
   ]
  }
 ],
 "metadata": {
  "kernelspec": {
   "display_name": "Python 3 (ipykernel)",
   "language": "python",
   "name": "python3"
  },
  "language_info": {
   "codemirror_mode": {
    "name": "ipython",
    "version": 3
   },
   "file_extension": ".py",
   "mimetype": "text/x-python",
   "name": "python",
   "nbconvert_exporter": "python",
   "pygments_lexer": "ipython3",
   "version": "3.10.4"
  }
 },
 "nbformat": 4,
 "nbformat_minor": 5
}
