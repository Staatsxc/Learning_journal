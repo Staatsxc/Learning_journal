{
 "cells": [
  {
   "cell_type": "code",
   "execution_count": 2,
   "id": "bcd03e08",
   "metadata": {},
   "outputs": [],
   "source": [
    "import numpy as np"
   ]
  },
  {
   "cell_type": "code",
   "execution_count": 3,
   "id": "38086367",
   "metadata": {},
   "outputs": [
    {
     "data": {
      "text/plain": [
       "array([[ 23,   7,  57],\n",
       "       [ 50,  12,  67],\n",
       "       [ 19, 109,  98]])"
      ]
     },
     "execution_count": 3,
     "metadata": {},
     "output_type": "execute_result"
    }
   ],
   "source": [
    "A = np.array([[23,50,19],\n",
    "             [7,12,109],\n",
    "             [57,67,98],\n",
    "             ])\n",
    "A\n",
    "A.T"
   ]
  },
  {
   "cell_type": "markdown",
   "id": "e6ea7882",
   "metadata": {},
   "source": [
    "### Cara 1 membuat Tensor"
   ]
  },
  {
   "cell_type": "code",
   "execution_count": 20,
   "id": "ed87957b",
   "metadata": {},
   "outputs": [],
   "source": [
    "M1 = np.array([[23, 50],\n",
    "               [7, 12]])\n",
    "M2 = np.array([[57, 67],\n",
    "               [99, 43]])\n",
    "M3 = np.array([[75, 21],\n",
    "               [57, 12]])\n",
    "M4 = np.array([[87, 26],\n",
    "               [18, 84]])"
   ]
  },
  {
   "cell_type": "code",
   "execution_count": 21,
   "id": "1239c1c1",
   "metadata": {},
   "outputs": [
    {
     "data": {
      "text/plain": [
       "array([[[23, 50],\n",
       "        [ 7, 12]],\n",
       "\n",
       "       [[57, 67],\n",
       "        [99, 43]],\n",
       "\n",
       "       [[75, 21],\n",
       "        [57, 12]],\n",
       "\n",
       "       [[87, 26],\n",
       "        [18, 84]]])"
      ]
     },
     "execution_count": 21,
     "metadata": {},
     "output_type": "execute_result"
    }
   ],
   "source": [
    "tensor = np.array([M1, M2, M3, M4])\n",
    "tensor"
   ]
  },
  {
   "cell_type": "markdown",
   "id": "4cde81c9",
   "metadata": {},
   "source": [
    "### Cara 2 membuat Tensor dengan mengetik Manual"
   ]
  },
  {
   "cell_type": "code",
   "execution_count": 34,
   "id": "87ff54b1",
   "metadata": {},
   "outputs": [
    {
     "data": {
      "text/plain": [
       "(4, 2, 2)"
      ]
     },
     "execution_count": 34,
     "metadata": {},
     "output_type": "execute_result"
    }
   ],
   "source": [
    "x = np.array([\n",
    "            [[23,50], \n",
    "             [7,12]],\n",
    "            [[57,67],\n",
    "              [99,43]],\n",
    "            [[75,21],\n",
    "             [57,12]],\n",
    "            [[87,26],\n",
    "             [18,84]]\n",
    "             ])\n",
    "x.shape"
   ]
  },
  {
   "cell_type": "markdown",
   "id": "8b7c9035",
   "metadata": {},
   "source": [
    "### Perkalian Matrix"
   ]
  },
  {
   "cell_type": "code",
   "execution_count": 38,
   "id": "d5e12016",
   "metadata": {},
   "outputs": [
    {
     "data": {
      "text/plain": [
       "array([[ 23,  50,  19],\n",
       "       [  7,  12, 109],\n",
       "       [ 57,  67,  98]])"
      ]
     },
     "execution_count": 38,
     "metadata": {},
     "output_type": "execute_result"
    }
   ],
   "source": [
    "# Define matrix A\n",
    "A = np.array([\n",
    "    [23,50,19],\n",
    "    [7,12,109],\n",
    "    [57,67,98],\n",
    "])\n",
    "A"
   ]
  },
  {
   "cell_type": "code",
   "execution_count": 43,
   "id": "4a6611f3",
   "metadata": {},
   "outputs": [],
   "source": [
    "# Define matrix B\n",
    "B = np.array([17,22,19])"
   ]
  },
  {
   "cell_type": "code",
   "execution_count": 41,
   "id": "99220841",
   "metadata": {},
   "outputs": [
    {
     "data": {
      "text/plain": [
       "array([1852, 2454, 4305])"
      ]
     },
     "execution_count": 41,
     "metadata": {},
     "output_type": "execute_result"
    }
   ],
   "source": [
    "# Perkalian Matrix dengan Numpy\n",
    "np.dot(A,B)"
   ]
  },
  {
   "cell_type": "code",
   "execution_count": 42,
   "id": "30bd2723",
   "metadata": {},
   "outputs": [
    {
     "data": {
      "text/plain": [
       "array([1852, 2454, 4305])"
      ]
     },
     "execution_count": 42,
     "metadata": {},
     "output_type": "execute_result"
    }
   ],
   "source": [
    "# Perkalian matrix dengan @\n",
    "A @ B"
   ]
  },
  {
   "cell_type": "markdown",
   "id": "9c89fd3b",
   "metadata": {},
   "source": [
    "### Melakukan Transpose, hitung determinan, dan inverse"
   ]
  },
  {
   "cell_type": "code",
   "execution_count": 59,
   "id": "03662fa2",
   "metadata": {},
   "outputs": [
    {
     "data": {
      "text/plain": [
       "array([[ 23,  50,  19],\n",
       "       [  7,  12, 109],\n",
       "       [ 57,  67,  98]])"
      ]
     },
     "execution_count": 59,
     "metadata": {},
     "output_type": "execute_result"
    }
   ],
   "source": [
    "A"
   ]
  },
  {
   "cell_type": "code",
   "execution_count": 44,
   "id": "0ded6ab6",
   "metadata": {},
   "outputs": [
    {
     "data": {
      "text/plain": [
       "array([[ 23,   7,  57],\n",
       "       [ 50,  12,  67],\n",
       "       [ 19, 109,  98]])"
      ]
     },
     "execution_count": 44,
     "metadata": {},
     "output_type": "execute_result"
    }
   ],
   "source": [
    "# Transpose matrix A\n",
    "A.T"
   ]
  },
  {
   "cell_type": "code",
   "execution_count": 51,
   "id": "d03cf451",
   "metadata": {},
   "outputs": [
    {
     "data": {
      "text/plain": [
       "131344.0"
      ]
     },
     "execution_count": 51,
     "metadata": {},
     "output_type": "execute_result"
    }
   ],
   "source": [
    "# Menghitung determinan matrix A\n",
    "np.round(np.linalg.det(A))\n",
    "# Jika ada determinan artinya bisa di jadikan inverse, jika tidak maka tidak bisa"
   ]
  },
  {
   "cell_type": "code",
   "execution_count": 54,
   "id": "739b27c7",
   "metadata": {},
   "outputs": [
    {
     "data": {
      "text/plain": [
       "array([[-0.0466485 , -0.02761451,  0.03975819],\n",
       "       [ 0.04208034,  0.00891552, -0.01807467],\n",
       "       [-0.00163692,  0.0099662 , -0.00056341]])"
      ]
     },
     "execution_count": 54,
     "metadata": {},
     "output_type": "execute_result"
    }
   ],
   "source": [
    "# Menghitung Matrix invers \n",
    "A_inv = np.linalg.inv(A)\n",
    "A_inv"
   ]
  },
  {
   "cell_type": "code",
   "execution_count": 62,
   "id": "95c871cc",
   "metadata": {},
   "outputs": [
    {
     "data": {
      "text/plain": [
       "array([[ 23.,  50.,  19.],\n",
       "       [  7.,  12., 109.],\n",
       "       [ 57.,  67.,  98.]])"
      ]
     },
     "execution_count": 62,
     "metadata": {},
     "output_type": "execute_result"
    }
   ],
   "source": [
    "# Melakukan perkalian invers matrix terhadap matrix aslinya akan membuat matrix identitas\n",
    "C = A @ A_inv\n",
    "# Jika matrix identitas dikali dengan matrix aslinya maka hasilnya akan menjadi matrix aslinya dan bersifat komutatif\n",
    "A @ C"
   ]
  }
 ],
 "metadata": {
  "kernelspec": {
   "display_name": "Python 3 (ipykernel)",
   "language": "python",
   "name": "python3"
  },
  "language_info": {
   "codemirror_mode": {
    "name": "ipython",
    "version": 3
   },
   "file_extension": ".py",
   "mimetype": "text/x-python",
   "name": "python",
   "nbconvert_exporter": "python",
   "pygments_lexer": "ipython3",
   "version": "3.10.4"
  }
 },
 "nbformat": 4,
 "nbformat_minor": 5
}
