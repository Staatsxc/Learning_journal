{
 "cells": [
  {
   "cell_type": "code",
   "execution_count": 1,
   "metadata": {
    "id": "jkr6DVSeHrgX"
   },
   "outputs": [],
   "source": [
    "import numpy as np\n",
    "import matplotlib.pyplot as plt\n",
    "import scipy.linalg as la"
   ]
  },
  {
   "cell_type": "code",
   "execution_count": 2,
   "metadata": {
    "id": "PCivc0p0I3HB"
   },
   "outputs": [],
   "source": [
    "def plot_vector2d(vector2d, origin=[0, 0], **options):\n",
    "    return plt.arrow(origin[0], origin[1], vector2d[0], vector2d[1],\n",
    "              head_width=0.2, head_length=0.3, length_includes_head=True,\n",
    "              **options)"
   ]
  },
  {
   "cell_type": "code",
   "execution_count": 3,
   "metadata": {
    "colab": {
     "base_uri": "https://localhost:8080/",
     "height": 269
    },
    "id": "7oDUsPg4I5jN",
    "outputId": "2ab752e8-a239-42ea-ba94-3d29caddb3c6"
   },
   "outputs": [
    {
     "data": {
      "image/png": "[encoded data removed]",
      "text/plain": [
       "<Figure size 432x288 with 1 Axes>"
      ]
     },
     "metadata": {
      "needs_background": "light"
     },
     "output_type": "display_data"
    }
   ],
   "source": [
    "v = np.array([4, 6])\n",
    "transf = np.array([[1, 0],\n",
    "                   [0, -1]])\n",
    "\n",
    "plot_vector2d(v, color = 'r')\n",
    "plot_vector2d(transf @ v, color = 'g')\n",
    "\n",
    "plt.axis([-10, 10, -10, 10])\n",
    "plt.axvline([0])\n",
    "plt.axhline([0])\n",
    "plt.grid()\n",
    "plt.show()"
   ]
  },
  {
   "cell_type": "code",
   "execution_count": 4,
   "metadata": {
    "colab": {
     "base_uri": "https://localhost:8080/"
    },
    "id": "gZmOWTqIYH67",
    "outputId": "8b018e4b-5c03-4291-f4fd-84a7912e6dc5"
   },
   "outputs": [
    {
     "data": {
      "text/plain": [
       "array([[1, 2],\n",
       "       [2, 4]])"
      ]
     },
     "execution_count": 4,
     "metadata": {},
     "output_type": "execute_result"
    }
   ],
   "source": [
    "# Matrix decomposition\n",
    "M = np.array([[1, 2],\n",
    "              [2, 4]])\n",
    "M"
   ]
  },
  {
   "cell_type": "code",
   "execution_count": 5,
   "metadata": {
    "id": "xUaWEa9kYUPv"
   },
   "outputs": [],
   "source": [
    "eig_val, eig_vec = np.linalg.eig(M)"
   ]
  },
  {
   "cell_type": "code",
   "execution_count": 6,
   "metadata": {
    "colab": {
     "base_uri": "https://localhost:8080/"
    },
    "id": "tdDAelohYkVN",
    "outputId": "125ee409-d275-4379-9825-77fa0cf5e627"
   },
   "outputs": [
    {
     "data": {
      "text/plain": [
       "array([0., 5.])"
      ]
     },
     "execution_count": 6,
     "metadata": {},
     "output_type": "execute_result"
    }
   ],
   "source": [
    "eig_val"
   ]
  },
  {
   "cell_type": "code",
   "execution_count": 7,
   "metadata": {},
   "outputs": [
    {
     "data": {
      "text/plain": [
       "array([[0., 0.],\n",
       "       [0., 5.]])"
      ]
     },
     "execution_count": 7,
     "metadata": {},
     "output_type": "execute_result"
    }
   ],
   "source": [
    "np.diag(eig_val)"
   ]
  },
  {
   "cell_type": "code",
   "execution_count": 8,
   "metadata": {
    "colab": {
     "base_uri": "https://localhost:8080/"
    },
    "id": "e0XNCEueYllO",
    "outputId": "ec97fe7f-8e0f-4f2b-b44f-8cfa938ce5fa"
   },
   "outputs": [
    {
     "data": {
      "text/plain": [
       "array([[-0.89442719, -0.4472136 ],\n",
       "       [ 0.4472136 , -0.89442719]])"
      ]
     },
     "execution_count": 8,
     "metadata": {},
     "output_type": "execute_result"
    }
   ],
   "source": [
    "eig_vec"
   ]
  },
  {
   "cell_type": "code",
   "execution_count": 9,
   "metadata": {
    "colab": {
     "base_uri": "https://localhost:8080/"
    },
    "id": "_45V7RSJZaDC",
    "outputId": "28fb3917-6f1a-4799-eee4-78ebae653701"
   },
   "outputs": [
    {
     "data": {
      "text/plain": [
       "array([0.4472136 , 0.89442719])"
      ]
     },
     "execution_count": 9,
     "metadata": {},
     "output_type": "execute_result"
    }
   ],
   "source": [
    "np.array([1/np.sqrt(5), 2/np.sqrt(5)])"
   ]
  },
  {
   "cell_type": "code",
   "execution_count": 10,
   "metadata": {
    "colab": {
     "base_uri": "https://localhost:8080/"
    },
    "id": "9LVMqis5aY8z",
    "outputId": "9093d4e5-0021-4555-ed9c-b852f6d6f34d"
   },
   "outputs": [
    {
     "data": {
      "text/plain": [
       "array([[1., 2.],\n",
       "       [2., 4.]])"
      ]
     },
     "execution_count": 10,
     "metadata": {},
     "output_type": "execute_result"
    }
   ],
   "source": [
    "# Matrix Reconstruction\n",
    "eig_vec @ np.diag(eig_val) @ np.linalg.inv(eig_vec)"
   ]
  },
  {
   "cell_type": "code",
   "execution_count": 11,
   "metadata": {
    "colab": {
     "base_uri": "https://localhost:8080/"
    },
    "id": "6v0SJpuRasvG",
    "outputId": "70c11d0f-de84-4c55-ce32-6325f689a117"
   },
   "outputs": [
    {
     "data": {
      "text/plain": [
       "array([[1, 2],\n",
       "       [2, 4]])"
      ]
     },
     "execution_count": 11,
     "metadata": {},
     "output_type": "execute_result"
    }
   ],
   "source": [
    "M"
   ]
  },
  {
   "cell_type": "markdown",
   "metadata": {
    "id": "fsJERdC9c8Y0"
   },
   "source": [
    "Case: Social Network Analysis"
   ]
  },
  {
   "cell_type": "code",
   "execution_count": 12,
   "metadata": {
    "colab": {
     "base_uri": "https://localhost:8080/"
    },
    "id": "ijX1Az7Eay1C",
    "outputId": "ee2836b8-b2c5-4f35-d25f-309bb4cd9114"
   },
   "outputs": [
    {
     "data": {
      "text/plain": [
       "array([[0.  , 0.25, 0.  , 0.5 , 0.  , 0.  ],\n",
       "       [0.  , 0.  , 0.  , 0.  , 0.  , 0.  ],\n",
       "       [0.5 , 0.25, 0.  , 0.  , 0.  , 0.5 ],\n",
       "       [0.5 , 0.25, 0.  , 0.  , 0.  , 0.5 ],\n",
       "       [0.  , 0.25, 0.  , 0.5 , 0.  , 0.  ],\n",
       "       [0.  , 0.  , 0.  , 0.  , 0.  , 0.  ]])"
      ]
     },
     "execution_count": 12,
     "metadata": {},
     "output_type": "execute_result"
    }
   ],
   "source": [
    "S = np.array([[0, 1/4, 0, 1/2, 0, 0],\n",
    "              [0, 0, 0, 0, 0, 0],\n",
    "              [1/2, 1/4, 0, 0, 0, 1/2],\n",
    "              [1/2, 1/4, 0, 0, 0, 1/2],\n",
    "              [0, 1/4, 0, 1/2, 0, 0],\n",
    "              [0, 0, 0, 0, 0, 0]])\n",
    "\n",
    "S"
   ]
  },
  {
   "cell_type": "code",
   "execution_count": 13,
   "metadata": {
    "id": "Z9FYo8n1f_8l"
   },
   "outputs": [],
   "source": [
    "eig_val, eig_vec = np.linalg.eig(S)"
   ]
  },
  {
   "cell_type": "code",
   "execution_count": 14,
   "metadata": {
    "colab": {
     "base_uri": "https://localhost:8080/"
    },
    "id": "EPEDHxykgFzq",
    "outputId": "3bc84b85-9b1d-4500-89cd-f3e871b7e8d5"
   },
   "outputs": [
    {
     "data": {
      "text/plain": [
       "array([ 0. ,  0. ,  0.5, -0.5,  0. ,  0. ])"
      ]
     },
     "execution_count": 14,
     "metadata": {},
     "output_type": "execute_result"
    }
   ],
   "source": [
    "eig_val"
   ]
  },
  {
   "cell_type": "code",
   "execution_count": 15,
   "metadata": {
    "colab": {
     "base_uri": "https://localhost:8080/"
    },
    "id": "AMhICUWhgHCK",
    "outputId": "6b11644f-69b9-4b1e-cd68-5ade085bb3d2"
   },
   "outputs": [
    {
     "data": {
      "text/plain": [
       "array([[ 0.00000000e+000,  0.00000000e+000,  5.00000000e-001,\n",
       "        -5.00000000e-001, -2.16623325e-276, -2.34960985e-276],\n",
       "       [ 0.00000000e+000,  0.00000000e+000,  0.00000000e+000,\n",
       "         0.00000000e+000,  4.33246650e-276,  0.00000000e+000],\n",
       "       [ 0.00000000e+000,  1.00000000e+000,  5.00000000e-001,\n",
       "         5.00000000e-001,  6.00000000e-001,  2.16930458e-001],\n",
       "       [ 0.00000000e+000,  0.00000000e+000,  5.00000000e-001,\n",
       "         5.00000000e-001, -2.16623325e-276,  1.10526918e-291],\n",
       "       [ 1.00000000e+000,  0.00000000e+000,  5.00000000e-001,\n",
       "        -5.00000000e-001, -8.00000000e-001, -9.76187060e-001],\n",
       "       [ 0.00000000e+000,  0.00000000e+000,  0.00000000e+000,\n",
       "         0.00000000e+000,  0.00000000e+000,  2.34960985e-276]])"
      ]
     },
     "execution_count": 15,
     "metadata": {},
     "output_type": "execute_result"
    }
   ],
   "source": [
    "eig_vec"
   ]
  },
  {
   "cell_type": "code",
   "execution_count": 16,
   "metadata": {
    "colab": {
     "base_uri": "https://localhost:8080/"
    },
    "id": "wkxJMPAJgzx-",
    "outputId": "cf4840ef-10c1-4ad6-b387-1b4baa170c73"
   },
   "outputs": [
    {
     "data": {
      "text/plain": [
       "2"
      ]
     },
     "execution_count": 16,
     "metadata": {},
     "output_type": "execute_result"
    }
   ],
   "source": [
    "# posisi eigen value terbesar\n",
    "np.argmax(eig_val)"
   ]
  },
  {
   "cell_type": "code",
   "execution_count": 17,
   "metadata": {
    "colab": {
     "base_uri": "https://localhost:8080/"
    },
    "id": "J_vQXQmvg-6Z",
    "outputId": "9143aaf0-cdae-4cde-c9ee-d5e9e8d6a36a"
   },
   "outputs": [
    {
     "data": {
      "text/plain": [
       "array([0.        , 1.        , 0.5       , 0.5       , 0.6       ,\n",
       "       0.21693046])"
      ]
     },
     "execution_count": 17,
     "metadata": {},
     "output_type": "execute_result"
    }
   ],
   "source": [
    "# akses baris vector eigen value terbesar\n",
    "eig_vec[2]"
   ]
  },
  {
   "cell_type": "code",
   "execution_count": 18,
   "metadata": {},
   "outputs": [
    {
     "data": {
      "text/plain": [
       "array([[-1.00000000e+000,  1.84652322e+275,  0.00000000e+000,\n",
       "         4.44089210e-016,  1.00000000e+000,  4.15467725e+275],\n",
       "       [-2.22044605e-016, -1.38489242e+275,  1.00000000e+000,\n",
       "        -1.00000000e+000,  0.00000000e+000, -9.23261610e+274],\n",
       "       [ 1.00000000e+000,  1.00000000e+000,  0.00000000e+000,\n",
       "         1.00000000e+000,  0.00000000e+000,  1.00000000e+000],\n",
       "       [-1.00000000e+000, -1.85037171e-016,  0.00000000e+000,\n",
       "         1.00000000e+000,  0.00000000e+000, -1.00000000e+000],\n",
       "       [ 0.00000000e+000,  2.30815403e+275,  0.00000000e+000,\n",
       "         0.00000000e+000,  0.00000000e+000,  0.00000000e+000],\n",
       "       [ 0.00000000e+000,  0.00000000e+000,  0.00000000e+000,\n",
       "         0.00000000e+000,  0.00000000e+000,  4.25602573e+275]])"
      ]
     },
     "execution_count": 18,
     "metadata": {},
     "output_type": "execute_result"
    }
   ],
   "source": [
    "v = np.linalg.inv(eig_vec)\n",
    "v"
   ]
  },
  {
   "cell_type": "code",
   "execution_count": 19,
   "metadata": {
    "colab": {
     "base_uri": "https://localhost:8080/"
    },
    "id": "q4xneA-thfEY",
    "outputId": "81c9c095-9429-4c50-db44-99469891a422"
   },
   "outputs": [
    {
     "data": {
      "text/plain": [
       "1"
      ]
     },
     "execution_count": 19,
     "metadata": {},
     "output_type": "execute_result"
    }
   ],
   "source": [
    "# posisi nilai terbesar merepresentasikan agen yang paling penting\n",
    "np.argmax(eig_vec[2])"
   ]
  },
  {
   "cell_type": "code",
   "execution_count": 20,
   "metadata": {},
   "outputs": [
    {
     "data": {
      "text/plain": [
       "array([ -3.15193256, -12.56821563,   7.49157328])"
      ]
     },
     "execution_count": 20,
     "metadata": {},
     "output_type": "execute_result"
    }
   ],
   "source": [
    "A = np.array([ [1, 2, 3], [4, 5, 6], [7, 8, 9]])\n",
    "\n",
    "values, vectors = np.linalg.eig(A)\n",
    "\n",
    "values @ vectors"
   ]
  },
  {
   "cell_type": "code",
   "execution_count": 21,
   "metadata": {},
   "outputs": [
    {
     "data": {
      "text/plain": [
       "array([[1., 2., 3.],\n",
       "       [4., 5., 6.],\n",
       "       [7., 8., 9.]])"
      ]
     },
     "execution_count": 21,
     "metadata": {},
     "output_type": "execute_result"
    }
   ],
   "source": [
    "B=vectors.dot(np.diag(values)).dot(np.linalg.inv(vectors))\n",
    "B"
   ]
  },
  {
   "cell_type": "markdown",
   "metadata": {
    "id": "0_7tHrL8hpQj"
   },
   "source": [
    "berdasarkan page rank ditemukan agen yang memiliki poin kepentingan terbesar adalah agen B / posisi indeks 1."
   ]
  }
 ],
 "metadata": {
  "colab": {
   "name": "Eigen Decomposition.ipynb",
   "provenance": []
  },
  "kernelspec": {
   "display_name": "Python 3 (ipykernel)",
   "language": "python",
   "name": "python3"
  },
  "language_info": {
   "codemirror_mode": {
    "name": "ipython",
    "version": 3
   },
   "file_extension": ".py",
   "mimetype": "text/x-python",
   "name": "python",
   "nbconvert_exporter": "python",
   "pygments_lexer": "ipython3",
   "version": "3.10.4"
  }
 },
 "nbformat": 4,
 "nbformat_minor": 1
}
