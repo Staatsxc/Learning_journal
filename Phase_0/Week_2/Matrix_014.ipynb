{
 "cells": [
  {
   "cell_type": "code",
   "execution_count": 1,
   "metadata": {
    "id": "2yXcLOX4R2TO"
   },
   "outputs": [],
   "source": [
    "import numpy as np"
   ]
  },
  {
   "cell_type": "code",
   "execution_count": 2,
   "metadata": {
    "colab": {
     "base_uri": "https://localhost:8080/"
    },
    "id": "HJmSPTV6WK1M",
    "outputId": "fe2ae528-6404-4784-ff8e-0fef20025e48"
   },
   "outputs": [
    {
     "data": {
      "text/plain": [
       "array([[1, 2, 3],\n",
       "       [4, 5, 6],\n",
       "       [7, 8, 9]])"
      ]
     },
     "execution_count": 2,
     "metadata": {},
     "output_type": "execute_result"
    }
   ],
   "source": [
    "A = np.array([[1, 2, 3],\n",
    "              [4, 5, 6],\n",
    "              [7, 8, 9]])\n",
    "A"
   ]
  },
  {
   "cell_type": "code",
   "execution_count": 3,
   "metadata": {
    "colab": {
     "base_uri": "https://localhost:8080/"
    },
    "id": "eCQ8z3ZnWuPw",
    "outputId": "69b4f482-952e-49e0-cb25-6e12199b77b2"
   },
   "outputs": [
    {
     "data": {
      "text/plain": [
       "array([4, 5, 6])"
      ]
     },
     "execution_count": 3,
     "metadata": {},
     "output_type": "execute_result"
    }
   ],
   "source": [
    "A[1, :]"
   ]
  },
  {
   "cell_type": "code",
   "execution_count": 4,
   "metadata": {
    "colab": {
     "base_uri": "https://localhost:8080/"
    },
    "id": "xYqzeg1nXGS1",
    "outputId": "d8384685-8d73-47ff-9123-072712564c3c"
   },
   "outputs": [
    {
     "data": {
      "text/plain": [
       "array([3, 6, 9])"
      ]
     },
     "execution_count": 4,
     "metadata": {},
     "output_type": "execute_result"
    }
   ],
   "source": [
    "A[:, -1]"
   ]
  },
  {
   "cell_type": "code",
   "execution_count": 5,
   "metadata": {
    "colab": {
     "base_uri": "https://localhost:8080/"
    },
    "id": "gq5x8uh9XUsi",
    "outputId": "d6568323-008a-4a62-9fdd-ca359148efec"
   },
   "outputs": [
    {
     "data": {
      "text/plain": [
       "array([8, 9])"
      ]
     },
     "execution_count": 5,
     "metadata": {},
     "output_type": "execute_result"
    }
   ],
   "source": [
    "A[2, 1:]"
   ]
  },
  {
   "cell_type": "code",
   "execution_count": 6,
   "metadata": {
    "colab": {
     "base_uri": "https://localhost:8080/"
    },
    "id": "aLp49AOpZbqq",
    "outputId": "4d57189a-75ee-45c5-bb81-fad6d3a0c6d6"
   },
   "outputs": [
    {
     "data": {
      "text/plain": [
       "array([[1, 3],\n",
       "       [3, 2]])"
      ]
     },
     "execution_count": 6,
     "metadata": {},
     "output_type": "execute_result"
    }
   ],
   "source": [
    "M = np.array([[1, 3],\n",
    "              [3, 2]])\n",
    "\n",
    "M"
   ]
  },
  {
   "cell_type": "code",
   "execution_count": 7,
   "metadata": {
    "colab": {
     "base_uri": "https://localhost:8080/"
    },
    "id": "F8buLMzeZp-8",
    "outputId": "b7f3a2a1-6382-4da6-9d79-6d1c9b86d860"
   },
   "outputs": [
    {
     "data": {
      "text/plain": [
       "array([[1., 0.],\n",
       "       [0., 1.]])"
      ]
     },
     "execution_count": 7,
     "metadata": {},
     "output_type": "execute_result"
    }
   ],
   "source": [
    "I = np.eye(2)\n",
    "I"
   ]
  },
  {
   "cell_type": "code",
   "execution_count": 8,
   "metadata": {
    "colab": {
     "base_uri": "https://localhost:8080/"
    },
    "id": "kWy_r-FqZ22S",
    "outputId": "fded66f1-e693-4832-bfd5-df59898d9fe1"
   },
   "outputs": [
    {
     "data": {
      "text/plain": [
       "array([[1., 3.],\n",
       "       [3., 2.]])"
      ]
     },
     "execution_count": 8,
     "metadata": {},
     "output_type": "execute_result"
    }
   ],
   "source": [
    "M @ I"
   ]
  },
  {
   "cell_type": "code",
   "execution_count": 9,
   "metadata": {
    "colab": {
     "base_uri": "https://localhost:8080/"
    },
    "id": "bBnid52caTYb",
    "outputId": "3fc2d51c-251b-4894-fd3d-aa9f9d1fa978"
   },
   "outputs": [
    {
     "data": {
      "text/plain": [
       "array([[1, 2, 3],\n",
       "       [4, 5, 6],\n",
       "       [7, 8, 9]])"
      ]
     },
     "execution_count": 9,
     "metadata": {},
     "output_type": "execute_result"
    }
   ],
   "source": [
    "A"
   ]
  },
  {
   "cell_type": "code",
   "execution_count": 10,
   "metadata": {
    "colab": {
     "base_uri": "https://localhost:8080/"
    },
    "id": "Bpqc-zRcaWyF",
    "outputId": "36eeb1da-d17a-4edb-9bf1-a3b639f87d0f"
   },
   "outputs": [
    {
     "data": {
      "text/plain": [
       "array([[1, 0, 0],\n",
       "       [0, 2, 0],\n",
       "       [0, 0, 3]])"
      ]
     },
     "execution_count": 10,
     "metadata": {},
     "output_type": "execute_result"
    }
   ],
   "source": [
    "np.diag(np.array([1, 2, 3]))"
   ]
  },
  {
   "cell_type": "code",
   "execution_count": 11,
   "metadata": {
    "colab": {
     "base_uri": "https://localhost:8080/"
    },
    "id": "AGc87fkiaBs2",
    "outputId": "a8eb6c5d-f1e7-438e-86cb-2c6775ce342c"
   },
   "outputs": [
    {
     "data": {
      "text/plain": [
       "array([[1, 0, 0],\n",
       "       [0, 5, 0],\n",
       "       [0, 0, 9]])"
      ]
     },
     "execution_count": 11,
     "metadata": {},
     "output_type": "execute_result"
    }
   ],
   "source": [
    "np.diag(np.diag(A))"
   ]
  },
  {
   "cell_type": "code",
   "execution_count": 12,
   "metadata": {
    "colab": {
     "base_uri": "https://localhost:8080/"
    },
    "id": "I4-pTUhWazQk",
    "outputId": "dc821355-f3aa-4dd2-bb75-a4e6d27f219a"
   },
   "outputs": [
    {
     "data": {
      "text/plain": [
       "array([[0., 0., 0., 0.],\n",
       "       [0., 0., 0., 0.],\n",
       "       [0., 0., 0., 0.]])"
      ]
     },
     "execution_count": 12,
     "metadata": {},
     "output_type": "execute_result"
    }
   ],
   "source": [
    "np.zeros([3,4])"
   ]
  },
  {
   "cell_type": "code",
   "execution_count": 13,
   "metadata": {
    "colab": {
     "base_uri": "https://localhost:8080/"
    },
    "id": "UlGRhx47bIPQ",
    "outputId": "e3787f6c-d7e1-4528-d6fd-41f0e7f4e37a"
   },
   "outputs": [
    {
     "data": {
      "text/plain": [
       "array([[2, 2, 1],\n",
       "       [1, 3, 1],\n",
       "       [2, 0, 1]])"
      ]
     },
     "execution_count": 13,
     "metadata": {},
     "output_type": "execute_result"
    }
   ],
   "source": [
    "B = np.array([[2, 2, 1],\n",
    "              [1, 3, 1],\n",
    "              [2, 0, 1]])\n",
    "B"
   ]
  },
  {
   "cell_type": "code",
   "execution_count": 14,
   "metadata": {
    "colab": {
     "base_uri": "https://localhost:8080/"
    },
    "id": "pfJGa7FCbUIw",
    "outputId": "49e65117-d354-40e3-decb-704087f3945d"
   },
   "outputs": [
    {
     "data": {
      "text/plain": [
       "array([[1, 2, 3],\n",
       "       [4, 5, 6],\n",
       "       [7, 8, 9]])"
      ]
     },
     "execution_count": 14,
     "metadata": {},
     "output_type": "execute_result"
    }
   ],
   "source": [
    "A"
   ]
  },
  {
   "cell_type": "markdown",
   "metadata": {
    "id": "Ju_PpYVIR7Fi"
   },
   "source": [
    "## **Operasi Aritmatika**"
   ]
  },
  {
   "cell_type": "markdown",
   "metadata": {
    "id": "kd6bnP8_R9-L"
   },
   "source": [
    "### **penjumlahan**"
   ]
  },
  {
   "cell_type": "code",
   "execution_count": 15,
   "metadata": {
    "colab": {
     "base_uri": "https://localhost:8080/"
    },
    "id": "npQ_qyOUR9RZ",
    "outputId": "6ec849ef-580f-477c-f123-b4912a78ef49"
   },
   "outputs": [
    {
     "data": {
      "text/plain": [
       "array([[11, 12, 13],\n",
       "       [14, 15, 16],\n",
       "       [17, 18, 19]])"
      ]
     },
     "execution_count": 15,
     "metadata": {},
     "output_type": "execute_result"
    }
   ],
   "source": [
    "# matrix terhadap skalar\n",
    "10 + A"
   ]
  },
  {
   "cell_type": "code",
   "execution_count": 16,
   "metadata": {
    "colab": {
     "base_uri": "https://localhost:8080/"
    },
    "id": "bKMON-70bsEb",
    "outputId": "133400ca-1c3a-4c45-bcaa-cea25bc7cffe"
   },
   "outputs": [
    {
     "data": {
      "text/plain": [
       "array([[ 3,  4,  4],\n",
       "       [ 5,  8,  7],\n",
       "       [ 9,  8, 10]])"
      ]
     },
     "execution_count": 16,
     "metadata": {},
     "output_type": "execute_result"
    }
   ],
   "source": [
    "# matrix terhadap matrix\n",
    "A + B"
   ]
  },
  {
   "cell_type": "code",
   "execution_count": 17,
   "metadata": {
    "colab": {
     "base_uri": "https://localhost:8080/"
    },
    "id": "1gWvtZPhb93_",
    "outputId": "a603463d-ece1-4ab2-c636-030b5b12ce74"
   },
   "outputs": [
    {
     "data": {
      "text/plain": [
       "array([2, 1, 3, 5])"
      ]
     },
     "execution_count": 17,
     "metadata": {},
     "output_type": "execute_result"
    }
   ],
   "source": [
    "v = np.array([2, 1, 3, 5])\n",
    "v"
   ]
  },
  {
   "cell_type": "code",
   "execution_count": 18,
   "metadata": {
    "colab": {
     "base_uri": "https://localhost:8080/"
    },
    "id": "Pn_cp5n5cEr-",
    "outputId": "fc38cf63-c89a-458b-fa43-d4e8c98ff182"
   },
   "outputs": [
    {
     "data": {
      "text/plain": [
       "array([[1, 2, 3],\n",
       "       [4, 5, 6],\n",
       "       [7, 8, 9]])"
      ]
     },
     "execution_count": 18,
     "metadata": {},
     "output_type": "execute_result"
    }
   ],
   "source": [
    "A"
   ]
  },
  {
   "cell_type": "code",
   "execution_count": 19,
   "metadata": {
    "colab": {
     "base_uri": "https://localhost:8080/",
     "height": 169
    },
    "id": "txMvZwYtcF2j",
    "outputId": "ec4d048b-b00e-402b-c4c0-0380d173af90"
   },
   "outputs": [
    {
     "ename": "ValueError",
     "evalue": "operands could not be broadcast together with shapes (3,3) (4,) ",
     "output_type": "error",
     "traceback": [
      "\u001b[1;31m---------------------------------------------------------------------------\u001b[0m",
      "\u001b[1;31mValueError\u001b[0m                                Traceback (most recent call last)",
      "Input \u001b[1;32mIn [19]\u001b[0m, in \u001b[0;36m<cell line: 2>\u001b[1;34m()\u001b[0m\n\u001b[0;32m      1\u001b[0m \u001b[38;5;66;03m# error shape vector tidak sama dengan jumlah kolom matrix\u001b[39;00m\n\u001b[1;32m----> 2\u001b[0m \u001b[43mA\u001b[49m\u001b[43m \u001b[49m\u001b[38;5;241;43m+\u001b[39;49m\u001b[43m \u001b[49m\u001b[43mv\u001b[49m\n",
      "\u001b[1;31mValueError\u001b[0m: operands could not be broadcast together with shapes (3,3) (4,) "
     ]
    }
   ],
   "source": [
    "# error shape vector tidak sama dengan jumlah kolom matrix\n",
    "A + v"
   ]
  },
  {
   "cell_type": "markdown",
   "metadata": {
    "id": "tiy-3lBGSC2U"
   },
   "source": [
    "### **pengurangan**"
   ]
  },
  {
   "cell_type": "code",
   "execution_count": 20,
   "metadata": {
    "colab": {
     "base_uri": "https://localhost:8080/"
    },
    "id": "I7wxBtN5c-dU",
    "outputId": "39058717-c7f6-401d-b974-3239ae1bf99b"
   },
   "outputs": [
    {
     "data": {
      "text/plain": [
       "array([[2, 2, 1],\n",
       "       [1, 3, 1],\n",
       "       [2, 0, 1]])"
      ]
     },
     "execution_count": 20,
     "metadata": {},
     "output_type": "execute_result"
    }
   ],
   "source": [
    "B"
   ]
  },
  {
   "cell_type": "code",
   "execution_count": 21,
   "metadata": {
    "colab": {
     "base_uri": "https://localhost:8080/"
    },
    "id": "i3_zTaUPSEXj",
    "outputId": "f4e97c69-f00a-4b98-e4e9-269fb51d5fd8"
   },
   "outputs": [
    {
     "data": {
      "text/plain": [
       "array([[ 1,  1,  0],\n",
       "       [ 0,  2,  0],\n",
       "       [ 1, -1,  0]])"
      ]
     },
     "execution_count": 21,
     "metadata": {},
     "output_type": "execute_result"
    }
   ],
   "source": [
    "# matrix terhadap skalar\n",
    "B - 1"
   ]
  },
  {
   "cell_type": "code",
   "execution_count": 22,
   "metadata": {
    "colab": {
     "base_uri": "https://localhost:8080/"
    },
    "id": "i6H8fAoydFwQ",
    "outputId": "6761537f-ad64-482b-bb7b-a388f4f17402"
   },
   "outputs": [
    {
     "data": {
      "text/plain": [
       "array([[-1,  0,  2],\n",
       "       [ 3,  2,  5],\n",
       "       [ 5,  8,  8]])"
      ]
     },
     "execution_count": 22,
     "metadata": {},
     "output_type": "execute_result"
    }
   ],
   "source": [
    "# matrix terhadap matrix\n",
    "A - B"
   ]
  },
  {
   "cell_type": "markdown",
   "metadata": {
    "id": "nG3-n_IsSE0w"
   },
   "source": [
    "### **pembagian**"
   ]
  },
  {
   "cell_type": "code",
   "execution_count": 23,
   "metadata": {
    "colab": {
     "base_uri": "https://localhost:8080/"
    },
    "id": "HEkBhV_HSGU0",
    "outputId": "e9c2d768-1eb2-464b-f7f8-384dae2cd39d"
   },
   "outputs": [
    {
     "data": {
      "text/plain": [
       "array([[0.5, 1. , 1.5],\n",
       "       [2. , 2.5, 3. ],\n",
       "       [3.5, 4. , 4.5]])"
      ]
     },
     "execution_count": 23,
     "metadata": {},
     "output_type": "execute_result"
    }
   ],
   "source": [
    "# matrix terhadap scalar\n",
    "A / 2"
   ]
  },
  {
   "cell_type": "code",
   "execution_count": 24,
   "metadata": {
    "colab": {
     "base_uri": "https://localhost:8080/"
    },
    "id": "5jFuyynzdTBV",
    "outputId": "0d39a554-7474-4486-f3aa-89c2418e4387"
   },
   "outputs": [
    {
     "name": "stderr",
     "output_type": "stream",
     "text": [
      "C:\\Users\\alexa\\AppData\\Local\\Temp\\ipykernel_9764\\2724318927.py:2: RuntimeWarning: divide by zero encountered in true_divide\n",
      "  A / B\n"
     ]
    },
    {
     "data": {
      "text/plain": [
       "array([[0.5       , 1.        , 3.        ],\n",
       "       [4.        , 1.66666667, 6.        ],\n",
       "       [3.5       ,        inf, 9.        ]])"
      ]
     },
     "execution_count": 24,
     "metadata": {},
     "output_type": "execute_result"
    }
   ],
   "source": [
    "# matrix terhadap matrix\n",
    "A / B"
   ]
  },
  {
   "cell_type": "markdown",
   "metadata": {
    "id": "MnZWuaxNSG3z"
   },
   "source": [
    "### **perkalian**"
   ]
  },
  {
   "cell_type": "code",
   "execution_count": 25,
   "metadata": {
    "colab": {
     "base_uri": "https://localhost:8080/"
    },
    "id": "THxA5PxsSIDF",
    "outputId": "9afab51d-4cb9-4c21-ba48-564d402d0af6"
   },
   "outputs": [
    {
     "data": {
      "text/plain": [
       "array([[10, 20, 30],\n",
       "       [40, 50, 60],\n",
       "       [70, 80, 90]])"
      ]
     },
     "execution_count": 25,
     "metadata": {},
     "output_type": "execute_result"
    }
   ],
   "source": [
    "# matrix terhadap scalar\n",
    "A * 10"
   ]
  },
  {
   "cell_type": "code",
   "execution_count": 26,
   "metadata": {
    "colab": {
     "base_uri": "https://localhost:8080/"
    },
    "id": "4ctsE_LEd6Zz",
    "outputId": "6ba768f6-c554-4153-ad63-4d320e1c77fc"
   },
   "outputs": [
    {
     "data": {
      "text/plain": [
       "array([[ 2,  4,  3],\n",
       "       [ 4, 15,  6],\n",
       "       [14,  0,  9]])"
      ]
     },
     "execution_count": 26,
     "metadata": {},
     "output_type": "execute_result"
    }
   ],
   "source": [
    "# hadamard product (element-wise multiplication)\n",
    "A * B"
   ]
  },
  {
   "cell_type": "code",
   "execution_count": 27,
   "metadata": {
    "colab": {
     "base_uri": "https://localhost:8080/"
    },
    "id": "wprYW2gveFNu",
    "outputId": "b1350ab9-399c-4cd8-ac25-5341a0691653"
   },
   "outputs": [
    {
     "data": {
      "text/plain": [
       "array([[1, 2, 3],\n",
       "       [4, 5, 6],\n",
       "       [7, 8, 9]])"
      ]
     },
     "execution_count": 27,
     "metadata": {},
     "output_type": "execute_result"
    }
   ],
   "source": [
    "A"
   ]
  },
  {
   "cell_type": "code",
   "execution_count": 28,
   "metadata": {
    "colab": {
     "base_uri": "https://localhost:8080/"
    },
    "id": "NZBHcLxIeF_s",
    "outputId": "89e9d433-1291-40f6-f3e1-b4971740bac7"
   },
   "outputs": [
    {
     "data": {
      "text/plain": [
       "array([[2, 2, 1],\n",
       "       [1, 3, 1],\n",
       "       [2, 0, 1]])"
      ]
     },
     "execution_count": 28,
     "metadata": {},
     "output_type": "execute_result"
    }
   ],
   "source": [
    "B"
   ]
  },
  {
   "cell_type": "code",
   "execution_count": 29,
   "metadata": {
    "colab": {
     "base_uri": "https://localhost:8080/"
    },
    "id": "e2PgA8A4gpet",
    "outputId": "33456b76-c66d-4611-dadd-dfae8920eb6b"
   },
   "outputs": [
    {
     "data": {
      "text/plain": [
       "array([[10,  8,  6],\n",
       "       [25, 23, 15],\n",
       "       [40, 38, 24]])"
      ]
     },
     "execution_count": 29,
     "metadata": {},
     "output_type": "execute_result"
    }
   ],
   "source": [
    "# matrix-matrix multiplication\n",
    "A @ B"
   ]
  },
  {
   "cell_type": "code",
   "execution_count": 30,
   "metadata": {
    "colab": {
     "base_uri": "https://localhost:8080/"
    },
    "id": "8U9fYj8wjTKW",
    "outputId": "c276b472-ff17-4ff5-ef3e-07edfe8154d3"
   },
   "outputs": [
    {
     "data": {
      "text/plain": [
       "array([[17, 22, 27],\n",
       "       [20, 25, 30],\n",
       "       [ 9, 12, 15]])"
      ]
     },
     "execution_count": 30,
     "metadata": {},
     "output_type": "execute_result"
    }
   ],
   "source": [
    "# tidak komutatif\n",
    "B @ A"
   ]
  },
  {
   "cell_type": "code",
   "execution_count": 31,
   "metadata": {
    "colab": {
     "base_uri": "https://localhost:8080/"
    },
    "id": "-QpOMwfGj0xK",
    "outputId": "06923d35-1503-4361-beec-5dac08c5cbb9"
   },
   "outputs": [
    {
     "data": {
      "text/plain": [
       "array([[2, 1, 5],\n",
       "       [5, 0, 2],\n",
       "       [1, 1, 0],\n",
       "       [2, 0, 1]])"
      ]
     },
     "execution_count": 31,
     "metadata": {},
     "output_type": "execute_result"
    }
   ],
   "source": [
    "C = np.array([[2, 1, 5], \n",
    "              [5, 0, 2],\n",
    "              [1, 1, 0],\n",
    "              [2, 0, 1]])\n",
    "C"
   ]
  },
  {
   "cell_type": "code",
   "execution_count": 32,
   "metadata": {
    "colab": {
     "base_uri": "https://localhost:8080/",
     "height": 187
    },
    "id": "s9l6Q4iEkHdJ",
    "outputId": "14a569ad-c3d3-4e8b-cbd6-ee5f1ab4f359"
   },
   "outputs": [
    {
     "ename": "ValueError",
     "evalue": "matmul: Input operand 1 has a mismatch in its core dimension 0, with gufunc signature (n?,k),(k,m?)->(n?,m?) (size 4 is different from 3)",
     "output_type": "error",
     "traceback": [
      "\u001b[1;31m---------------------------------------------------------------------------\u001b[0m",
      "\u001b[1;31mValueError\u001b[0m                                Traceback (most recent call last)",
      "Input \u001b[1;32mIn [32]\u001b[0m, in \u001b[0;36m<cell line: 2>\u001b[1;34m()\u001b[0m\n\u001b[0;32m      1\u001b[0m \u001b[38;5;66;03m# error shape tidak sesuai aturan\u001b[39;00m\n\u001b[1;32m----> 2\u001b[0m \u001b[43mA\u001b[49m\u001b[43m \u001b[49m\u001b[38;5;241;43m@\u001b[39;49m\u001b[43m \u001b[49m\u001b[43mC\u001b[49m\n",
      "\u001b[1;31mValueError\u001b[0m: matmul: Input operand 1 has a mismatch in its core dimension 0, with gufunc signature (n?,k),(k,m?)->(n?,m?) (size 4 is different from 3)"
     ]
    }
   ],
   "source": [
    "# error shape tidak sesuai aturan\n",
    "A @ C"
   ]
  },
  {
   "cell_type": "code",
   "execution_count": 33,
   "metadata": {
    "colab": {
     "base_uri": "https://localhost:8080/"
    },
    "id": "ihORTXrbkdbC",
    "outputId": "96f331eb-56e7-491f-fbb9-886462b7669f"
   },
   "outputs": [
    {
     "data": {
      "text/plain": [
       "array([[41, 49, 57],\n",
       "       [19, 26, 33],\n",
       "       [ 5,  7,  9],\n",
       "       [ 9, 12, 15]])"
      ]
     },
     "execution_count": 33,
     "metadata": {},
     "output_type": "execute_result"
    }
   ],
   "source": [
    "C @ A"
   ]
  },
  {
   "cell_type": "markdown",
   "metadata": {
    "id": "NNJqxN92SIi4"
   },
   "source": [
    "## **Transpose**"
   ]
  },
  {
   "cell_type": "code",
   "execution_count": null,
   "metadata": {
    "colab": {
     "base_uri": "https://localhost:8080/"
    },
    "id": "Y-TLus_nSLta",
    "outputId": "f957fd74-2bd5-4a9c-cb8c-0bc17519c75c"
   },
   "outputs": [],
   "source": [
    "A"
   ]
  },
  {
   "cell_type": "code",
   "execution_count": null,
   "metadata": {
    "colab": {
     "base_uri": "https://localhost:8080/"
    },
    "id": "8vGh2ctHlV9E",
    "outputId": "863d9817-e57f-4a71-cdd6-1e7b843ebe90"
   },
   "outputs": [],
   "source": [
    "A.T"
   ]
  },
  {
   "cell_type": "markdown",
   "metadata": {
    "id": "3Pus7S0mSMQU"
   },
   "source": [
    "## **Inverse**"
   ]
  },
  {
   "cell_type": "code",
   "execution_count": null,
   "metadata": {
    "colab": {
     "base_uri": "https://localhost:8080/"
    },
    "id": "TmBnEDqdSQea",
    "outputId": "4ea4b847-e058-43a7-c0f2-54adfc2934fc"
   },
   "outputs": [],
   "source": [
    "B"
   ]
  },
  {
   "cell_type": "code",
   "execution_count": null,
   "metadata": {
    "colab": {
     "base_uri": "https://localhost:8080/"
    },
    "id": "CsnshLzRluMa",
    "outputId": "648e9f88-5bcc-40f9-c9f1-fd1d6c108914"
   },
   "outputs": [],
   "source": [
    "B_inv = np.linalg.inv(B)\n",
    "B_inv"
   ]
  },
  {
   "cell_type": "code",
   "execution_count": null,
   "metadata": {
    "colab": {
     "base_uri": "https://localhost:8080/"
    },
    "id": "8Z5-snVSl1aI",
    "outputId": "23949200-f563-466d-bd14-508e707760dd"
   },
   "outputs": [],
   "source": [
    "B @ B_inv"
   ]
  },
  {
   "cell_type": "code",
   "execution_count": null,
   "metadata": {
    "colab": {
     "base_uri": "https://localhost:8080/"
    },
    "id": "Rg4PK6ZXm0zS",
    "outputId": "5b0c8123-6427-468a-dbda-d72d00d3ac5a"
   },
   "outputs": [],
   "source": [
    "A"
   ]
  },
  {
   "cell_type": "code",
   "execution_count": null,
   "metadata": {
    "colab": {
     "base_uri": "https://localhost:8080/",
     "height": 354
    },
    "id": "74Pzhdl_m2fU",
    "outputId": "779d3890-b053-4d11-8c54-88e07fecb373"
   },
   "outputs": [],
   "source": [
    "np.linalg.inv(A)"
   ]
  },
  {
   "cell_type": "code",
   "execution_count": null,
   "metadata": {
    "colab": {
     "base_uri": "https://localhost:8080/"
    },
    "id": "oH0x0VfdnUyN",
    "outputId": "77206722-aa9c-4898-db15-29ae819f840c"
   },
   "outputs": [],
   "source": [
    "F = np.array([[1, 1, 1],\n",
    "             [2, 2, 2],\n",
    "             [2, 1, 0]])\n",
    "F"
   ]
  },
  {
   "cell_type": "code",
   "execution_count": null,
   "metadata": {
    "colab": {
     "base_uri": "https://localhost:8080/",
     "height": 354
    },
    "id": "s-63f6Sinclo",
    "outputId": "603df2f6-1bfd-4c9f-ffa2-6a7c77edeeb9"
   },
   "outputs": [],
   "source": [
    "np.linalg.inv(F)"
   ]
  },
  {
   "cell_type": "markdown",
   "metadata": {
    "id": "cQwkWtm1SRLo"
   },
   "source": [
    "## **Determinant**"
   ]
  },
  {
   "cell_type": "code",
   "execution_count": null,
   "metadata": {
    "colab": {
     "base_uri": "https://localhost:8080/"
    },
    "id": "C3FBdWwnoJhM",
    "outputId": "424b911f-8838-451c-d9f2-204473d1b17b"
   },
   "outputs": [],
   "source": [
    "G = np.array([[1, 3],\n",
    "             [3, 2]])\n",
    "G"
   ]
  },
  {
   "cell_type": "code",
   "execution_count": null,
   "metadata": {
    "colab": {
     "base_uri": "https://localhost:8080/"
    },
    "id": "lgZadOqYoXxG",
    "outputId": "528b3459-a671-49c1-8551-a82020b3c24b"
   },
   "outputs": [],
   "source": [
    "contoh = np.linalg.det(G)\n",
    "contoh"
   ]
  },
  {
   "cell_type": "code",
   "execution_count": null,
   "metadata": {
    "colab": {
     "base_uri": "https://localhost:8080/"
    },
    "id": "NFw8LaVcqTjL",
    "outputId": "1eaaafea-d70b-4794-c51e-a34c7af2d3e0"
   },
   "outputs": [],
   "source": [
    "# membulatkan\n",
    "np.round(contoh)"
   ]
  },
  {
   "cell_type": "code",
   "execution_count": null,
   "metadata": {
    "colab": {
     "base_uri": "https://localhost:8080/"
    },
    "id": "MQP6Q4gQogBi",
    "outputId": "2fec6a43-199a-482f-d060-3e3433da3507"
   },
   "outputs": [],
   "source": [
    "np.linalg.det(A)"
   ]
  },
  {
   "cell_type": "code",
   "execution_count": null,
   "metadata": {
    "colab": {
     "base_uri": "https://localhost:8080/"
    },
    "id": "7YOEDFlJol7X",
    "outputId": "dde7a887-c4d0-4bee-b0ff-006bbc43d6e5"
   },
   "outputs": [],
   "source": [
    "K = np.array([[1,2],\n",
    "              [2,4]])\n",
    "K"
   ]
  },
  {
   "cell_type": "code",
   "execution_count": null,
   "metadata": {
    "colab": {
     "base_uri": "https://localhost:8080/"
    },
    "id": "s52G7NrLo1dl",
    "outputId": "eec52f3f-7d86-483a-c7b2-95c8eb20d025"
   },
   "outputs": [],
   "source": [
    "# determinan = 0\n",
    "np.linalg.det(K)"
   ]
  },
  {
   "cell_type": "code",
   "execution_count": null,
   "metadata": {
    "colab": {
     "base_uri": "https://localhost:8080/",
     "height": 354
    },
    "id": "f9sfT6EAo4Sa",
    "outputId": "939d8498-daea-499c-fd2f-7e6d608abf74"
   },
   "outputs": [],
   "source": [
    "# singular matrix, determinan = 0\n",
    "np.linalg.inv(K)"
   ]
  },
  {
   "cell_type": "markdown",
   "metadata": {
    "id": "58ndnPSHSRJn"
   },
   "source": [
    "## **Tensor**"
   ]
  },
  {
   "cell_type": "code",
   "execution_count": 40,
   "metadata": {
    "id": "qBEuJcSPrbcK"
   },
   "outputs": [],
   "source": [
    "M1 = np.array([[2, 5, 1],\n",
    "               [2, 2, 2]])\n",
    "\n",
    "M2 = np.array([[1, 3, 3],\n",
    "               [5, 0, 1]])\n",
    "\n",
    "M3 = np.array([[3, 1, 0],\n",
    "               [0, 0, 1]])\n",
    "\n",
    "M4 = np.array([[5, 0, 0],\n",
    "               [1, 0, 1]])"
   ]
  },
  {
   "cell_type": "code",
   "execution_count": 41,
   "metadata": {
    "colab": {
     "base_uri": "https://localhost:8080/"
    },
    "id": "xYskb5fgr_1N",
    "outputId": "de1f41ce-a7b5-45cc-8e31-da63b63367ed"
   },
   "outputs": [
    {
     "data": {
      "text/plain": [
       "array([[[2, 5, 1],\n",
       "        [2, 2, 2]],\n",
       "\n",
       "       [[1, 3, 3],\n",
       "        [5, 0, 1]],\n",
       "\n",
       "       [[3, 1, 0],\n",
       "        [0, 0, 1]],\n",
       "\n",
       "       [[5, 0, 0],\n",
       "        [1, 0, 1]]])"
      ]
     },
     "execution_count": 41,
     "metadata": {},
     "output_type": "execute_result"
    }
   ],
   "source": [
    "tensor = np.array([M1, M2, M3, M4])\n",
    "tensor"
   ]
  },
  {
   "cell_type": "code",
   "execution_count": null,
   "metadata": {
    "colab": {
     "base_uri": "https://localhost:8080/"
    },
    "id": "CZKDNtNxsKmU",
    "outputId": "fabe6118-87d2-4c86-eed6-cb6e1faa3719"
   },
   "outputs": [],
   "source": [
    "tensor.shape"
   ]
  },
  {
   "cell_type": "code",
   "execution_count": null,
   "metadata": {
    "id": "W8ZArogisdOh"
   },
   "outputs": [],
   "source": [
    "import matplotlib.pyplot as plt\n",
    "\n",
    "pict = plt.imread('/content/2-4.jpg')"
   ]
  },
  {
   "cell_type": "code",
   "execution_count": null,
   "metadata": {
    "colab": {
     "base_uri": "https://localhost:8080/",
     "height": 287
    },
    "id": "SDHJEpyYspuu",
    "outputId": "5a27dd8c-b40c-463e-a15f-5efb83d4711e"
   },
   "outputs": [],
   "source": [
    "plt.imshow(pict)"
   ]
  },
  {
   "cell_type": "code",
   "execution_count": null,
   "metadata": {
    "colab": {
     "base_uri": "https://localhost:8080/"
    },
    "id": "kXShz7dss55S",
    "outputId": "58eee16d-90e9-4201-e8a9-1c42babd9aec"
   },
   "outputs": [],
   "source": [
    "pict"
   ]
  },
  {
   "cell_type": "code",
   "execution_count": null,
   "metadata": {
    "colab": {
     "base_uri": "https://localhost:8080/"
    },
    "id": "czF1tYEzs-wX",
    "outputId": "62e6b423-38da-49eb-f3bd-aac090e63ad2"
   },
   "outputs": [],
   "source": [
    "pict.shape"
   ]
  },
  {
   "cell_type": "code",
   "execution_count": 39,
   "metadata": {},
   "outputs": [
    {
     "data": {
      "text/plain": [
       "array([[ 23,   7,  57],\n",
       "       [ 50,  12,  67],\n",
       "       [ 19, 109,  98]])"
      ]
     },
     "execution_count": 39,
     "metadata": {},
     "output_type": "execute_result"
    }
   ],
   "source": []
  }
 ],
 "metadata": {
  "colab": {
   "name": "Matrix_014.ipynb",
   "provenance": []
  },
  "kernelspec": {
   "display_name": "Python 3 (ipykernel)",
   "language": "python",
   "name": "python3"
  },
  "language_info": {
   "codemirror_mode": {
    "name": "ipython",
    "version": 3
   },
   "file_extension": ".py",
   "mimetype": "text/x-python",
   "name": "python",
   "nbconvert_exporter": "python",
   "pygments_lexer": "ipython3",
   "version": "3.10.4"
  }
 },
 "nbformat": 4,
 "nbformat_minor": 1
}
