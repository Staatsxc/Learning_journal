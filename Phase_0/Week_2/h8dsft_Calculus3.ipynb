{
 "cells": [
  {
   "cell_type": "code",
   "execution_count": 8,
   "id": "58651ecc",
   "metadata": {},
   "outputs": [],
   "source": [
    "import numpy as np\n",
    "import sympy as sy"
   ]
  },
  {
   "cell_type": "markdown",
   "id": "9018352c",
   "metadata": {},
   "source": [
    "### Mencari gradient 3x + 4y = 5\n",
    "\n",
    "### Step 1 : Mengubah menjadi sebuah fungsi\n",
    "3x - 4y = 5\n",
    "\n",
    "-4y = -3y + 5\n",
    "\n",
    "y = 3/4 x + 5/4"
   ]
  },
  {
   "cell_type": "code",
   "execution_count": 10,
   "id": "f87ef2ba",
   "metadata": {},
   "outputs": [
    {
     "data": {
      "text/latex": [
       "$\\displaystyle x$"
      ],
      "text/plain": [
       "x"
      ]
     },
     "execution_count": 10,
     "metadata": {},
     "output_type": "execute_result"
    }
   ],
   "source": [
    "x = sy.Symbol('x')\n",
    "x"
   ]
  },
  {
   "cell_type": "code",
   "execution_count": 13,
   "id": "eab6f41f",
   "metadata": {},
   "outputs": [
    {
     "data": {
      "text/plain": [
       "array([ 1. ,  1.5,  2. ,  2.5,  3. ,  3.5,  4. ,  4.5,  5. ,  5.5,  6. ,\n",
       "        6.5,  7. ,  7.5,  8. ,  8.5,  9. ,  9.5, 10. , 10.5, 11. , 11.5,\n",
       "       12. , 12.5, 13. , 13.5, 14. , 14.5, 15. , 15.5, 16. , 16.5, 17. ,\n",
       "       17.5, 18. , 18.5, 19. , 19.5])"
      ]
     },
     "execution_count": 13,
     "metadata": {},
     "output_type": "execute_result"
    }
   ],
   "source": [
    "X = np.arange(1,20,0.5)\n",
    "X"
   ]
  },
  {
   "cell_type": "code",
   "execution_count": 20,
   "id": "4884055e",
   "metadata": {},
   "outputs": [
    {
     "data": {
      "text/plain": [
       "array([ 2.   ,  2.375,  2.75 ,  3.125,  3.5  ,  3.875,  4.25 ,  4.625,\n",
       "        5.   ,  5.375,  5.75 ,  6.125,  6.5  ,  6.875,  7.25 ,  7.625,\n",
       "        8.   ,  8.375,  8.75 ,  9.125,  9.5  ,  9.875, 10.25 , 10.625,\n",
       "       11.   , 11.375, 11.75 , 12.125, 12.5  , 12.875, 13.25 , 13.625,\n",
       "       14.   , 14.375, 14.75 , 15.125, 15.5  , 15.875])"
      ]
     },
     "execution_count": 20,
     "metadata": {},
     "output_type": "execute_result"
    }
   ],
   "source": [
    "Y = 3/4*X + 5/4\n",
    "Y"
   ]
  },
  {
   "cell_type": "code",
   "execution_count": 22,
   "id": "6be9d790",
   "metadata": {},
   "outputs": [
    {
     "data": {
      "text/plain": [
       "array([0.75, 0.75, 0.75, 0.75, 0.75, 0.75, 0.75, 0.75, 0.75, 0.75, 0.75,\n",
       "       0.75, 0.75, 0.75, 0.75, 0.75, 0.75, 0.75, 0.75, 0.75, 0.75, 0.75,\n",
       "       0.75, 0.75, 0.75, 0.75, 0.75, 0.75, 0.75, 0.75, 0.75, 0.75, 0.75,\n",
       "       0.75, 0.75, 0.75, 0.75, 0.75])"
      ]
     },
     "execution_count": 22,
     "metadata": {},
     "output_type": "execute_result"
    }
   ],
   "source": [
    "df1 = np.diff(Y)/np.diff(X)\n",
    "df2 = np.gradient(Y,X)\n",
    "df2"
   ]
  },
  {
   "cell_type": "markdown",
   "id": "f8d8b13e",
   "metadata": {},
   "source": [
    "Gradient nya adalah 0.75"
   ]
  },
  {
   "cell_type": "code",
   "execution_count": 24,
   "id": "83c2df09",
   "metadata": {},
   "outputs": [
    {
     "data": {
      "text/plain": [
       "[<matplotlib.lines.Line2D at 0x12ed2f1c400>]"
      ]
     },
     "execution_count": 24,
     "metadata": {},
     "output_type": "execute_result"
    },
    {
     "data": {
      "image/png": "[encoded data removed]",
      "text/plain": [
       "<Figure size 432x288 with 1 Axes>"
      ]
     },
     "metadata": {
      "needs_background": "light"
     },
     "output_type": "display_data"
    }
   ],
   "source": [
    "import matplotlib.pyplot as plt\n",
    "\n",
    "plt.plot(X,Y)"
   ]
  },
  {
   "cell_type": "code",
   "execution_count": 28,
   "id": "f255cf6f",
   "metadata": {},
   "outputs": [
    {
     "data": {
      "text/plain": [
       "[<matplotlib.lines.Line2D at 0x12ed8d10cd0>]"
      ]
     },
     "execution_count": 28,
     "metadata": {},
     "output_type": "execute_result"
    },
    {
     "data": {
      "image/png": "[encoded data removed]",
      "text/plain": [
       "<Figure size 432x288 with 1 Axes>"
      ]
     },
     "metadata": {
      "needs_background": "light"
     },
     "output_type": "display_data"
    }
   ],
   "source": [
    "plt.plot(X,df2)"
   ]
  }
 ],
 "metadata": {
  "kernelspec": {
   "display_name": "Python 3 (ipykernel)",
   "language": "python",
   "name": "python3"
  },
  "language_info": {
   "codemirror_mode": {
    "name": "ipython",
    "version": 3
   },
   "file_extension": ".py",
   "mimetype": "text/x-python",
   "name": "python",
   "nbconvert_exporter": "python",
   "pygments_lexer": "ipython3",
   "version": "3.10.4"
  }
 },
 "nbformat": 4,
 "nbformat_minor": 5
}
