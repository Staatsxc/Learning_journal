{
 "cells": [
  {
   "cell_type": "code",
   "execution_count": null,
   "metadata": {
    "id": "3nuuILdk-VmB"
   },
   "outputs": [],
   "source": [
    "import numpy as np\n",
    "import matplotlib.pyplot as plt"
   ]
  },
  {
   "cell_type": "code",
   "execution_count": null,
   "metadata": {
    "id": "gx7DAdxx-aZS"
   },
   "outputs": [],
   "source": [
    "def plot_vector2d(vector2d, origin=[0, 0], **options):\n",
    "    return plt.arrow(origin[0], origin[1], vector2d[0], vector2d[1],\n",
    "              head_width=0.2, head_length=0.3, length_includes_head=True,\n",
    "              **options)"
   ]
  },
  {
   "cell_type": "code",
   "execution_count": null,
   "metadata": {
    "id": "UkJvdgZBDrUs"
   },
   "outputs": [],
   "source": [
    "a = np.array([1, 2, 3])\n",
    "b = np.array([2, 1, 0])"
   ]
  },
  {
   "cell_type": "code",
   "execution_count": null,
   "metadata": {
    "colab": {
     "base_uri": "https://localhost:8080/"
    },
    "id": "i83r218HD5tW",
    "outputId": "58bd42e8-e638-4e99-c024-8b21d123046f"
   },
   "outputs": [
    {
     "name": "stdout",
     "output_type": "stream",
     "text": [
      "[1 2 3] [2 1 0]\n"
     ]
    }
   ],
   "source": [
    "print(a, b)"
   ]
  },
  {
   "cell_type": "code",
   "execution_count": null,
   "metadata": {
    "colab": {
     "base_uri": "https://localhost:8080/"
    },
    "id": "diyiwHxqEYg0",
    "outputId": "3bb000b3-c8e6-488e-85dd-39dfbf149858"
   },
   "outputs": [
    {
     "data": {
      "text/plain": [
       "array([3, 3, 3])"
      ]
     },
     "execution_count": 12,
     "metadata": {},
     "output_type": "execute_result"
    }
   ],
   "source": [
    "a + b"
   ]
  },
  {
   "cell_type": "code",
   "execution_count": null,
   "metadata": {
    "colab": {
     "base_uri": "https://localhost:8080/"
    },
    "id": "uM9GDi6DEARl",
    "outputId": "e3730222-b05a-433e-db3f-babb77321e76"
   },
   "outputs": [
    {
     "name": "stdout",
     "output_type": "stream",
     "text": [
      "[1, 2, 3] [2, 1, 0]\n"
     ]
    }
   ],
   "source": [
    "list1 = [1, 2, 3]\n",
    "list2 = [2, 1, 0]\n",
    "\n",
    "print(list1, list2)"
   ]
  },
  {
   "cell_type": "code",
   "execution_count": null,
   "metadata": {
    "colab": {
     "base_uri": "https://localhost:8080/"
    },
    "id": "ExDrPRUGEPH5",
    "outputId": "223f679c-1b19-493e-fbf0-ac9a0dda75ec"
   },
   "outputs": [
    {
     "data": {
      "text/plain": [
       "[1, 2, 3, 2, 1, 0]"
      ]
     },
     "execution_count": 11,
     "metadata": {},
     "output_type": "execute_result"
    }
   ],
   "source": [
    "list1 + list2"
   ]
  },
  {
   "cell_type": "code",
   "execution_count": null,
   "metadata": {
    "colab": {
     "base_uri": "https://localhost:8080/"
    },
    "id": "s2sEZ0fwEhgk",
    "outputId": "ea48fe79-f803-4a1d-c1c2-df92907f754f"
   },
   "outputs": [
    {
     "data": {
      "text/plain": [
       "array([1, 2, 3])"
      ]
     },
     "execution_count": 15,
     "metadata": {},
     "output_type": "execute_result"
    }
   ],
   "source": [
    "a"
   ]
  },
  {
   "cell_type": "code",
   "execution_count": null,
   "metadata": {
    "colab": {
     "base_uri": "https://localhost:8080/"
    },
    "id": "1I1IKNtkEqNx",
    "outputId": "7e89c897-44d0-48b4-f100-a6dd23b16645"
   },
   "outputs": [
    {
     "data": {
      "text/plain": [
       "array([2, 3])"
      ]
     },
     "execution_count": 17,
     "metadata": {},
     "output_type": "execute_result"
    }
   ],
   "source": [
    "a[1:]"
   ]
  },
  {
   "cell_type": "markdown",
   "metadata": {
    "id": "-kPvQDlyFTeG"
   },
   "source": [
    "**Vector Norm**"
   ]
  },
  {
   "cell_type": "code",
   "execution_count": null,
   "metadata": {
    "colab": {
     "base_uri": "https://localhost:8080/"
    },
    "id": "Cn8a3xAwFVgT",
    "outputId": "b094dd44-2fc3-43a7-e365-e34034c24a5b"
   },
   "outputs": [
    {
     "data": {
      "text/plain": [
       "array([4, 3])"
      ]
     },
     "execution_count": 18,
     "metadata": {},
     "output_type": "execute_result"
    }
   ],
   "source": [
    "v = np.array([4, 3])\n",
    "v"
   ]
  },
  {
   "cell_type": "code",
   "execution_count": null,
   "metadata": {
    "colab": {
     "base_uri": "https://localhost:8080/"
    },
    "id": "KKELhKI3Famv",
    "outputId": "cc08cb17-af47-459f-a5c2-1891e558bd4d"
   },
   "outputs": [
    {
     "data": {
      "text/plain": [
       "5.0"
      ]
     },
     "execution_count": 19,
     "metadata": {},
     "output_type": "execute_result"
    }
   ],
   "source": [
    "np.linalg.norm(v)"
   ]
  },
  {
   "cell_type": "code",
   "execution_count": null,
   "metadata": {
    "colab": {
     "base_uri": "https://localhost:8080/",
     "height": 269
    },
    "id": "PWur01adFkjG",
    "outputId": "948202b2-83ae-433b-a829-e43be599bbcb"
   },
   "outputs": [
    {
     "data": {
      "image/png": "[encoded data removed]",
      "text/plain": [
       "<Figure size 432x288 with 1 Axes>"
      ]
     },
     "metadata": {
      "needs_background": "light"
     },
     "output_type": "display_data"
    }
   ],
   "source": [
    "plot_vector2d(v, color='r')\n",
    "\n",
    "plt.axis([0, 10, 0, 10])\n",
    "plt.grid()\n",
    "plt.show()"
   ]
  },
  {
   "cell_type": "code",
   "execution_count": null,
   "metadata": {
    "colab": {
     "base_uri": "https://localhost:8080/"
    },
    "id": "3_jw9HWOGZen",
    "outputId": "5d7bb301-7d06-43b2-ce45-92a5295119a3"
   },
   "outputs": [
    {
     "data": {
      "text/plain": [
       "7.0"
      ]
     },
     "execution_count": 26,
     "metadata": {},
     "output_type": "execute_result"
    }
   ],
   "source": [
    "# jarak secara manhattan / L1\n",
    "np.linalg.norm(v, 1)"
   ]
  },
  {
   "cell_type": "code",
   "execution_count": null,
   "metadata": {
    "colab": {
     "base_uri": "https://localhost:8080/"
    },
    "id": "SsjX7NHcGu02",
    "outputId": "d463d410-3ac6-4e8b-aeff-3264eb49172b"
   },
   "outputs": [
    {
     "data": {
      "text/plain": [
       "5.0"
      ]
     },
     "execution_count": 27,
     "metadata": {},
     "output_type": "execute_result"
    }
   ],
   "source": [
    "# jarak secara euclidean / L2\n",
    "np.linalg.norm(v, 2)"
   ]
  },
  {
   "cell_type": "code",
   "execution_count": null,
   "metadata": {
    "colab": {
     "base_uri": "https://localhost:8080/"
    },
    "id": "SOMJENYYGzzN",
    "outputId": "0541d42d-b569-4bca-d02d-05d5c4f553bc"
   },
   "outputs": [
    {
     "name": "stdout",
     "output_type": "stream",
     "text": [
      "[1 2 3]\n",
      "3.7416573867739413\n"
     ]
    }
   ],
   "source": [
    "print(a)\n",
    "print(np.linalg.norm(a))"
   ]
  },
  {
   "cell_type": "code",
   "execution_count": null,
   "metadata": {
    "colab": {
     "base_uri": "https://localhost:8080/"
    },
    "id": "evgTU0yMHwGM",
    "outputId": "ef8b3af1-f092-4b3e-e636-4ad9a67c9838"
   },
   "outputs": [
    {
     "name": "stdout",
     "output_type": "stream",
     "text": [
      "[4 3]\n"
     ]
    },
    {
     "data": {
      "text/plain": [
       "1.0"
      ]
     },
     "execution_count": 31,
     "metadata": {},
     "output_type": "execute_result"
    }
   ],
   "source": [
    "# vector unit/ vector satuan/ normalized vector\n",
    "print(v)\n",
    "v_unit = np.array([4/5, 3/5])\n",
    "np.linalg.norm(v_unit)"
   ]
  },
  {
   "cell_type": "code",
   "execution_count": null,
   "metadata": {
    "colab": {
     "base_uri": "https://localhost:8080/",
     "height": 269
    },
    "id": "LSqxAJzbILwP",
    "outputId": "07069c48-e57e-418e-f850-39a43f7ac9a7"
   },
   "outputs": [
    {
     "data": {
      "image/png": "[encoded data removed]",
      "text/plain": [
       "<Figure size 432x288 with 1 Axes>"
      ]
     },
     "metadata": {
      "needs_background": "light"
     },
     "output_type": "display_data"
    }
   ],
   "source": [
    "plot_vector2d(v, color='r')\n",
    "plot_vector2d(v_unit, color='b')\n",
    "\n",
    "plt.axis([0, 10, 0, 10])\n",
    "plt.grid()\n",
    "plt.show()"
   ]
  },
  {
   "cell_type": "markdown",
   "metadata": {
    "id": "hOAA7rxSIyMe"
   },
   "source": [
    "**Operasi Aritmatika**\n",
    "- Penjumlahan\n",
    "- Pengurangan\n",
    "- Pembagian\n",
    "- Perkalian"
   ]
  },
  {
   "cell_type": "markdown",
   "metadata": {
    "id": "8BHKjtl1I9Fg"
   },
   "source": [
    "**Penjumlahan**"
   ]
  },
  {
   "cell_type": "code",
   "execution_count": null,
   "metadata": {
    "colab": {
     "base_uri": "https://localhost:8080/"
    },
    "id": "Fv1sYimwJE6P",
    "outputId": "8b9fe760-3791-46d0-a1f6-a4a4dc66fbe6"
   },
   "outputs": [
    {
     "name": "stdout",
     "output_type": "stream",
     "text": [
      "[1 2 3] [2 1 0]\n"
     ]
    }
   ],
   "source": [
    "print(a, b)"
   ]
  },
  {
   "cell_type": "code",
   "execution_count": null,
   "metadata": {
    "colab": {
     "base_uri": "https://localhost:8080/"
    },
    "id": "fJlbbsTYI5GR",
    "outputId": "be9585b9-8da0-4c6c-d58f-0688efbb1e23"
   },
   "outputs": [
    {
     "data": {
      "text/plain": [
       "array([11, 12, 13])"
      ]
     },
     "execution_count": 35,
     "metadata": {},
     "output_type": "execute_result"
    }
   ],
   "source": [
    "# vector terhadap skalar\n",
    "a + 10"
   ]
  },
  {
   "cell_type": "code",
   "execution_count": null,
   "metadata": {
    "colab": {
     "base_uri": "https://localhost:8080/"
    },
    "id": "gp52FXGmJCC8",
    "outputId": "97fbc4f7-61e5-4839-b387-e7d2675e7b94"
   },
   "outputs": [
    {
     "data": {
      "text/plain": [
       "array([3, 3, 3])"
      ]
     },
     "execution_count": 36,
     "metadata": {},
     "output_type": "execute_result"
    }
   ],
   "source": [
    "# vector terhadap vector\n",
    "a + b"
   ]
  },
  {
   "cell_type": "code",
   "execution_count": null,
   "metadata": {
    "colab": {
     "base_uri": "https://localhost:8080/",
     "height": 201
    },
    "id": "xwEzBfMsMD-k",
    "outputId": "89093591-6495-411f-e71a-9d286b657324"
   },
   "outputs": [
    {
     "ename": "ValueError",
     "evalue": "ignored",
     "output_type": "error",
     "traceback": [
      "\u001b[0;31m---------------------------------------------------------------------------\u001b[0m",
      "\u001b[0;31mValueError\u001b[0m                                Traceback (most recent call last)",
      "\u001b[0;32m<ipython-input-55-d850dbaecbf1>\u001b[0m in \u001b[0;36m<module>\u001b[0;34m()\u001b[0m\n\u001b[1;32m      1\u001b[0m \u001b[0mc\u001b[0m \u001b[0;34m=\u001b[0m \u001b[0mnp\u001b[0m\u001b[0;34m.\u001b[0m\u001b[0marray\u001b[0m\u001b[0;34m(\u001b[0m\u001b[0;34m[\u001b[0m\u001b[0;36m1\u001b[0m\u001b[0;34m,\u001b[0m \u001b[0;36m2\u001b[0m\u001b[0;34m,\u001b[0m \u001b[0;36m3\u001b[0m\u001b[0;34m,\u001b[0m \u001b[0;36m4\u001b[0m\u001b[0;34m]\u001b[0m\u001b[0;34m)\u001b[0m\u001b[0;34m\u001b[0m\u001b[0;34m\u001b[0m\u001b[0m\n\u001b[1;32m      2\u001b[0m \u001b[0;34m\u001b[0m\u001b[0m\n\u001b[0;32m----> 3\u001b[0;31m \u001b[0ma\u001b[0m \u001b[0;34m+\u001b[0m \u001b[0mc\u001b[0m\u001b[0;34m\u001b[0m\u001b[0;34m\u001b[0m\u001b[0m\n\u001b[0m",
      "\u001b[0;31mValueError\u001b[0m: operands could not be broadcast together with shapes (3,) (4,) "
     ]
    }
   ],
   "source": [
    "# eror jumlah elemen tidak sama\n",
    "c = np.array([1, 2, 3, 4])\n",
    "\n",
    "a + c"
   ]
  },
  {
   "cell_type": "code",
   "execution_count": null,
   "metadata": {
    "colab": {
     "base_uri": "https://localhost:8080/",
     "height": 269
    },
    "id": "2BtT4uo5JjJ8",
    "outputId": "4520cea0-68c9-4905-9598-4d6cb195b73b"
   },
   "outputs": [
    {
     "data": {
      "image/png": "[encoded data removed]",
      "text/plain": [
       "<Figure size 432x288 with 1 Axes>"
      ]
     },
     "metadata": {
      "needs_background": "light"
     },
     "output_type": "display_data"
    }
   ],
   "source": [
    "v1 = np.array([4, 6])\n",
    "v2 = np.array([3, 1])\n",
    "\n",
    "plot_vector2d(v1, color='r')\n",
    "plot_vector2d(v2, origin=v1, color='g')\n",
    "plot_vector2d(v1+v2, color='b')\n",
    "\n",
    "plt.axis([0, 10, 0, 10])\n",
    "plt.grid()\n",
    "plt.show()"
   ]
  },
  {
   "cell_type": "code",
   "execution_count": null,
   "metadata": {
    "colab": {
     "base_uri": "https://localhost:8080/"
    },
    "id": "tVCYmb8_Jzo4",
    "outputId": "b51ed3ff-833e-4775-e62e-5f539f3f3f57"
   },
   "outputs": [
    {
     "data": {
      "text/plain": [
       "array([7, 7])"
      ]
     },
     "execution_count": 42,
     "metadata": {},
     "output_type": "execute_result"
    }
   ],
   "source": [
    "v1 + v2"
   ]
  },
  {
   "cell_type": "markdown",
   "metadata": {
    "id": "z6Sbg7PcLKQo"
   },
   "source": [
    "**pengurangan**"
   ]
  },
  {
   "cell_type": "code",
   "execution_count": null,
   "metadata": {
    "colab": {
     "base_uri": "https://localhost:8080/"
    },
    "id": "kENSG5UfLUdN",
    "outputId": "23ce3a3c-7e92-4cc3-b3e2-eca36667e15d"
   },
   "outputs": [
    {
     "name": "stdout",
     "output_type": "stream",
     "text": [
      "[1 2 3] [2 1 0]\n"
     ]
    }
   ],
   "source": [
    "print(a, b)"
   ]
  },
  {
   "cell_type": "code",
   "execution_count": null,
   "metadata": {
    "colab": {
     "base_uri": "https://localhost:8080/"
    },
    "id": "swLYh9lPLJ7A",
    "outputId": "a90cf3e3-6422-4f37-886f-a4cc85194873"
   },
   "outputs": [
    {
     "data": {
      "text/plain": [
       "array([-4, -3, -2])"
      ]
     },
     "execution_count": 49,
     "metadata": {},
     "output_type": "execute_result"
    }
   ],
   "source": [
    "# vector terhadap skalar\n",
    "a - 5"
   ]
  },
  {
   "cell_type": "code",
   "execution_count": null,
   "metadata": {
    "colab": {
     "base_uri": "https://localhost:8080/"
    },
    "id": "hDcPapAwLPIw",
    "outputId": "d043f44e-e4c2-41a6-c83e-35d8eb248f60"
   },
   "outputs": [
    {
     "data": {
      "text/plain": [
       "array([ 1, -1, -3])"
      ]
     },
     "execution_count": 50,
     "metadata": {},
     "output_type": "execute_result"
    }
   ],
   "source": [
    "# vector terhadap vector\n",
    "b - a"
   ]
  },
  {
   "cell_type": "markdown",
   "metadata": {
    "id": "d8Of2FdRLiqi"
   },
   "source": [
    "**pembagian**"
   ]
  },
  {
   "cell_type": "code",
   "execution_count": null,
   "metadata": {
    "colab": {
     "base_uri": "https://localhost:8080/"
    },
    "id": "UVRYcrtcLnY4",
    "outputId": "1c19de19-9307-49a2-957a-a421e598e7da"
   },
   "outputs": [
    {
     "name": "stdout",
     "output_type": "stream",
     "text": [
      "[1 2 3] [2 1 0]\n"
     ]
    }
   ],
   "source": [
    "print(a, b)"
   ]
  },
  {
   "cell_type": "code",
   "execution_count": null,
   "metadata": {
    "colab": {
     "base_uri": "https://localhost:8080/"
    },
    "id": "RfhEd-y6LicT",
    "outputId": "90a18177-28fe-45f3-8c70-e188b0584b69"
   },
   "outputs": [
    {
     "data": {
      "text/plain": [
       "array([9. , 4.5, 3. ])"
      ]
     },
     "execution_count": 52,
     "metadata": {},
     "output_type": "execute_result"
    }
   ],
   "source": [
    "# vector terhadap skalar\n",
    "9 / a"
   ]
  },
  {
   "cell_type": "code",
   "execution_count": null,
   "metadata": {
    "colab": {
     "base_uri": "https://localhost:8080/"
    },
    "id": "cBhCecNnLlje",
    "outputId": "cb9d4b86-501f-4c85-b1c3-45331b392ccb"
   },
   "outputs": [
    {
     "name": "stderr",
     "output_type": "stream",
     "text": [
      "/usr/local/lib/python3.7/dist-packages/ipykernel_launcher.py:2: RuntimeWarning: divide by zero encountered in true_divide\n",
      "  \n"
     ]
    },
    {
     "data": {
      "text/plain": [
       "array([0.5, 2. , inf])"
      ]
     },
     "execution_count": 53,
     "metadata": {},
     "output_type": "execute_result"
    }
   ],
   "source": [
    "# vector terhadap vector\n",
    "a / b"
   ]
  },
  {
   "cell_type": "markdown",
   "metadata": {
    "id": "HydhXzdGMXZM"
   },
   "source": [
    "**perkalian**\n",
    "- vector terhadap skalar\n",
    "- vector tehadap vector\n",
    "- dot product"
   ]
  },
  {
   "cell_type": "code",
   "execution_count": null,
   "metadata": {
    "colab": {
     "base_uri": "https://localhost:8080/"
    },
    "id": "GWueUvUUMqS4",
    "outputId": "cd89a746-7680-44b1-ff24-d119c232449a"
   },
   "outputs": [
    {
     "name": "stdout",
     "output_type": "stream",
     "text": [
      "[1 2 3] [2 1 0]\n"
     ]
    }
   ],
   "source": [
    "print(a, b)"
   ]
  },
  {
   "cell_type": "code",
   "execution_count": null,
   "metadata": {
    "colab": {
     "base_uri": "https://localhost:8080/"
    },
    "id": "y_QrSswEMY5W",
    "outputId": "2db7cabe-d895-43ca-806e-df8c1c946172"
   },
   "outputs": [
    {
     "data": {
      "text/plain": [
       "array([10, 20, 30])"
      ]
     },
     "execution_count": 59,
     "metadata": {},
     "output_type": "execute_result"
    }
   ],
   "source": [
    "# vector terhadap scalar - scaling\n",
    "a * 10"
   ]
  },
  {
   "cell_type": "code",
   "execution_count": null,
   "metadata": {
    "colab": {
     "base_uri": "https://localhost:8080/",
     "height": 269
    },
    "id": "zJxcG7t6M3gw",
    "outputId": "9023af34-0a9e-472a-e649-2e33c560b6e1"
   },
   "outputs": [
    {
     "data": {
      "image/png": "[encoded data removed]",
      "text/plain": [
       "<Figure size 432x288 with 1 Axes>"
      ]
     },
     "metadata": {
      "needs_background": "light"
     },
     "output_type": "display_data"
    }
   ],
   "source": [
    "v = np.array([2,2])\n",
    "\n",
    "plot_vector2d(v, color='r')\n",
    "plot_vector2d(v*-1.5, color='g')\n",
    "\n",
    "plt.axis([-6, 6, -6, 6])\n",
    "plt.axvline([0])\n",
    "plt.axhline([0])\n",
    "plt.grid()\n",
    "plt.show()"
   ]
  },
  {
   "cell_type": "code",
   "execution_count": null,
   "metadata": {
    "colab": {
     "base_uri": "https://localhost:8080/"
    },
    "id": "OSNZZim7OS1E",
    "outputId": "9bb523e2-4146-46f0-9d10-6cac5fc366cd"
   },
   "outputs": [
    {
     "data": {
      "text/plain": [
       "array([2, 2, 0])"
      ]
     },
     "execution_count": 69,
     "metadata": {},
     "output_type": "execute_result"
    }
   ],
   "source": [
    "# vector terhadap vector (element-wise multiplication)\n",
    "a * b"
   ]
  },
  {
   "cell_type": "code",
   "execution_count": null,
   "metadata": {
    "colab": {
     "base_uri": "https://localhost:8080/"
    },
    "id": "6oCiziZ0PGTK",
    "outputId": "8fe4da52-633f-4e15-bc04-d1a45c587cdf"
   },
   "outputs": [
    {
     "data": {
      "text/plain": [
       "4"
      ]
     },
     "execution_count": 70,
     "metadata": {},
     "output_type": "execute_result"
    }
   ],
   "source": [
    "# dotproduct\n",
    "np.dot(a, b)"
   ]
  },
  {
   "cell_type": "code",
   "execution_count": null,
   "metadata": {
    "colab": {
     "base_uri": "https://localhost:8080/"
    },
    "id": "cUWY6NmbPPcX",
    "outputId": "1fbf518d-8621-45d7-c618-6faaed74a0b0"
   },
   "outputs": [
    {
     "data": {
      "text/plain": [
       "4"
      ]
     },
     "execution_count": 71,
     "metadata": {},
     "output_type": "execute_result"
    }
   ],
   "source": [
    "a.dot(b)"
   ]
  },
  {
   "cell_type": "code",
   "execution_count": null,
   "metadata": {
    "colab": {
     "base_uri": "https://localhost:8080/"
    },
    "id": "xOH2h5NgPRac",
    "outputId": "e5acd500-5075-4bea-dd28-1b63749adf81"
   },
   "outputs": [
    {
     "data": {
      "text/plain": [
       "4"
      ]
     },
     "execution_count": 72,
     "metadata": {},
     "output_type": "execute_result"
    }
   ],
   "source": [
    "a @ b"
   ]
  },
  {
   "cell_type": "markdown",
   "metadata": {
    "id": "hs87t6q0Py_a"
   },
   "source": [
    "**cosine similarity**"
   ]
  },
  {
   "cell_type": "code",
   "execution_count": null,
   "metadata": {
    "colab": {
     "base_uri": "https://localhost:8080/"
    },
    "id": "jr_vM6zyPyPg",
    "outputId": "bef82987-9728-4734-8f48-8675a3d6228b"
   },
   "outputs": [
    {
     "data": {
      "text/plain": [
       "0.47809144373375745"
      ]
     },
     "execution_count": 73,
     "metadata": {},
     "output_type": "execute_result"
    }
   ],
   "source": [
    "cos_theta = a @ b / (np.linalg.norm(a) * np.linalg.norm(b))\n",
    "cos_theta"
   ]
  },
  {
   "cell_type": "code",
   "execution_count": null,
   "metadata": {
    "colab": {
     "base_uri": "https://localhost:8080/",
     "height": 269
    },
    "id": "jQo1n0cBQGs7",
    "outputId": "1e9107d9-a8ca-4f0d-e3fc-ef5cc9240445"
   },
   "outputs": [
    {
     "data": {
      "image/png": "[encoded data removed]",
      "text/plain": [
       "<Figure size 432x288 with 1 Axes>"
      ]
     },
     "metadata": {
      "needs_background": "light"
     },
     "output_type": "display_data"
    }
   ],
   "source": [
    "# sudut 90 derajat, cos_theta = 0\n",
    "v1 = np.array([4, 0])\n",
    "v2 = np.array([0, 5])\n",
    "\n",
    "plot_vector2d(v1, color='r')\n",
    "plot_vector2d(v2, color='g')\n",
    "\n",
    "plt.axis([0, 6, 0, 6])\n",
    "plt.grid()\n",
    "plt.show()"
   ]
  },
  {
   "cell_type": "code",
   "execution_count": null,
   "metadata": {
    "colab": {
     "base_uri": "https://localhost:8080/"
    },
    "id": "XhUB7t8wQzXM",
    "outputId": "81c1f592-75e2-4f69-ffc9-cc4befa37f6f"
   },
   "outputs": [
    {
     "data": {
      "text/plain": [
       "0.0"
      ]
     },
     "execution_count": 84,
     "metadata": {},
     "output_type": "execute_result"
    }
   ],
   "source": [
    "cos_theta = v1 @ v2 / (np.linalg.norm(v1) * np.linalg.norm(v2))\n",
    "cos_theta"
   ]
  },
  {
   "cell_type": "code",
   "execution_count": null,
   "metadata": {
    "colab": {
     "base_uri": "https://localhost:8080/"
    },
    "id": "GuEd0jNsZEq7",
    "outputId": "5babf5e8-7549-4132-8bff-21895fdfb89b"
   },
   "outputs": [
    {
     "data": {
      "text/plain": [
       "1.5707963267948966"
      ]
     },
     "execution_count": 85,
     "metadata": {},
     "output_type": "execute_result"
    }
   ],
   "source": [
    "# cos_theta menjadi radian\n",
    "rad = np.arccos(cos_theta)\n",
    "rad"
   ]
  },
  {
   "cell_type": "code",
   "execution_count": null,
   "metadata": {
    "colab": {
     "base_uri": "https://localhost:8080/"
    },
    "id": "MIiIEDhhZPIW",
    "outputId": "78e47a1b-28c8-4c65-ff18-9fd1e2ff76fb"
   },
   "outputs": [
    {
     "data": {
      "text/plain": [
       "90.0"
      ]
     },
     "execution_count": 86,
     "metadata": {},
     "output_type": "execute_result"
    }
   ],
   "source": [
    "# convert radian menjadi degrees\n",
    "degree = np.degrees(rad)\n",
    "degree"
   ]
  },
  {
   "cell_type": "code",
   "execution_count": null,
   "metadata": {
    "colab": {
     "base_uri": "https://localhost:8080/",
     "height": 269
    },
    "id": "BzHP0UWAREW3",
    "outputId": "cee60c43-dbdd-46f2-8d5e-784216706684"
   },
   "outputs": [
    {
     "data": {
      "image/png": "[encoded data removed]",
      "text/plain": [
       "<Figure size 432x288 with 1 Axes>"
      ]
     },
     "metadata": {
      "needs_background": "light"
     },
     "output_type": "display_data"
    }
   ],
   "source": [
    "# sudut 0 derajat, cos_theta = 1\n",
    "v1 = np.array([5, 0])\n",
    "v2 = np.array([2, 0])\n",
    "\n",
    "plot_vector2d(v1, color='r')\n",
    "plot_vector2d(v2, color='g')\n",
    "\n",
    "plt.axis([0, 6, 0, 6])\n",
    "plt.grid()\n",
    "plt.show()"
   ]
  },
  {
   "cell_type": "code",
   "execution_count": null,
   "metadata": {
    "colab": {
     "base_uri": "https://localhost:8080/"
    },
    "id": "BBLME9KERTVf",
    "outputId": "eab5483e-7c7d-4594-d6c3-fd48f135c841"
   },
   "outputs": [
    {
     "data": {
      "text/plain": [
       "1.0"
      ]
     },
     "execution_count": 77,
     "metadata": {},
     "output_type": "execute_result"
    }
   ],
   "source": [
    "cos_theta = v1 @ v2 / (np.linalg.norm(v1) * np.linalg.norm(v2))\n",
    "cos_theta"
   ]
  },
  {
   "cell_type": "markdown",
   "metadata": {
    "id": "0-WdupdwRprB"
   },
   "source": [
    "**Example: NLP**"
   ]
  },
  {
   "cell_type": "markdown",
   "metadata": {
    "id": "OZ1hT5ZxRxtn"
   },
   "source": [
    "- kalimat 1 = kemarin saya ke rumah nenek saya\n",
    "- kalimat 2 = kemarin saya ke rumah kakek saya"
   ]
  },
  {
   "cell_type": "code",
   "execution_count": null,
   "metadata": {
    "colab": {
     "base_uri": "https://localhost:8080/"
    },
    "id": "h1wzJ6__RpB7",
    "outputId": "448c3e6f-1597-4b75-f6b4-dec87db5596a"
   },
   "outputs": [
    {
     "data": {
      "text/plain": [
       "0.8749999999999998"
      ]
     },
     "execution_count": 79,
     "metadata": {},
     "output_type": "execute_result"
    }
   ],
   "source": [
    "kal_1 = np.array([1, 2, 1, 1, 1, 0])\n",
    "kal_2 = np.array([1, 2, 1, 1, 0, 1])\n",
    "\n",
    "cos_theta = kal_1 @ kal_2 / (np.linalg.norm(kal_1) * np.linalg.norm(kal_2))\n",
    "cos_theta"
   ]
  },
  {
   "cell_type": "code",
   "execution_count": null,
   "metadata": {
    "id": "A3ynMhq4U_8N"
   },
   "outputs": [],
   "source": [
    "def cosine_similarity(v1, v2):\n",
    "  cos_theta = v1 @ v2 / (np.linalg.norm(v1) * np.linalg.norm(v2))\n",
    "  return cos_theta"
   ]
  },
  {
   "cell_type": "markdown",
   "metadata": {
    "id": "0VgpXrUhU9e6"
   },
   "source": [
    "- kalimat_1 = sore kemarin hujan deras di sini\n",
    "- kalimat_2 = nanti sore ada bazar"
   ]
  },
  {
   "cell_type": "code",
   "execution_count": null,
   "metadata": {
    "colab": {
     "base_uri": "https://localhost:8080/"
    },
    "id": "xtOCpXU-TF8e",
    "outputId": "f854afb1-21b3-4785-af54-0815b1949057"
   },
   "outputs": [
    {
     "data": {
      "text/plain": [
       "0.20412414523193154"
      ]
     },
     "execution_count": 81,
     "metadata": {},
     "output_type": "execute_result"
    }
   ],
   "source": [
    "k_1 = np.array([1, 1, 1, 1, 1, 1, 0, 0, 0])\n",
    "k_2 = np.array([1, 0, 0, 0, 0, 0, 1, 1, 1])\n",
    "\n",
    "cosine_similarity(k_1, k_2)"
   ]
  },
  {
   "cell_type": "markdown",
   "metadata": {
    "id": "awKgHE33WZeB"
   },
   "source": [
    "- kalimat_1 = kucing mengejar tikus\n",
    "- kalimat_2 = tikus mengejar kucing"
   ]
  },
  {
   "cell_type": "code",
   "execution_count": null,
   "metadata": {
    "colab": {
     "base_uri": "https://localhost:8080/"
    },
    "id": "bNiblvITWZEB",
    "outputId": "9699dc43-397b-4b6f-ca62-a57480bb1b8e"
   },
   "outputs": [
    {
     "data": {
      "text/plain": [
       "1.0000000000000002"
      ]
     },
     "execution_count": 82,
     "metadata": {},
     "output_type": "execute_result"
    }
   ],
   "source": [
    "kal_1 = np.array([1, 1, 1])\n",
    "kal_2 = np.array([1, 1, 1])\n",
    "\n",
    "cosine_similarity(kal_1, kal_2)"
   ]
  },
  {
   "cell_type": "markdown",
   "metadata": {
    "id": "45hKPAc8dFet"
   },
   "source": [
    "**array 1 D**"
   ]
  },
  {
   "cell_type": "code",
   "execution_count": null,
   "metadata": {
    "colab": {
     "base_uri": "https://localhost:8080/"
    },
    "id": "y54fKa3IcFhx",
    "outputId": "9b9378f4-8cbc-425e-fa2e-40ca47a92f9e"
   },
   "outputs": [
    {
     "data": {
      "text/plain": [
       "array([1, 2, 3])"
      ]
     },
     "execution_count": 89,
     "metadata": {},
     "output_type": "execute_result"
    }
   ],
   "source": [
    "a"
   ]
  },
  {
   "cell_type": "code",
   "execution_count": null,
   "metadata": {
    "colab": {
     "base_uri": "https://localhost:8080/"
    },
    "id": "k0YzXdxvcOUt",
    "outputId": "6aa2c010-2cbf-4ef5-e15a-7f01b4e66687"
   },
   "outputs": [
    {
     "data": {
      "text/plain": [
       "(3,)"
      ]
     },
     "execution_count": 88,
     "metadata": {},
     "output_type": "execute_result"
    }
   ],
   "source": [
    "a.shape"
   ]
  },
  {
   "cell_type": "code",
   "execution_count": null,
   "metadata": {
    "colab": {
     "base_uri": "https://localhost:8080/"
    },
    "id": "PwIJPx19cbW8",
    "outputId": "ba4eb989-6495-460c-a0ca-553974df35a3"
   },
   "outputs": [
    {
     "data": {
      "text/plain": [
       "array([1, 0, 0])"
      ]
     },
     "execution_count": 91,
     "metadata": {},
     "output_type": "execute_result"
    }
   ],
   "source": [
    "# filtering\n",
    "np.where(a>1, 0, a)"
   ]
  }
 ],
 "metadata": {
  "colab": {
   "name": "Vector_014.ipynb",
   "provenance": []
  },
  "kernelspec": {
   "display_name": "Python 3 (ipykernel)",
   "language": "python",
   "name": "python3"
  },
  "language_info": {
   "codemirror_mode": {
    "name": "ipython",
    "version": 3
   },
   "file_extension": ".py",
   "mimetype": "text/x-python",
   "name": "python",
   "nbconvert_exporter": "python",
   "pygments_lexer": "ipython3",
   "version": "3.10.4"
  }
 },
 "nbformat": 4,
 "nbformat_minor": 1
}
