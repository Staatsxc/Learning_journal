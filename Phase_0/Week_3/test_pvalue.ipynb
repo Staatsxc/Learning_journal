{
 "cells": [
  {
   "cell_type": "code",
   "execution_count": 1,
   "id": "814927e4",
   "metadata": {},
   "outputs": [],
   "source": [
    "import pandas as pd\n",
    "from scipy import stats\n",
    "import numpy as np\n",
    "import matplotlib.pyplot as plt\n",
    "import seaborn as sns"
   ]
  },
  {
   "cell_type": "code",
   "execution_count": 2,
   "id": "a3f75e43",
   "metadata": {},
   "outputs": [],
   "source": [
    "# nilai matematika yang ikut bimbel\n",
    "treatment = [85.2, 81.3, 75.3, 90, 71.2, 84.9, 95, 76, 70, 85.9]\n",
    "\n",
    "# nilai matematika yang tidak ikut bimbel\n",
    "control = [90.3, 71.1, 74.3, 78.9, 85.2, 81.1, 70, 67, 69, 50]\n"
   ]
  },
  {
   "cell_type": "markdown",
   "id": "69800230",
   "metadata": {},
   "source": [
    "H0 = ikut bimbel atau tidak sama saja\n",
    "\n",
    "H1 = ada perbedaan antara ikut bimbel dan tidak ikut bimbel\n",
    "\n",
    "------\n",
    "H0 : mu1 = mu2 atau mu1 - mu2 =0\n",
    "\n",
    "H1 : mu1 - mu2 != 0 "
   ]
  },
  {
   "cell_type": "code",
   "execution_count": 3,
   "id": "cede36e3",
   "metadata": {},
   "outputs": [
    {
     "data": {
      "text/plain": [
       "7.790000000000006"
      ]
     },
     "execution_count": 3,
     "metadata": {},
     "output_type": "execute_result"
    }
   ],
   "source": [
    "mu1 = np.mean(treatment)\n",
    "mu2 = np.mean(control)\n",
    "\n",
    "d = np.abs(mu1 - mu2)\n",
    "d"
   ]
  },
  {
   "cell_type": "markdown",
   "id": "4d9d6c35",
   "metadata": {},
   "source": [
    "Semakin besar d maka semakin kecil p valuenya, artinya semakin besar selisih antara treatment dan control maka h0 semakin dapat ditolak"
   ]
  },
  {
   "cell_type": "code",
   "execution_count": 4,
   "id": "94cc1b5b",
   "metadata": {},
   "outputs": [
    {
     "data": {
      "text/plain": [
       "array([85.2, 81.3, 75.3, 90. , 71.2, 84.9, 95. , 76. , 70. , 85.9, 90.3,\n",
       "       71.1, 74.3, 78.9, 85.2, 81.1, 70. , 67. , 69. , 50. ])"
      ]
     },
     "execution_count": 4,
     "metadata": {},
     "output_type": "execute_result"
    }
   ],
   "source": [
    "concat = np.concatenate([treatment,control])\n",
    "concat"
   ]
  },
  {
   "cell_type": "code",
   "execution_count": 5,
   "id": "98538335",
   "metadata": {},
   "outputs": [],
   "source": [
    "diff = []\n",
    "p = 100\n",
    "np.random.seed(1)\n",
    "\n",
    "for i in range(p):\n",
    "    np.random.shuffle(concat)\n",
    "    a = concat[:10].mean()\n",
    "    b = concat[10:].mean()\n",
    "    diff.append(abs(a-b))"
   ]
  },
  {
   "cell_type": "markdown",
   "id": "33aa61cc",
   "metadata": {},
   "source": [
    "kriteria diff = 7.9"
   ]
  },
  {
   "cell_type": "code",
   "execution_count": 6,
   "id": "5111d2e8",
   "metadata": {},
   "outputs": [
    {
     "data": {
      "text/plain": [
       "5"
      ]
     },
     "execution_count": 6,
     "metadata": {},
     "output_type": "execute_result"
    }
   ],
   "source": [
    "p_crit = np.where(diff >= d, 1, 0)\n",
    "p_crit.sum()"
   ]
  },
  {
   "cell_type": "code",
   "execution_count": 7,
   "id": "142b86fa",
   "metadata": {},
   "outputs": [
    {
     "data": {
      "text/plain": [
       "0.05"
      ]
     },
     "execution_count": 7,
     "metadata": {},
     "output_type": "execute_result"
    }
   ],
   "source": [
    "p_value = p_crit.sum()/p\n",
    "p_value"
   ]
  },
  {
   "cell_type": "code",
   "execution_count": 8,
   "id": "1a6bac15",
   "metadata": {
    "scrolled": true
   },
   "outputs": [
    {
     "data": {
      "text/html": [
       "<div>\n",
       "<style scoped>\n",
       "    .dataframe tbody tr th:only-of-type {\n",
       "        vertical-align: middle;\n",
       "    }\n",
       "\n",
       "    .dataframe tbody tr th {\n",
       "        vertical-align: top;\n",
       "    }\n",
       "\n",
       "    .dataframe thead th {\n",
       "        text-align: right;\n",
       "    }\n",
       "</style>\n",
       "<table border=\"1\" class=\"dataframe\">\n",
       "  <thead>\n",
       "    <tr style=\"text-align: right;\">\n",
       "      <th></th>\n",
       "      <th>Date</th>\n",
       "      <th>Location ISO Code</th>\n",
       "      <th>Location</th>\n",
       "      <th>New Cases</th>\n",
       "      <th>New Deaths</th>\n",
       "      <th>New Recovered</th>\n",
       "      <th>New Active Cases</th>\n",
       "      <th>Total Cases</th>\n",
       "      <th>Total Deaths</th>\n",
       "      <th>Total Recovered</th>\n",
       "      <th>...</th>\n",
       "      <th>Latitude</th>\n",
       "      <th>New Cases per Million</th>\n",
       "      <th>Total Cases per Million</th>\n",
       "      <th>New Deaths per Million</th>\n",
       "      <th>Total Deaths per Million</th>\n",
       "      <th>Total Deaths per 100rb</th>\n",
       "      <th>Case Fatality Rate</th>\n",
       "      <th>Case Recovered Rate</th>\n",
       "      <th>Growth Factor of New Cases</th>\n",
       "      <th>Growth Factor of New Deaths</th>\n",
       "    </tr>\n",
       "  </thead>\n",
       "  <tbody>\n",
       "    <tr>\n",
       "      <th>0</th>\n",
       "      <td>3/1/2020</td>\n",
       "      <td>ID-JK</td>\n",
       "      <td>DKI Jakarta</td>\n",
       "      <td>2</td>\n",
       "      <td>0</td>\n",
       "      <td>0</td>\n",
       "      <td>2</td>\n",
       "      <td>39</td>\n",
       "      <td>20</td>\n",
       "      <td>41</td>\n",
       "      <td>...</td>\n",
       "      <td>-6.204699</td>\n",
       "      <td>0.18</td>\n",
       "      <td>3.60</td>\n",
       "      <td>0.00</td>\n",
       "      <td>1.84</td>\n",
       "      <td>0.18</td>\n",
       "      <td>51.28%</td>\n",
       "      <td>105.13%</td>\n",
       "      <td>NaN</td>\n",
       "      <td>NaN</td>\n",
       "    </tr>\n",
       "    <tr>\n",
       "      <th>1</th>\n",
       "      <td>3/2/2020</td>\n",
       "      <td>ID-JK</td>\n",
       "      <td>DKI Jakarta</td>\n",
       "      <td>2</td>\n",
       "      <td>0</td>\n",
       "      <td>0</td>\n",
       "      <td>2</td>\n",
       "      <td>41</td>\n",
       "      <td>20</td>\n",
       "      <td>41</td>\n",
       "      <td>...</td>\n",
       "      <td>-6.204699</td>\n",
       "      <td>0.18</td>\n",
       "      <td>3.78</td>\n",
       "      <td>0.00</td>\n",
       "      <td>1.84</td>\n",
       "      <td>0.18</td>\n",
       "      <td>48.78%</td>\n",
       "      <td>100.00%</td>\n",
       "      <td>1.00</td>\n",
       "      <td>1.0</td>\n",
       "    </tr>\n",
       "    <tr>\n",
       "      <th>2</th>\n",
       "      <td>3/2/2020</td>\n",
       "      <td>IDN</td>\n",
       "      <td>Indonesia</td>\n",
       "      <td>2</td>\n",
       "      <td>0</td>\n",
       "      <td>0</td>\n",
       "      <td>2</td>\n",
       "      <td>2</td>\n",
       "      <td>0</td>\n",
       "      <td>0</td>\n",
       "      <td>...</td>\n",
       "      <td>-0.789275</td>\n",
       "      <td>0.01</td>\n",
       "      <td>0.01</td>\n",
       "      <td>0.00</td>\n",
       "      <td>0.00</td>\n",
       "      <td>0.00</td>\n",
       "      <td>0.00%</td>\n",
       "      <td>0.00%</td>\n",
       "      <td>NaN</td>\n",
       "      <td>NaN</td>\n",
       "    </tr>\n",
       "    <tr>\n",
       "      <th>3</th>\n",
       "      <td>3/2/2020</td>\n",
       "      <td>ID-RI</td>\n",
       "      <td>Riau</td>\n",
       "      <td>1</td>\n",
       "      <td>0</td>\n",
       "      <td>0</td>\n",
       "      <td>1</td>\n",
       "      <td>2</td>\n",
       "      <td>0</td>\n",
       "      <td>3</td>\n",
       "      <td>...</td>\n",
       "      <td>0.511648</td>\n",
       "      <td>0.16</td>\n",
       "      <td>0.33</td>\n",
       "      <td>0.00</td>\n",
       "      <td>0.00</td>\n",
       "      <td>0.00</td>\n",
       "      <td>0.00%</td>\n",
       "      <td>150.00%</td>\n",
       "      <td>NaN</td>\n",
       "      <td>NaN</td>\n",
       "    </tr>\n",
       "    <tr>\n",
       "      <th>4</th>\n",
       "      <td>3/3/2020</td>\n",
       "      <td>ID-JK</td>\n",
       "      <td>DKI Jakarta</td>\n",
       "      <td>2</td>\n",
       "      <td>0</td>\n",
       "      <td>0</td>\n",
       "      <td>2</td>\n",
       "      <td>43</td>\n",
       "      <td>20</td>\n",
       "      <td>41</td>\n",
       "      <td>...</td>\n",
       "      <td>-6.204699</td>\n",
       "      <td>0.18</td>\n",
       "      <td>3.96</td>\n",
       "      <td>0.00</td>\n",
       "      <td>1.84</td>\n",
       "      <td>0.18</td>\n",
       "      <td>46.51%</td>\n",
       "      <td>95.35%</td>\n",
       "      <td>1.00</td>\n",
       "      <td>1.0</td>\n",
       "    </tr>\n",
       "    <tr>\n",
       "      <th>...</th>\n",
       "      <td>...</td>\n",
       "      <td>...</td>\n",
       "      <td>...</td>\n",
       "      <td>...</td>\n",
       "      <td>...</td>\n",
       "      <td>...</td>\n",
       "      <td>...</td>\n",
       "      <td>...</td>\n",
       "      <td>...</td>\n",
       "      <td>...</td>\n",
       "      <td>...</td>\n",
       "      <td>...</td>\n",
       "      <td>...</td>\n",
       "      <td>...</td>\n",
       "      <td>...</td>\n",
       "      <td>...</td>\n",
       "      <td>...</td>\n",
       "      <td>...</td>\n",
       "      <td>...</td>\n",
       "      <td>...</td>\n",
       "      <td>...</td>\n",
       "    </tr>\n",
       "    <tr>\n",
       "      <th>21754</th>\n",
       "      <td>12/2/2021</td>\n",
       "      <td>ID-SA</td>\n",
       "      <td>Sulawesi Utara</td>\n",
       "      <td>2</td>\n",
       "      <td>0</td>\n",
       "      <td>0</td>\n",
       "      <td>2</td>\n",
       "      <td>34715</td>\n",
       "      <td>1056</td>\n",
       "      <td>33566</td>\n",
       "      <td>...</td>\n",
       "      <td>1.259638</td>\n",
       "      <td>0.76</td>\n",
       "      <td>13140.24</td>\n",
       "      <td>0.00</td>\n",
       "      <td>399.71</td>\n",
       "      <td>39.97</td>\n",
       "      <td>3.04%</td>\n",
       "      <td>96.69%</td>\n",
       "      <td>NaN</td>\n",
       "      <td>1.0</td>\n",
       "    </tr>\n",
       "    <tr>\n",
       "      <th>21755</th>\n",
       "      <td>12/2/2021</td>\n",
       "      <td>ID-SB</td>\n",
       "      <td>Sumatera Barat</td>\n",
       "      <td>4</td>\n",
       "      <td>0</td>\n",
       "      <td>0</td>\n",
       "      <td>4</td>\n",
       "      <td>89849</td>\n",
       "      <td>2152</td>\n",
       "      <td>87605</td>\n",
       "      <td>...</td>\n",
       "      <td>-0.850253</td>\n",
       "      <td>0.72</td>\n",
       "      <td>16279.22</td>\n",
       "      <td>0.00</td>\n",
       "      <td>389.91</td>\n",
       "      <td>38.99</td>\n",
       "      <td>2.40%</td>\n",
       "      <td>97.50%</td>\n",
       "      <td>4.00</td>\n",
       "      <td>1.0</td>\n",
       "    </tr>\n",
       "    <tr>\n",
       "      <th>21756</th>\n",
       "      <td>12/2/2021</td>\n",
       "      <td>ID-SS</td>\n",
       "      <td>Sumatera Selatan</td>\n",
       "      <td>4</td>\n",
       "      <td>0</td>\n",
       "      <td>0</td>\n",
       "      <td>4</td>\n",
       "      <td>59937</td>\n",
       "      <td>3071</td>\n",
       "      <td>56830</td>\n",
       "      <td>...</td>\n",
       "      <td>-3.216212</td>\n",
       "      <td>0.49</td>\n",
       "      <td>7293.78</td>\n",
       "      <td>0.00</td>\n",
       "      <td>373.71</td>\n",
       "      <td>37.37</td>\n",
       "      <td>5.12%</td>\n",
       "      <td>94.82%</td>\n",
       "      <td>4.00</td>\n",
       "      <td>1.0</td>\n",
       "    </tr>\n",
       "    <tr>\n",
       "      <th>21757</th>\n",
       "      <td>12/2/2021</td>\n",
       "      <td>ID-SU</td>\n",
       "      <td>Sumatera Utara</td>\n",
       "      <td>4</td>\n",
       "      <td>0</td>\n",
       "      <td>1</td>\n",
       "      <td>3</td>\n",
       "      <td>106045</td>\n",
       "      <td>2889</td>\n",
       "      <td>103061</td>\n",
       "      <td>...</td>\n",
       "      <td>2.191894</td>\n",
       "      <td>0.27</td>\n",
       "      <td>7129.13</td>\n",
       "      <td>0.00</td>\n",
       "      <td>194.22</td>\n",
       "      <td>19.42</td>\n",
       "      <td>2.72%</td>\n",
       "      <td>97.19%</td>\n",
       "      <td>1.00</td>\n",
       "      <td>1.0</td>\n",
       "    </tr>\n",
       "    <tr>\n",
       "      <th>21758</th>\n",
       "      <td>12/3/2021</td>\n",
       "      <td>IDN</td>\n",
       "      <td>Indonesia</td>\n",
       "      <td>245</td>\n",
       "      <td>8</td>\n",
       "      <td>328</td>\n",
       "      <td>-91</td>\n",
       "      <td>4257243</td>\n",
       "      <td>143858</td>\n",
       "      <td>4105680</td>\n",
       "      <td>...</td>\n",
       "      <td>-0.789275</td>\n",
       "      <td>0.92</td>\n",
       "      <td>16053.83</td>\n",
       "      <td>0.03</td>\n",
       "      <td>542.48</td>\n",
       "      <td>54.25</td>\n",
       "      <td>3.38%</td>\n",
       "      <td>96.44%</td>\n",
       "      <td>0.79</td>\n",
       "      <td>0.8</td>\n",
       "    </tr>\n",
       "  </tbody>\n",
       "</table>\n",
       "<p>21759 rows × 38 columns</p>\n",
       "</div>"
      ],
      "text/plain": [
       "            Date Location ISO Code          Location  New Cases  New Deaths  \\\n",
       "0       3/1/2020             ID-JK       DKI Jakarta          2           0   \n",
       "1       3/2/2020             ID-JK       DKI Jakarta          2           0   \n",
       "2       3/2/2020               IDN         Indonesia          2           0   \n",
       "3       3/2/2020             ID-RI              Riau          1           0   \n",
       "4       3/3/2020             ID-JK       DKI Jakarta          2           0   \n",
       "...          ...               ...               ...        ...         ...   \n",
       "21754  12/2/2021             ID-SA    Sulawesi Utara          2           0   \n",
       "21755  12/2/2021             ID-SB    Sumatera Barat          4           0   \n",
       "21756  12/2/2021             ID-SS  Sumatera Selatan          4           0   \n",
       "21757  12/2/2021             ID-SU    Sumatera Utara          4           0   \n",
       "21758  12/3/2021               IDN         Indonesia        245           8   \n",
       "\n",
       "       New Recovered  New Active Cases  Total Cases  Total Deaths  \\\n",
       "0                  0                 2           39            20   \n",
       "1                  0                 2           41            20   \n",
       "2                  0                 2            2             0   \n",
       "3                  0                 1            2             0   \n",
       "4                  0                 2           43            20   \n",
       "...              ...               ...          ...           ...   \n",
       "21754              0                 2        34715          1056   \n",
       "21755              0                 4        89849          2152   \n",
       "21756              0                 4        59937          3071   \n",
       "21757              1                 3       106045          2889   \n",
       "21758            328               -91      4257243        143858   \n",
       "\n",
       "       Total Recovered  ...  Latitude New Cases per Million  \\\n",
       "0                   41  ... -6.204699                  0.18   \n",
       "1                   41  ... -6.204699                  0.18   \n",
       "2                    0  ... -0.789275                  0.01   \n",
       "3                    3  ...  0.511648                  0.16   \n",
       "4                   41  ... -6.204699                  0.18   \n",
       "...                ...  ...       ...                   ...   \n",
       "21754            33566  ...  1.259638                  0.76   \n",
       "21755            87605  ... -0.850253                  0.72   \n",
       "21756            56830  ... -3.216212                  0.49   \n",
       "21757           103061  ...  2.191894                  0.27   \n",
       "21758          4105680  ... -0.789275                  0.92   \n",
       "\n",
       "       Total Cases per Million New Deaths per Million  \\\n",
       "0                         3.60                   0.00   \n",
       "1                         3.78                   0.00   \n",
       "2                         0.01                   0.00   \n",
       "3                         0.33                   0.00   \n",
       "4                         3.96                   0.00   \n",
       "...                        ...                    ...   \n",
       "21754                 13140.24                   0.00   \n",
       "21755                 16279.22                   0.00   \n",
       "21756                  7293.78                   0.00   \n",
       "21757                  7129.13                   0.00   \n",
       "21758                 16053.83                   0.03   \n",
       "\n",
       "      Total Deaths per Million Total Deaths per 100rb Case Fatality Rate  \\\n",
       "0                         1.84                   0.18             51.28%   \n",
       "1                         1.84                   0.18             48.78%   \n",
       "2                         0.00                   0.00              0.00%   \n",
       "3                         0.00                   0.00              0.00%   \n",
       "4                         1.84                   0.18             46.51%   \n",
       "...                        ...                    ...                ...   \n",
       "21754                   399.71                  39.97              3.04%   \n",
       "21755                   389.91                  38.99              2.40%   \n",
       "21756                   373.71                  37.37              5.12%   \n",
       "21757                   194.22                  19.42              2.72%   \n",
       "21758                   542.48                  54.25              3.38%   \n",
       "\n",
       "      Case Recovered Rate Growth Factor of New Cases  \\\n",
       "0                 105.13%                        NaN   \n",
       "1                 100.00%                       1.00   \n",
       "2                   0.00%                        NaN   \n",
       "3                 150.00%                        NaN   \n",
       "4                  95.35%                       1.00   \n",
       "...                   ...                        ...   \n",
       "21754              96.69%                        NaN   \n",
       "21755              97.50%                       4.00   \n",
       "21756              94.82%                       4.00   \n",
       "21757              97.19%                       1.00   \n",
       "21758              96.44%                       0.79   \n",
       "\n",
       "       Growth Factor of New Deaths  \n",
       "0                              NaN  \n",
       "1                              1.0  \n",
       "2                              NaN  \n",
       "3                              NaN  \n",
       "4                              1.0  \n",
       "...                            ...  \n",
       "21754                          1.0  \n",
       "21755                          1.0  \n",
       "21756                          1.0  \n",
       "21757                          1.0  \n",
       "21758                          0.8  \n",
       "\n",
       "[21759 rows x 38 columns]"
      ]
     },
     "execution_count": 8,
     "metadata": {},
     "output_type": "execute_result"
    }
   ],
   "source": [
    "df = pd.read_csv(\"covid_19_indonesia_time_series_all.csv\")\n",
    "df"
   ]
  },
  {
   "cell_type": "markdown",
   "id": "5865e5ca",
   "metadata": {},
   "source": [
    "## Single sample hypothesis testing"
   ]
  },
  {
   "cell_type": "code",
   "execution_count": 18,
   "id": "3f2f3041",
   "metadata": {},
   "outputs": [],
   "source": [
    "# mencari new active cases pada bulan november tahun 2020 dan 2021\n",
    "kasus_2020 = df[(pd.DatetimeIndex(df['Date']).month == 11) &\n",
    "  (pd.DatetimeIndex(df['Date']).year == 2020)]\n",
    "\n",
    "kasus_2021 = df[(pd.DatetimeIndex(df['Date']).month == 11) &\n",
    "  (pd.DatetimeIndex(df['Date']).year == 2021)]"
   ]
  },
  {
   "cell_type": "markdown",
   "id": "c99c5f91",
   "metadata": {},
   "source": [
    "Mencari rata - rata active new case pada bulan november di tahun 2020 dan 2021"
   ]
  },
  {
   "cell_type": "code",
   "execution_count": 32,
   "id": "348984f6",
   "metadata": {
    "scrolled": true
   },
   "outputs": [
    {
     "name": "stdout",
     "output_type": "stream",
     "text": [
      "rata - rata kasus baru setiap harinya di tahun 2020 adalah: 246.20666666666668\n",
      "rata - rata kasus baru setiap harinya di tahun 2021 adalah: 23.21944177093359\n"
     ]
    }
   ],
   "source": [
    "mean2020 = np.abs(kasus_2020['New Cases'].mean())\n",
    "mean2021 = np.abs(kasus_2021['New Cases'].mean())\n",
    "print(f'rata - rata kasus baru setiap harinya di tahun 2020 adalah: {mean2020}')\n",
    "print(f'rata - rata kasus baru setiap harinya di tahun 2021 adalah: {mean2021}')"
   ]
  },
  {
   "cell_type": "markdown",
   "id": "89a8d884",
   "metadata": {},
   "source": [
    "Apakah penurunan kasus dari 246 sampai 23 adalah penurunan yang signifikan ?\n",
    "\n",
    "Hypothesis pada kasus ini adalah\n",
    "\n",
    "**H0: μ >= 246**\n",
    "\n",
    "**H1: μ < 23**"
   ]
  },
  {
   "cell_type": "code",
   "execution_count": 47,
   "id": "6b15d864",
   "metadata": {},
   "outputs": [
    {
     "name": "stdout",
     "output_type": "stream",
     "text": [
      "P-value: 0.0\n",
      "t-statistics: -99.73592216161683\n"
     ]
    }
   ],
   "source": [
    "t_stat,p_val = stats.ttest_1samp(kasus_2021['New Cases'], mean2020)\n",
    "print('P-value:',p_val/2) #The p-value divided by 2 since the output is two-sided p-value\n",
    "print('t-statistics:',t_stat)"
   ]
  },
  {
   "cell_type": "markdown",
   "id": "ac8cb912",
   "metadata": {},
   "source": [
    "p valuenya 0.0 yang berarti kurang dari alpha, artinya h0 di reject yang berarti penurunannya statistically significant. t test yang dihasilkan negatif berarti setiap tahunnya kasus covid baru semakin menurun"
   ]
  },
  {
   "cell_type": "markdown",
   "id": "12c0fbc2",
   "metadata": {},
   "source": [
    "### One Sample Two Tailed"
   ]
  },
  {
   "cell_type": "code",
   "execution_count": null,
   "id": "635e625f",
   "metadata": {},
   "outputs": [],
   "source": []
  }
 ],
 "metadata": {
  "kernelspec": {
   "display_name": "Python 3 (ipykernel)",
   "language": "python",
   "name": "python3"
  },
  "language_info": {
   "codemirror_mode": {
    "name": "ipython",
    "version": 3
   },
   "file_extension": ".py",
   "mimetype": "text/x-python",
   "name": "python",
   "nbconvert_exporter": "python",
   "pygments_lexer": "ipython3",
   "version": "3.10.4"
  }
 },
 "nbformat": 4,
 "nbformat_minor": 5
}
