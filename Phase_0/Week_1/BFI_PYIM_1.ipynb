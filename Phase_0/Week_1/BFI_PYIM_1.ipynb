{
 "cells": [
  {
   "cell_type": "markdown",
   "metadata": {
    "id": "hE2lrsV4W_It"
   },
   "source": [
    "# Basic Python & Syntax"
   ]
  },
  {
   "cell_type": "markdown",
   "metadata": {
    "id": "o1XHR7bqd_uV"
   },
   "source": [
    "## Python keywords"
   ]
  },
  {
   "cell_type": "code",
   "execution_count": 1,
   "metadata": {
    "colab": {
     "base_uri": "https://localhost:8080/"
    },
    "id": "pF9AAV-oWwAy",
    "outputId": "0cbe51a2-2854-4c5c-c77b-fa946cedc13e"
   },
   "outputs": [
    {
     "name": "stdout",
     "output_type": "stream",
     "text": [
      "\n",
      "Here is a list of the Python keywords.  Enter any keyword to get more help.\n",
      "\n",
      "False               class               from                or\n",
      "None                continue            global              pass\n",
      "True                def                 if                  raise\n",
      "and                 del                 import              return\n",
      "as                  elif                in                  try\n",
      "assert              else                is                  while\n",
      "async               except              lambda              with\n",
      "await               finally             nonlocal            yield\n",
      "break               for                 not                 \n",
      "\n"
     ]
    }
   ],
   "source": [
    "help(\"keywords\")"
   ]
  },
  {
   "cell_type": "markdown",
   "metadata": {
    "id": "EXd6VvVNeA2e"
   },
   "source": [
    "## Basic Syntax"
   ]
  },
  {
   "cell_type": "markdown",
   "metadata": {
    "id": "gQwCrTbheE6p"
   },
   "source": [
    "### Definisi Variabel\n",
    "\n",
    "Variabel merupakan objek Python yang menyimpan suatu data yang nantinya dapat dipanggil kembali.\n",
    "\n",
    "Aturan penamaan pada variabel:\n",
    "- perbedaan cetak huruf, maka berbeda arti\n",
    "- hanya mengandung karakter huruf, angka, dan underscore\n",
    "- angka tidak boleh menjadi karakter yang paling depan"
   ]
  },
  {
   "cell_type": "code",
   "execution_count": 2,
   "metadata": {
    "id": "adzW-qcTeQsQ"
   },
   "outputs": [],
   "source": [
    "A = 5"
   ]
  },
  {
   "cell_type": "code",
   "execution_count": 3,
   "metadata": {
    "colab": {
     "base_uri": "https://localhost:8080/"
    },
    "id": "F0AU3fUmeVBZ",
    "outputId": "cca8a564-28a1-44fe-ddf4-dda547b0836f"
   },
   "outputs": [
    {
     "data": {
      "text/plain": [
       "5"
      ]
     },
     "execution_count": 3,
     "metadata": {},
     "output_type": "execute_result"
    }
   ],
   "source": [
    "A"
   ]
  },
  {
   "cell_type": "code",
   "execution_count": 4,
   "metadata": {
    "colab": {
     "base_uri": "https://localhost:8080/",
     "height": 164
    },
    "id": "GfQicDNjeYBf",
    "outputId": "13a1d526-c32e-4093-cb74-7f332142e614"
   },
   "outputs": [
    {
     "ename": "NameError",
     "evalue": "name 'a' is not defined",
     "output_type": "error",
     "traceback": [
      "\u001b[1;31m---------------------------------------------------------------------------\u001b[0m",
      "\u001b[1;31mNameError\u001b[0m                                 Traceback (most recent call last)",
      "Input \u001b[1;32mIn [4]\u001b[0m, in \u001b[0;36m<cell line: 1>\u001b[1;34m()\u001b[0m\n\u001b[1;32m----> 1\u001b[0m \u001b[43ma\u001b[49m\n",
      "\u001b[1;31mNameError\u001b[0m: name 'a' is not defined"
     ]
    }
   ],
   "source": [
    "a"
   ]
  },
  {
   "cell_type": "code",
   "execution_count": 6,
   "metadata": {
    "colab": {
     "base_uri": "https://localhost:8080/"
    },
    "id": "WnBLg0FVvgcj",
    "outputId": "2cab70f4-fbbf-46e8-acaa-ed6717639623"
   },
   "outputs": [
    {
     "data": {
      "text/plain": [
       "2"
      ]
     },
     "execution_count": 6,
     "metadata": {},
     "output_type": "execute_result"
    }
   ],
   "source": [
    "A = 2\n",
    "A"
   ]
  },
  {
   "cell_type": "code",
   "execution_count": 7,
   "metadata": {
    "colab": {
     "base_uri": "https://localhost:8080/"
    },
    "id": "FG0xKJfNv3S7",
    "outputId": "48af1060-04d8-4422-ebf9-bb99e199d5a7"
   },
   "outputs": [
    {
     "data": {
      "text/plain": [
       "2"
      ]
     },
     "execution_count": 7,
     "metadata": {},
     "output_type": "execute_result"
    }
   ],
   "source": [
    "A"
   ]
  },
  {
   "cell_type": "code",
   "execution_count": 8,
   "metadata": {
    "id": "IKQNNi73eY-6"
   },
   "outputs": [],
   "source": [
    "a = 2"
   ]
  },
  {
   "cell_type": "code",
   "execution_count": 9,
   "metadata": {
    "colab": {
     "base_uri": "https://localhost:8080/"
    },
    "id": "V6pOpIYnee-Z",
    "outputId": "f6eb3e07-6166-4272-e330-36ce4a39b840"
   },
   "outputs": [
    {
     "data": {
      "text/plain": [
       "2"
      ]
     },
     "execution_count": 9,
     "metadata": {},
     "output_type": "execute_result"
    }
   ],
   "source": [
    "a"
   ]
  },
  {
   "cell_type": "code",
   "execution_count": 10,
   "metadata": {
    "colab": {
     "base_uri": "https://localhost:8080/",
     "height": 130
    },
    "id": "IVFE9z0IehFv",
    "outputId": "00e08ae1-84d1-48bb-cdc2-b0e26066850b"
   },
   "outputs": [
    {
     "ename": "SyntaxError",
     "evalue": "invalid decimal literal (1837688928.py, line 1)",
     "output_type": "error",
     "traceback": [
      "\u001b[1;36m  Input \u001b[1;32mIn [10]\u001b[1;36m\u001b[0m\n\u001b[1;33m    1c = 4\u001b[0m\n\u001b[1;37m    ^\u001b[0m\n\u001b[1;31mSyntaxError\u001b[0m\u001b[1;31m:\u001b[0m invalid decimal literal\n"
     ]
    }
   ],
   "source": [
    "1c = 4"
   ]
  },
  {
   "cell_type": "code",
   "execution_count": 11,
   "metadata": {
    "colab": {
     "base_uri": "https://localhost:8080/"
    },
    "id": "XczOkxfQej1q",
    "outputId": "ae6e0b55-39ed-483e-b590-f54c19721e9c"
   },
   "outputs": [
    {
     "data": {
      "text/plain": [
       "4"
      ]
     },
     "execution_count": 11,
     "metadata": {},
     "output_type": "execute_result"
    }
   ],
   "source": [
    "c1 = 4\n",
    "c1"
   ]
  },
  {
   "cell_type": "code",
   "execution_count": 12,
   "metadata": {
    "colab": {
     "base_uri": "https://localhost:8080/"
    },
    "id": "r64yRtX9emEw",
    "outputId": "d4524200-abbe-4fab-c435-777d44d7d0b7"
   },
   "outputs": [
    {
     "data": {
      "text/plain": [
       "3"
      ]
     },
     "execution_count": 12,
     "metadata": {},
     "output_type": "execute_result"
    }
   ],
   "source": [
    "_2 = 3\n",
    "_2"
   ]
  },
  {
   "cell_type": "code",
   "execution_count": 13,
   "metadata": {
    "colab": {
     "base_uri": "https://localhost:8080/",
     "height": 164
    },
    "id": "h3tOyxM4e8CR",
    "outputId": "540305bc-d691-44fe-acdb-1aee61d469a6"
   },
   "outputs": [
    {
     "ename": "TypeError",
     "evalue": "cannot unpack non-iterable int object",
     "output_type": "error",
     "traceback": [
      "\u001b[1;31m---------------------------------------------------------------------------\u001b[0m",
      "\u001b[1;31mTypeError\u001b[0m                                 Traceback (most recent call last)",
      "Input \u001b[1;32mIn [13]\u001b[0m, in \u001b[0;36m<cell line: 1>\u001b[1;34m()\u001b[0m\n\u001b[1;32m----> 1\u001b[0m a,b \u001b[38;5;241m=\u001b[39m \u001b[38;5;241m0\u001b[39m\n",
      "\u001b[1;31mTypeError\u001b[0m: cannot unpack non-iterable int object"
     ]
    }
   ],
   "source": [
    "a,b = 0"
   ]
  },
  {
   "cell_type": "code",
   "execution_count": 14,
   "metadata": {
    "colab": {
     "base_uri": "https://localhost:8080/",
     "height": 164
    },
    "id": "xIHAtjyDyc2a",
    "outputId": "7c370d5d-b40f-4efc-b3f1-7cbcd8260db2"
   },
   "outputs": [
    {
     "ename": "AttributeError",
     "evalue": "'int' object has no attribute 'b'",
     "output_type": "error",
     "traceback": [
      "\u001b[1;31m---------------------------------------------------------------------------\u001b[0m",
      "\u001b[1;31mAttributeError\u001b[0m                            Traceback (most recent call last)",
      "Input \u001b[1;32mIn [14]\u001b[0m, in \u001b[0;36m<cell line: 1>\u001b[1;34m()\u001b[0m\n\u001b[1;32m----> 1\u001b[0m a\u001b[38;5;241m.\u001b[39mb \u001b[38;5;241m=\u001b[39m \u001b[38;5;241m0\u001b[39m\n",
      "\u001b[1;31mAttributeError\u001b[0m: 'int' object has no attribute 'b'"
     ]
    }
   ],
   "source": [
    "a.b = 0"
   ]
  },
  {
   "cell_type": "markdown",
   "metadata": {
    "id": "8YVHmuVZfH7I"
   },
   "source": [
    "### Perintah mencetak suatu keluaran (\"Print\")\n",
    "\n",
    "print(value, ..., sep=' ', end='\\n')"
   ]
  },
  {
   "cell_type": "code",
   "execution_count": 15,
   "metadata": {
    "id": "wJkiY6fBzAGw"
   },
   "outputs": [],
   "source": [
    "nilai1 = 10\n",
    "nilai2 = 20\n",
    "nilai3 = 30"
   ]
  },
  {
   "cell_type": "code",
   "execution_count": 16,
   "metadata": {
    "colab": {
     "base_uri": "https://localhost:8080/"
    },
    "id": "schM0HOizDxj",
    "outputId": "71fc18c1-98f4-4286-b664-53c86918344d"
   },
   "outputs": [
    {
     "data": {
      "text/plain": [
       "30"
      ]
     },
     "execution_count": 16,
     "metadata": {},
     "output_type": "execute_result"
    }
   ],
   "source": [
    "nilai1\n",
    "nilai2\n",
    "nilai3"
   ]
  },
  {
   "cell_type": "code",
   "execution_count": 17,
   "metadata": {
    "colab": {
     "base_uri": "https://localhost:8080/"
    },
    "id": "mA1qWnY9fPS9",
    "outputId": "0fddde0f-b218-47d7-97cc-50b0a8bbb57b"
   },
   "outputs": [
    {
     "name": "stdout",
     "output_type": "stream",
     "text": [
      "20000\n"
     ]
    }
   ],
   "source": [
    "print(20000)"
   ]
  },
  {
   "cell_type": "code",
   "execution_count": 18,
   "metadata": {
    "colab": {
     "base_uri": "https://localhost:8080/"
    },
    "id": "5zjyfV_t0Zyd",
    "outputId": "a4bf8628-8a91-4f05-ebf9-e7c698443678"
   },
   "outputs": [
    {
     "name": "stdout",
     "output_type": "stream",
     "text": [
      "10\n",
      "20\n",
      "30\n"
     ]
    }
   ],
   "source": [
    "print(nilai1)\n",
    "print(nilai2)\n",
    "print(nilai3)"
   ]
  },
  {
   "cell_type": "code",
   "execution_count": 19,
   "metadata": {
    "colab": {
     "base_uri": "https://localhost:8080/"
    },
    "id": "X37qJhtRfegG",
    "outputId": "17462c14-34e9-46c9-b547-343a20b811ff"
   },
   "outputs": [
    {
     "name": "stdout",
     "output_type": "stream",
     "text": [
      "halo, apa kabar?\n"
     ]
    }
   ],
   "source": [
    "print(\"halo, apa kabar?\")"
   ]
  },
  {
   "cell_type": "code",
   "execution_count": 20,
   "metadata": {
    "colab": {
     "base_uri": "https://localhost:8080/",
     "height": 37
    },
    "id": "MJq2SKld09q8",
    "outputId": "5f0e01d7-1386-4489-aeed-b8ac44c8c418"
   },
   "outputs": [
    {
     "data": {
      "text/plain": [
       "'halo, apa kabar?'"
      ]
     },
     "execution_count": 20,
     "metadata": {},
     "output_type": "execute_result"
    }
   ],
   "source": [
    "\"halo, apa kabar?\""
   ]
  },
  {
   "cell_type": "code",
   "execution_count": 21,
   "metadata": {
    "colab": {
     "base_uri": "https://localhost:8080/"
    },
    "id": "zlrM8jNAfjad",
    "outputId": "40c3d53c-d6bb-48a6-d55c-bcaffc15c69f"
   },
   "outputs": [
    {
     "name": "stdout",
     "output_type": "stream",
     "text": [
      "halo apa kabar?\n"
     ]
    }
   ],
   "source": [
    "print(\"halo\",\"apa\",\"kabar?\")"
   ]
  },
  {
   "cell_type": "code",
   "execution_count": 22,
   "metadata": {
    "colab": {
     "base_uri": "https://localhost:8080/"
    },
    "id": "gJpygq7YfmwZ",
    "outputId": "913ad2b2-bb58-440e-b7f3-430f9830a846"
   },
   "outputs": [
    {
     "name": "stdout",
     "output_type": "stream",
     "text": [
      "halomapamkabar?\n",
      "halo\n",
      "apa\n",
      "kabar?\n"
     ]
    }
   ],
   "source": [
    "print(\"halo\",\"apa\",\"kabar?\",sep='m')\n",
    "print(\"halo\",\"apa\",\"kabar?\",sep='\\n')"
   ]
  },
  {
   "cell_type": "code",
   "execution_count": 23,
   "metadata": {
    "colab": {
     "base_uri": "https://localhost:8080/"
    },
    "id": "4DTjrFHBggnD",
    "outputId": "5cbf0ed3-afca-41a5-ba2f-c57a9ee8f9e1"
   },
   "outputs": [
    {
     "name": "stdout",
     "output_type": "stream",
     "text": [
      "halo, apa kabar?\n"
     ]
    }
   ],
   "source": [
    "print(\"halo, apa kabar?\", sep='m')"
   ]
  },
  {
   "cell_type": "code",
   "execution_count": 24,
   "metadata": {
    "colab": {
     "base_uri": "https://localhost:8080/"
    },
    "id": "HX1huMDbf_Am",
    "outputId": "03515f89-5379-490d-a40f-0f8a321ea82c"
   },
   "outputs": [
    {
     "name": "stdout",
     "output_type": "stream",
     "text": [
      "1\n",
      "2\n",
      "3\n"
     ]
    }
   ],
   "source": [
    "print(1)\n",
    "print(2)\n",
    "print(3)"
   ]
  },
  {
   "cell_type": "code",
   "execution_count": 25,
   "metadata": {
    "colab": {
     "base_uri": "https://localhost:8080/"
    },
    "id": "w2zQocvdgE3q",
    "outputId": "d687e2fc-fc81-4551-e3dd-7d9fb69151d3"
   },
   "outputs": [
    {
     "name": "stdout",
     "output_type": "stream",
     "text": [
      "1 2 3 "
     ]
    }
   ],
   "source": [
    "print(1,end=' ')\n",
    "print(2,end=' ')\n",
    "print(3,end=' ')"
   ]
  },
  {
   "cell_type": "code",
   "execution_count": 26,
   "metadata": {
    "colab": {
     "base_uri": "https://localhost:8080/"
    },
    "id": "1aLx_khr2Un9",
    "outputId": "712d79f5-298b-478c-c6dc-b290c7ff9f60"
   },
   "outputs": [
    {
     "name": "stdout",
     "output_type": "stream",
     "text": [
      "1 2\n",
      "3m"
     ]
    }
   ],
   "source": [
    "print(1,end=' ')\n",
    "print(2)\n",
    "print(3,end='m')"
   ]
  },
  {
   "cell_type": "markdown",
   "metadata": {
    "id": "-aUOK93BhVez"
   },
   "source": [
    "### Memberikan Input dan menyimpan ke dalam variabel\n",
    "\n",
    "input(prompt='')"
   ]
  },
  {
   "cell_type": "code",
   "execution_count": 27,
   "metadata": {
    "colab": {
     "base_uri": "https://localhost:8080/",
     "height": 54
    },
    "id": "LxvGB1LQhZ7b",
    "outputId": "5f1e3ac1-d020-4296-ec31-2e3848a8d1d7"
   },
   "outputs": [
    {
     "name": "stdout",
     "output_type": "stream",
     "text": [
      "Masukkan angka: \n"
     ]
    },
    {
     "data": {
      "text/plain": [
       "''"
      ]
     },
     "execution_count": 27,
     "metadata": {},
     "output_type": "execute_result"
    }
   ],
   "source": [
    "input(\"Masukkan angka: \")"
   ]
  },
  {
   "cell_type": "code",
   "execution_count": 28,
   "metadata": {
    "colab": {
     "base_uri": "https://localhost:8080/",
     "height": 54
    },
    "id": "UBgp-ZoLhtJn",
    "outputId": "d13f3689-5bc6-45eb-9cb4-f9094a363a64"
   },
   "outputs": [
    {
     "name": "stdout",
     "output_type": "stream",
     "text": [
      "Masukkan angka: \n"
     ]
    },
    {
     "data": {
      "text/plain": [
       "''"
      ]
     },
     "execution_count": 28,
     "metadata": {},
     "output_type": "execute_result"
    }
   ],
   "source": [
    "angka = input(\"Masukkan angka: \")\n",
    "angka"
   ]
  },
  {
   "cell_type": "code",
   "execution_count": 29,
   "metadata": {
    "colab": {
     "base_uri": "https://localhost:8080/"
    },
    "id": "xi7Fo4fYh0DG",
    "outputId": "90470113-e19d-4a82-8a7a-1d180e606d78"
   },
   "outputs": [
    {
     "name": "stdout",
     "output_type": "stream",
     "text": [
      "Masukkan angka: \n"
     ]
    }
   ],
   "source": [
    "print(\"Masukkan angka:\",angka)"
   ]
  },
  {
   "cell_type": "code",
   "execution_count": 30,
   "metadata": {
    "colab": {
     "base_uri": "https://localhost:8080/"
    },
    "id": "vJkHlJWD479O",
    "outputId": "106bd118-b470-4704-9e29-be6bcb072358"
   },
   "outputs": [
    {
     "name": "stdout",
     "output_type": "stream",
     "text": [
      "Masukkan nama Anda:\n"
     ]
    }
   ],
   "source": [
    "nama = input(\"Masukkan nama Anda:\")"
   ]
  },
  {
   "cell_type": "code",
   "execution_count": 31,
   "metadata": {
    "colab": {
     "base_uri": "https://localhost:8080/",
     "height": 37
    },
    "id": "bTR6lzdk5eQV",
    "outputId": "ee4ce967-ce54-4200-e94b-41981424031a"
   },
   "outputs": [
    {
     "data": {
      "text/plain": [
       "''"
      ]
     },
     "execution_count": 31,
     "metadata": {},
     "output_type": "execute_result"
    }
   ],
   "source": [
    "nama"
   ]
  },
  {
   "cell_type": "markdown",
   "metadata": {
    "id": "bXBSttQqY_AY"
   },
   "source": [
    "# Data Types\n",
    "Boolean Type: bool (True/False)\n",
    "\n",
    "Set Types: frozenset, set\n",
    "\n",
    "Mapping Type: dict\n",
    "\n",
    "Sequence Types: range, tuple, list\n",
    "\n",
    "Numeric Types: complex, float, int\n",
    "\n",
    "Text Type: str"
   ]
  },
  {
   "cell_type": "code",
   "execution_count": 32,
   "metadata": {
    "colab": {
     "base_uri": "https://localhost:8080/"
    },
    "id": "BceQpQ_96Kns",
    "outputId": "a445a0e8-2427-4aa5-bf73-d329e4eee2a5"
   },
   "outputs": [
    {
     "data": {
      "text/plain": [
       "True"
      ]
     },
     "execution_count": 32,
     "metadata": {},
     "output_type": "execute_result"
    }
   ],
   "source": [
    "True"
   ]
  },
  {
   "cell_type": "code",
   "execution_count": 33,
   "metadata": {
    "colab": {
     "base_uri": "https://localhost:8080/",
     "height": 164
    },
    "id": "1JtaGuX46e7h",
    "outputId": "afbaf3cc-1d58-4e0a-9801-c52afb4aefb8"
   },
   "outputs": [
    {
     "ename": "NameError",
     "evalue": "name 'true' is not defined",
     "output_type": "error",
     "traceback": [
      "\u001b[1;31m---------------------------------------------------------------------------\u001b[0m",
      "\u001b[1;31mNameError\u001b[0m                                 Traceback (most recent call last)",
      "Input \u001b[1;32mIn [33]\u001b[0m, in \u001b[0;36m<cell line: 1>\u001b[1;34m()\u001b[0m\n\u001b[1;32m----> 1\u001b[0m \u001b[43mtrue\u001b[49m\n",
      "\u001b[1;31mNameError\u001b[0m: name 'true' is not defined"
     ]
    }
   ],
   "source": [
    "true"
   ]
  },
  {
   "cell_type": "code",
   "execution_count": null,
   "metadata": {
    "colab": {
     "base_uri": "https://localhost:8080/"
    },
    "id": "bmng7EqB6PA4",
    "outputId": "7c858a09-ee4c-4af5-e82b-dc43b7b02d60"
   },
   "outputs": [],
   "source": [
    "False"
   ]
  },
  {
   "cell_type": "code",
   "execution_count": null,
   "metadata": {
    "colab": {
     "base_uri": "https://localhost:8080/",
     "height": 130
    },
    "id": "-y9Bm3EB61Bq",
    "outputId": "a63b846c-4648-43ea-8558-7518652d9d8e"
   },
   "outputs": [],
   "source": [
    "True = False"
   ]
  },
  {
   "cell_type": "code",
   "execution_count": null,
   "metadata": {
    "id": "OArWNDdA69K7"
   },
   "outputs": [],
   "source": [
    "true = False"
   ]
  },
  {
   "cell_type": "code",
   "execution_count": null,
   "metadata": {
    "colab": {
     "base_uri": "https://localhost:8080/"
    },
    "id": "4LIltFlK6_1Q",
    "outputId": "d9cae4a9-efae-4827-a190-26e59bd68e64"
   },
   "outputs": [],
   "source": [
    "true"
   ]
  },
  {
   "cell_type": "markdown",
   "metadata": {
    "id": "sl9vFGjlZP5W"
   },
   "source": [
    "## Numeric Types"
   ]
  },
  {
   "cell_type": "markdown",
   "metadata": {
    "id": "nNwH_nAAcDxZ"
   },
   "source": [
    "### Integer\n",
    "\n",
    "Pada Python3, tidak ada batasan jumlah digit sebuah integer/bilangan bulat"
   ]
  },
  {
   "cell_type": "code",
   "execution_count": 34,
   "metadata": {
    "colab": {
     "base_uri": "https://localhost:8080/"
    },
    "id": "1alesTTrYu3X",
    "outputId": "1621bf0f-a9fd-4c12-ae75-86d39b956da6"
   },
   "outputs": [
    {
     "name": "stdout",
     "output_type": "stream",
     "text": [
      "500000\n",
      "<class 'int'>\n"
     ]
    }
   ],
   "source": [
    "print(500000)\n",
    "print(type(500000))"
   ]
  },
  {
   "cell_type": "code",
   "execution_count": 35,
   "metadata": {
    "colab": {
     "base_uri": "https://localhost:8080/"
    },
    "id": "iaxyAseS71Ur",
    "outputId": "03c9382e-6a4d-4f49-940f-46dcd3a66e1e"
   },
   "outputs": [
    {
     "data": {
      "text/plain": [
       "int"
      ]
     },
     "execution_count": 35,
     "metadata": {},
     "output_type": "execute_result"
    }
   ],
   "source": [
    "type(500000)"
   ]
  },
  {
   "cell_type": "markdown",
   "metadata": {
    "id": "HNLtKXROb5BZ"
   },
   "source": [
    "### Float\n",
    "\n",
    "Float merupakan tipe data yang menampung bilangan desimal. Dapat dinotasikan dalam desimal biasa atau dalam bentuk pangkat."
   ]
  },
  {
   "cell_type": "code",
   "execution_count": 36,
   "metadata": {
    "colab": {
     "base_uri": "https://localhost:8080/"
    },
    "id": "EfsufUgob-Vv",
    "outputId": "11cb014c-c82f-42ec-88c3-26ab7ddcce0f"
   },
   "outputs": [
    {
     "name": "stdout",
     "output_type": "stream",
     "text": [
      "50.0\n",
      "2.7\n",
      "<class 'float'>\n"
     ]
    }
   ],
   "source": [
    "print(50.0)\n",
    "print(2.7)\n",
    "print(type(12.35))"
   ]
  },
  {
   "cell_type": "code",
   "execution_count": 37,
   "metadata": {
    "colab": {
     "base_uri": "https://localhost:8080/"
    },
    "id": "CPTVwThCcXqR",
    "outputId": "13e2eaf9-e775-455c-a373-c2658f8dac66"
   },
   "outputs": [
    {
     "name": "stdout",
     "output_type": "stream",
     "text": [
      "200000.0\n"
     ]
    }
   ],
   "source": [
    "print(2e5) #atau print(2E5)"
   ]
  },
  {
   "cell_type": "code",
   "execution_count": 38,
   "metadata": {
    "colab": {
     "base_uri": "https://localhost:8080/"
    },
    "id": "BVYdesk7cagR",
    "outputId": "b41cbb59-cb2e-4b91-957c-9beb1e0e3fe9"
   },
   "outputs": [
    {
     "name": "stdout",
     "output_type": "stream",
     "text": [
      "0.001\n"
     ]
    }
   ],
   "source": [
    "print(1e-3) #atau print(1E-3)"
   ]
  },
  {
   "cell_type": "markdown",
   "metadata": {
    "id": "-wyyo3tXcqBA"
   },
   "source": [
    "### Konversi Float <> Integer"
   ]
  },
  {
   "cell_type": "code",
   "execution_count": 39,
   "metadata": {
    "colab": {
     "base_uri": "https://localhost:8080/"
    },
    "id": "SNlh55rzccmZ",
    "outputId": "7a500f03-d974-4bdb-c67e-a3593b17630f"
   },
   "outputs": [
    {
     "name": "stdout",
     "output_type": "stream",
     "text": [
      "5\n",
      "<class 'int'>\n"
     ]
    }
   ],
   "source": [
    "A = 5\n",
    "print(A)\n",
    "print(type(A))"
   ]
  },
  {
   "cell_type": "code",
   "execution_count": 40,
   "metadata": {
    "colab": {
     "base_uri": "https://localhost:8080/"
    },
    "id": "aH2S6wroh-H6",
    "outputId": "ef5b7f1d-a8f6-4e5c-fd9d-f2f212a099e9"
   },
   "outputs": [
    {
     "name": "stdout",
     "output_type": "stream",
     "text": [
      "5.0\n",
      "<class 'float'>\n"
     ]
    }
   ],
   "source": [
    "A = float(A)\n",
    "print(A)\n",
    "print(type(A))"
   ]
  },
  {
   "cell_type": "code",
   "execution_count": 41,
   "metadata": {
    "colab": {
     "base_uri": "https://localhost:8080/"
    },
    "id": "pJ3xrnjUiGgW",
    "outputId": "99764670-a8a1-4da1-fef3-80677fdc7ab4"
   },
   "outputs": [
    {
     "name": "stdout",
     "output_type": "stream",
     "text": [
      "2\n",
      "3\n"
     ]
    }
   ],
   "source": [
    "B = 2.8\n",
    "C = 3.1\n",
    "\n",
    "print(int(B))\n",
    "print(int(C))"
   ]
  },
  {
   "cell_type": "code",
   "execution_count": 42,
   "metadata": {
    "colab": {
     "base_uri": "https://localhost:8080/"
    },
    "id": "H9gPRQv3iM_6",
    "outputId": "2aeae708-892e-4c5f-c842-90dbcd60031a"
   },
   "outputs": [
    {
     "name": "stdout",
     "output_type": "stream",
     "text": [
      "3\n",
      "3\n"
     ]
    }
   ],
   "source": [
    "B = 2.8\n",
    "C = 3.1\n",
    "\n",
    "print(round(B))\n",
    "print(round(C))\n",
    "\n",
    "# round(number, ndigits=None)"
   ]
  },
  {
   "cell_type": "code",
   "execution_count": 43,
   "metadata": {
    "colab": {
     "base_uri": "https://localhost:8080/"
    },
    "id": "xI5juoqEiRn9",
    "outputId": "afb01aac-ee01-4fa4-ece7-2162db5186a7"
   },
   "outputs": [
    {
     "name": "stdout",
     "output_type": "stream",
     "text": [
      "3\n",
      "2.7\n",
      "2.68\n"
     ]
    }
   ],
   "source": [
    "print(round(2.6789))\n",
    "print(round(2.6789,1))\n",
    "print(round(2.6789,2))"
   ]
  },
  {
   "cell_type": "markdown",
   "metadata": {
    "id": "LbyaFIsYipNs"
   },
   "source": [
    "### Operasi Aritmatika"
   ]
  },
  {
   "cell_type": "code",
   "execution_count": 44,
   "metadata": {
    "colab": {
     "base_uri": "https://localhost:8080/"
    },
    "id": "eoPEWJXqitFt",
    "outputId": "b741fafc-e01c-4070-82a7-ce1d1dde16b5"
   },
   "outputs": [
    {
     "name": "stdout",
     "output_type": "stream",
     "text": [
      "7\n"
     ]
    }
   ],
   "source": [
    "a = 4\n",
    "b = 3\n",
    "\n",
    "print(a + b) #tambah"
   ]
  },
  {
   "cell_type": "code",
   "execution_count": 45,
   "metadata": {
    "colab": {
     "base_uri": "https://localhost:8080/"
    },
    "id": "sHRYs5Zgi94Z",
    "outputId": "2bc2acad-0d4f-430c-9598-dd3f3c79dd2b"
   },
   "outputs": [
    {
     "name": "stdout",
     "output_type": "stream",
     "text": [
      "1\n"
     ]
    }
   ],
   "source": [
    "a = 4\n",
    "b = 3\n",
    "\n",
    "print(a - b) #kurang"
   ]
  },
  {
   "cell_type": "code",
   "execution_count": 46,
   "metadata": {
    "colab": {
     "base_uri": "https://localhost:8080/"
    },
    "id": "EHAhQMbni_T5",
    "outputId": "671c0d01-7ea3-436a-f558-85f07dc954ae"
   },
   "outputs": [
    {
     "name": "stdout",
     "output_type": "stream",
     "text": [
      "12\n"
     ]
    }
   ],
   "source": [
    "a = 4\n",
    "b = 3\n",
    "\n",
    "print(a * b) #kali"
   ]
  },
  {
   "cell_type": "code",
   "execution_count": 47,
   "metadata": {
    "colab": {
     "base_uri": "https://localhost:8080/"
    },
    "id": "nMy22r3RjAdj",
    "outputId": "5403db4e-fa9d-41b8-b266-c61d816a0fc7"
   },
   "outputs": [
    {
     "name": "stdout",
     "output_type": "stream",
     "text": [
      "1.3333333333333333\n"
     ]
    }
   ],
   "source": [
    "a = 4\n",
    "b = 3\n",
    "\n",
    "print(a / b) # bagi"
   ]
  },
  {
   "cell_type": "code",
   "execution_count": 48,
   "metadata": {
    "colab": {
     "base_uri": "https://localhost:8080/"
    },
    "id": "xbvRQ_JSjBwq",
    "outputId": "00ac9328-e657-4418-925b-93ef20025332"
   },
   "outputs": [
    {
     "name": "stdout",
     "output_type": "stream",
     "text": [
      "1\n"
     ]
    }
   ],
   "source": [
    "a = 4\n",
    "b = 3\n",
    "\n",
    "print(a // b) # bagi & ambil bilangan bulatnya saja"
   ]
  },
  {
   "cell_type": "code",
   "execution_count": 49,
   "metadata": {
    "colab": {
     "base_uri": "https://localhost:8080/"
    },
    "id": "U00_WcON_C6F",
    "outputId": "8a1542ac-5dbb-4497-810b-31e25a81b994"
   },
   "outputs": [
    {
     "name": "stdout",
     "output_type": "stream",
     "text": [
      "bilangan bulat: 1.0\n",
      "bilangan desimal: 0.30000000000000004\n"
     ]
    }
   ],
   "source": [
    "# Memisahkan angka bulat dan desimal dari bilangan 1.3\n",
    "\n",
    "bil_bulat = 1.3//1\n",
    "print(\"bilangan bulat:\",bil_bulat)\n",
    "bil_des = 1.3 - bil_bulat\n",
    "print(\"bilangan desimal:\",bil_des)"
   ]
  },
  {
   "cell_type": "code",
   "execution_count": 50,
   "metadata": {
    "colab": {
     "base_uri": "https://localhost:8080/"
    },
    "id": "y1KkMhY1_z3W",
    "outputId": "f0d353c2-f838-4124-b37b-2a2437d7ede4"
   },
   "outputs": [
    {
     "data": {
      "text/plain": [
       "int"
      ]
     },
     "execution_count": 50,
     "metadata": {},
     "output_type": "execute_result"
    }
   ],
   "source": [
    "type(int(a/b))"
   ]
  },
  {
   "cell_type": "code",
   "execution_count": 51,
   "metadata": {
    "colab": {
     "base_uri": "https://localhost:8080/"
    },
    "id": "XkBeEvHWACZt",
    "outputId": "0041c815-bfe2-45d8-852b-fd2062055a57"
   },
   "outputs": [
    {
     "data": {
      "text/plain": [
       "int"
      ]
     },
     "execution_count": 51,
     "metadata": {},
     "output_type": "execute_result"
    }
   ],
   "source": [
    "type(a//b)"
   ]
  },
  {
   "cell_type": "code",
   "execution_count": 52,
   "metadata": {
    "colab": {
     "base_uri": "https://localhost:8080/"
    },
    "id": "W_bzszskjCyF",
    "outputId": "4ed9393d-a682-406e-a221-54bbea1cab7f"
   },
   "outputs": [
    {
     "name": "stdout",
     "output_type": "stream",
     "text": [
      "1\n"
     ]
    }
   ],
   "source": [
    "a = 4\n",
    "b = 3\n",
    "\n",
    "print(a % b) #modulo"
   ]
  },
  {
   "cell_type": "code",
   "execution_count": 53,
   "metadata": {
    "colab": {
     "base_uri": "https://localhost:8080/"
    },
    "id": "Y-M1cN4qArPd",
    "outputId": "97e8e3b7-da2c-4246-f3d3-b7e87858fae7"
   },
   "outputs": [
    {
     "name": "stdout",
     "output_type": "stream",
     "text": [
      "0\n",
      "1\n"
     ]
    }
   ],
   "source": [
    "#Bilangan genap, modulo jika dibagi 2 hasilnya nol, jika ganjil maka hasilnya bukan nol\n",
    "\n",
    "print(4 % 2)\n",
    "print(5 % 2)"
   ]
  },
  {
   "cell_type": "code",
   "execution_count": 54,
   "metadata": {
    "colab": {
     "base_uri": "https://localhost:8080/"
    },
    "id": "b_bqofn_jD8u",
    "outputId": "df606655-7757-456f-d1a1-543c76044464"
   },
   "outputs": [
    {
     "name": "stdout",
     "output_type": "stream",
     "text": [
      "64\n"
     ]
    }
   ],
   "source": [
    "a = 4\n",
    "b = 3\n",
    "\n",
    "print(a ** b) #pangkat"
   ]
  },
  {
   "cell_type": "code",
   "execution_count": 55,
   "metadata": {
    "colab": {
     "base_uri": "https://localhost:8080/"
    },
    "id": "4S4RuJzcBEvL",
    "outputId": "2c5e2c6d-39f1-44e0-c274-f3d725eb5e7a"
   },
   "outputs": [
    {
     "data": {
      "text/plain": [
       "81"
      ]
     },
     "execution_count": 55,
     "metadata": {},
     "output_type": "execute_result"
    }
   ],
   "source": [
    "b**a"
   ]
  },
  {
   "cell_type": "markdown",
   "metadata": {
    "id": "e2fheiH0jTWW"
   },
   "source": [
    "### Operator Perbandingan/Logika"
   ]
  },
  {
   "cell_type": "code",
   "execution_count": 56,
   "metadata": {
    "colab": {
     "base_uri": "https://localhost:8080/"
    },
    "id": "_NX6A5tcjWu-",
    "outputId": "0c4152bf-3529-465c-ef90-3222329d5123"
   },
   "outputs": [
    {
     "name": "stdout",
     "output_type": "stream",
     "text": [
      "False\n",
      "True\n",
      "True\n",
      "False\n",
      "True\n",
      "False\n"
     ]
    }
   ],
   "source": [
    "a = 10\n",
    "b = 20\n",
    "print(a == b)\n",
    "\n",
    "print(a != b)\n",
    "\n",
    "print(a <= b)\n",
    "\n",
    "print(a >= b)\n",
    "\n",
    "print(a < b)\n",
    "\n",
    "print(a > b)"
   ]
  },
  {
   "cell_type": "markdown",
   "metadata": {
    "id": "Y2Yj9ULKjq5L"
   },
   "source": [
    "## String\n",
    "\n",
    "String merupakan tipe data yang menampung data berjenis karakter. Selalu diikuti dengan \" \" atau ' '."
   ]
  },
  {
   "cell_type": "code",
   "execution_count": 57,
   "metadata": {
    "colab": {
     "base_uri": "https://localhost:8080/",
     "height": 37
    },
    "id": "bVh-rsQkj7YW",
    "outputId": "7bbdb5cd-5efe-4c6a-cd6f-a20e0525f58b"
   },
   "outputs": [
    {
     "data": {
      "text/plain": [
       "'Saya suka makan nasi goreng'"
      ]
     },
     "execution_count": 57,
     "metadata": {},
     "output_type": "execute_result"
    }
   ],
   "source": [
    "\"Saya suka makan nasi goreng\""
   ]
  },
  {
   "cell_type": "code",
   "execution_count": 58,
   "metadata": {
    "colab": {
     "base_uri": "https://localhost:8080/"
    },
    "id": "oKiAM-Htj-zI",
    "outputId": "5c1c3db3-933d-45d7-8c2e-be4db66a5c9e"
   },
   "outputs": [
    {
     "name": "stdout",
     "output_type": "stream",
     "text": [
      "apa kabar semuanya?\n"
     ]
    }
   ],
   "source": [
    "print('apa kabar semuanya?')"
   ]
  },
  {
   "cell_type": "markdown",
   "metadata": {
    "id": "GeRCLSguCzgn"
   },
   "source": [
    "Dia berkata: \"saya senang hari ini\"."
   ]
  },
  {
   "cell_type": "code",
   "execution_count": 59,
   "metadata": {
    "colab": {
     "base_uri": "https://localhost:8080/",
     "height": 37
    },
    "id": "ke9Eo9UKCvrh",
    "outputId": "a5c67b31-e8ec-4a15-c5eb-f70d2eb4b945"
   },
   "outputs": [
    {
     "data": {
      "text/plain": [
       "'Dia berkata: \"saya senang hari ini\". '"
      ]
     },
     "execution_count": 59,
     "metadata": {},
     "output_type": "execute_result"
    }
   ],
   "source": [
    "'Dia berkata: \"saya senang hari ini\". '"
   ]
  },
  {
   "cell_type": "code",
   "execution_count": 157,
   "metadata": {
    "colab": {
     "base_uri": "https://localhost:8080/",
     "height": 130
    },
    "id": "BfR72jFzkF38",
    "outputId": "c12282db-5a3f-4520-8b72-e731390ab2b7"
   },
   "outputs": [
    {
     "name": "stdout",
     "output_type": "stream",
     "text": [
      "apa kabar?\n"
     ]
    }
   ],
   "source": [
    "print('apa kabar?')"
   ]
  },
  {
   "cell_type": "code",
   "execution_count": 158,
   "metadata": {
    "colab": {
     "base_uri": "https://localhost:8080/"
    },
    "id": "-4ezYBGlj6TC",
    "outputId": "7c3bc720-80ea-4022-8634-3eac58965c25"
   },
   "outputs": [
    {
     "name": "stdout",
     "output_type": "stream",
     "text": [
      "<class 'str'>\n"
     ]
    }
   ],
   "source": [
    "print(type(\"Saya suka makan nasi goreng\"))"
   ]
  },
  {
   "cell_type": "markdown",
   "metadata": {
    "id": "Pn4wpbwRj3n_"
   },
   "source": [
    "### Konversi Tipe Data ke String"
   ]
  },
  {
   "cell_type": "code",
   "execution_count": 62,
   "metadata": {
    "colab": {
     "base_uri": "https://localhost:8080/",
     "height": 54
    },
    "id": "gzHS1ErRD4S3",
    "outputId": "d54c9849-0428-45aa-880a-4b95a00c7f73"
   },
   "outputs": [
    {
     "name": "stdout",
     "output_type": "stream",
     "text": [
      "<class 'str'>\n"
     ]
    },
    {
     "data": {
      "text/plain": [
       "'9'"
      ]
     },
     "execution_count": 62,
     "metadata": {},
     "output_type": "execute_result"
    }
   ],
   "source": [
    "print(type(str(9)))\n",
    "str(9)"
   ]
  },
  {
   "cell_type": "code",
   "execution_count": 63,
   "metadata": {
    "colab": {
     "base_uri": "https://localhost:8080/",
     "height": 54
    },
    "id": "BxVlf5ObEHJD",
    "outputId": "ff5f03c2-ac47-4356-ad78-b70894b48c20"
   },
   "outputs": [
    {
     "name": "stdout",
     "output_type": "stream",
     "text": [
      "<class 'str'>\n"
     ]
    },
    {
     "data": {
      "text/plain": [
       "'10.5'"
      ]
     },
     "execution_count": 63,
     "metadata": {},
     "output_type": "execute_result"
    }
   ],
   "source": [
    "print(type(str(10.5)))\n",
    "str(10.5)"
   ]
  },
  {
   "cell_type": "code",
   "execution_count": 64,
   "metadata": {
    "colab": {
     "base_uri": "https://localhost:8080/",
     "height": 37
    },
    "id": "Lo-FNuSzETNv",
    "outputId": "ae85fb0f-11b6-4a6c-a7d3-68709207be0c"
   },
   "outputs": [
    {
     "data": {
      "text/plain": [
       "'True'"
      ]
     },
     "execution_count": 64,
     "metadata": {},
     "output_type": "execute_result"
    }
   ],
   "source": [
    "str(True)"
   ]
  },
  {
   "cell_type": "code",
   "execution_count": 65,
   "metadata": {
    "colab": {
     "base_uri": "https://localhost:8080/"
    },
    "id": "-p-_TAjfEd3n",
    "outputId": "6d5f8db6-5478-45a4-d5c5-528e9b8d8a65"
   },
   "outputs": [
    {
     "data": {
      "text/plain": [
       "3"
      ]
     },
     "execution_count": 65,
     "metadata": {},
     "output_type": "execute_result"
    }
   ],
   "source": [
    "int('3')"
   ]
  },
  {
   "cell_type": "code",
   "execution_count": 66,
   "metadata": {
    "colab": {
     "base_uri": "https://localhost:8080/"
    },
    "id": "sANwilLsEhPw",
    "outputId": "3566ccfe-e403-4a1f-9eb8-b55f066f4678"
   },
   "outputs": [
    {
     "data": {
      "text/plain": [
       "2.7"
      ]
     },
     "execution_count": 66,
     "metadata": {},
     "output_type": "execute_result"
    }
   ],
   "source": [
    "float('2.7')"
   ]
  },
  {
   "cell_type": "code",
   "execution_count": 67,
   "metadata": {
    "colab": {
     "base_uri": "https://localhost:8080/"
    },
    "id": "cQqOL2OrEtXH",
    "outputId": "04e9434a-0c64-4efb-f825-16a33cc4c174"
   },
   "outputs": [
    {
     "data": {
      "text/plain": [
       "True"
      ]
     },
     "execution_count": 67,
     "metadata": {},
     "output_type": "execute_result"
    }
   ],
   "source": [
    "bool('True')"
   ]
  },
  {
   "cell_type": "markdown",
   "metadata": {
    "id": "YiLq2oK_kR1E"
   },
   "source": [
    "### Memanipulasi String\n",
    "\n",
    "**Penggabungan**"
   ]
  },
  {
   "cell_type": "code",
   "execution_count": 68,
   "metadata": {
    "colab": {
     "base_uri": "https://localhost:8080/",
     "height": 37
    },
    "id": "bNaZDLI9kUX1",
    "outputId": "e539ec19-4600-423c-c4f8-cd8ed7f2c186"
   },
   "outputs": [
    {
     "data": {
      "text/plain": [
       "'apa kabar?'"
      ]
     },
     "execution_count": 68,
     "metadata": {},
     "output_type": "execute_result"
    }
   ],
   "source": [
    "\"apa\" + \" \" + \"kabar?\""
   ]
  },
  {
   "cell_type": "code",
   "execution_count": 69,
   "metadata": {
    "colab": {
     "base_uri": "https://localhost:8080/"
    },
    "id": "yvQwQLU9klui",
    "outputId": "3330878b-b38f-4ad7-eb88-1f03a096c11a"
   },
   "outputs": [
    {
     "name": "stdout",
     "output_type": "stream",
     "text": [
      "apa kabar?\n"
     ]
    }
   ],
   "source": [
    "print(\"apa\" + \" \" + \"kabar?\")"
   ]
  },
  {
   "cell_type": "code",
   "execution_count": 70,
   "metadata": {
    "colab": {
     "base_uri": "https://localhost:8080/",
     "height": 37
    },
    "id": "oG-e8IHLFWrD",
    "outputId": "7b6e0946-6e5a-49ca-c9be-72f2951ba188"
   },
   "outputs": [
    {
     "data": {
      "text/plain": [
       "'Harga beras per kg sama dengan Rp 11000'"
      ]
     },
     "execution_count": 70,
     "metadata": {},
     "output_type": "execute_result"
    }
   ],
   "source": [
    "#Harga beras per kg sama dengan Rp 11000\n",
    "harga_beras = 11000\n",
    "\n",
    "\"Harga beras per kg sama dengan Rp \" + str(harga_beras)"
   ]
  },
  {
   "cell_type": "markdown",
   "metadata": {
    "id": "OVllGxhykrLO"
   },
   "source": [
    "**Penggandaan**"
   ]
  },
  {
   "cell_type": "code",
   "execution_count": 71,
   "metadata": {
    "colab": {
     "base_uri": "https://localhost:8080/",
     "height": 37
    },
    "id": "92g5Qca-kn64",
    "outputId": "17d8bc00-8c05-49f7-eda8-9c00ed954978"
   },
   "outputs": [
    {
     "data": {
      "text/plain": [
       "'apa apa apa apa apa '"
      ]
     },
     "execution_count": 71,
     "metadata": {},
     "output_type": "execute_result"
    }
   ],
   "source": [
    "\"apa \" * 5"
   ]
  },
  {
   "cell_type": "markdown",
   "metadata": {
    "id": "3dYOwzqsk6NJ"
   },
   "source": [
    "### Konversi Case"
   ]
  },
  {
   "cell_type": "code",
   "execution_count": 72,
   "metadata": {
    "colab": {
     "base_uri": "https://localhost:8080/"
    },
    "id": "zLaVnpolk9xq",
    "outputId": "8bf3f527-a481-4eb2-8585-21cc8ce93d62"
   },
   "outputs": [
    {
     "name": "stdout",
     "output_type": "stream",
     "text": [
      "Hacktiv8\n"
     ]
    }
   ],
   "source": [
    "# Case Conversion\n",
    "s = 'HackTIV8'\n",
    "\n",
    "# Capitalize\n",
    "print(s.capitalize())"
   ]
  },
  {
   "cell_type": "code",
   "execution_count": 73,
   "metadata": {
    "colab": {
     "base_uri": "https://localhost:8080/"
    },
    "id": "e3naqfuWlAvq",
    "outputId": "8b3d812e-aa92-4a34-9d89-0da5c29f7323"
   },
   "outputs": [
    {
     "name": "stdout",
     "output_type": "stream",
     "text": [
      "hacktiv8\n"
     ]
    }
   ],
   "source": [
    "# Case Conversion\n",
    "s = 'HackTIV8'\n",
    "\n",
    "# Lower\n",
    "print(s.lower())"
   ]
  },
  {
   "cell_type": "code",
   "execution_count": 74,
   "metadata": {
    "colab": {
     "base_uri": "https://localhost:8080/"
    },
    "id": "pQsDJ1jplFmo",
    "outputId": "38b1f89e-c4d3-4669-d07e-e45aea564ffc"
   },
   "outputs": [
    {
     "name": "stdout",
     "output_type": "stream",
     "text": [
      "HACKTIV8\n"
     ]
    }
   ],
   "source": [
    "# Case Conversion\n",
    "s = 'HackTIV8'\n",
    "\n",
    "# Uppercase\n",
    "print(s.upper())"
   ]
  },
  {
   "cell_type": "code",
   "execution_count": 75,
   "metadata": {
    "colab": {
     "base_uri": "https://localhost:8080/"
    },
    "id": "_YUCXaQQlC4n",
    "outputId": "b704046a-396f-4069-89a3-4b75a84a17a2"
   },
   "outputs": [
    {
     "name": "stdout",
     "output_type": "stream",
     "text": [
      "hACKtiv8\n"
     ]
    }
   ],
   "source": [
    "# Case Conversion\n",
    "s = 'HackTIV8'\n",
    "\n",
    "# Swapcase\n",
    "print(s.swapcase())"
   ]
  },
  {
   "cell_type": "code",
   "execution_count": 76,
   "metadata": {
    "colab": {
     "base_uri": "https://localhost:8080/"
    },
    "id": "CsU2Etx9lEQ9",
    "outputId": "9350db07-56f4-4f17-bd17-c16687db234e"
   },
   "outputs": [
    {
     "name": "stdout",
     "output_type": "stream",
     "text": [
      "Hacktiv8\n"
     ]
    }
   ],
   "source": [
    "# Case Conversion\n",
    "s = 'HackTIV8'\n",
    "\n",
    "# Title\n",
    "print(s.title())"
   ]
  },
  {
   "cell_type": "markdown",
   "metadata": {
    "id": "U1TsOsYDHDSw"
   },
   "source": [
    "### Menghapus karakter/elemen di String"
   ]
  },
  {
   "cell_type": "code",
   "execution_count": 77,
   "metadata": {
    "colab": {
     "base_uri": "https://localhost:8080/",
     "height": 37
    },
    "id": "qs0Tdy1oHJK_",
    "outputId": "a81b6a1a-9da1-4222-aead-4d6cbd6f43fc"
   },
   "outputs": [
    {
     "data": {
      "text/plain": [
       "'HackTIV'"
      ]
     },
     "execution_count": 77,
     "metadata": {},
     "output_type": "execute_result"
    }
   ],
   "source": [
    "#Gunakan method replace()\n",
    "\n",
    "s.replace('8','')"
   ]
  },
  {
   "cell_type": "markdown",
   "metadata": {
    "id": "35YuaNfjlmwj"
   },
   "source": [
    "### Formatting\n",
    "\n",
    "Formatting pada String dilakukan agar ketika akan mencetak output lebih fleksibel, dapat memasukkan value dalam suatu variabel. Formatting juga dapat dianggap sebagai metode penggabungan beberapa tipe data menjadi sebuah string"
   ]
  },
  {
   "cell_type": "code",
   "execution_count": 78,
   "metadata": {
    "colab": {
     "base_uri": "https://localhost:8080/"
    },
    "id": "cnhC6B6Rlzoe",
    "outputId": "24f0d025-bce8-419e-920d-f4eaa863f4bb"
   },
   "outputs": [
    {
     "name": "stdout",
     "output_type": "stream",
     "text": [
      "Variabel a, bernilai: 7\n"
     ]
    }
   ],
   "source": [
    "# Cara 1\n",
    "\n",
    "a = 7\n",
    "\n",
    "print(\"Variabel a, bernilai: {}\".format(a))"
   ]
  },
  {
   "cell_type": "code",
   "execution_count": 79,
   "metadata": {
    "colab": {
     "base_uri": "https://localhost:8080/"
    },
    "id": "W3iWoXXVIfFY",
    "outputId": "4ed02d6d-8b63-4b36-8f8d-a05ce1767524"
   },
   "outputs": [
    {
     "name": "stdout",
     "output_type": "stream",
     "text": [
      "Variabel a bernilai: 7 dan b bernilai: 10\n"
     ]
    }
   ],
   "source": [
    "b = 10\n",
    "\n",
    "print(\"Variabel a bernilai: {} dan b bernilai: {}\".format(a,b))"
   ]
  },
  {
   "cell_type": "code",
   "execution_count": 80,
   "metadata": {
    "colab": {
     "base_uri": "https://localhost:8080/"
    },
    "id": "jcArztCmI2Rl",
    "outputId": "1be31b32-c6a0-46d8-f5c1-d4ff540e8283"
   },
   "outputs": [
    {
     "name": "stdout",
     "output_type": "stream",
     "text": [
      "Variabel a bernilai: 10 dan b bernilai: 7\n"
     ]
    }
   ],
   "source": [
    "print(\"Variabel a bernilai: {} dan b bernilai: {}\".format(b,a))"
   ]
  },
  {
   "cell_type": "code",
   "execution_count": 81,
   "metadata": {
    "colab": {
     "base_uri": "https://localhost:8080/"
    },
    "id": "1_xgjefXmKPM",
    "outputId": "50ddbfa5-757d-43c2-e56c-c54705dc2be2"
   },
   "outputs": [
    {
     "name": "stdout",
     "output_type": "stream",
     "text": [
      "Variabel a, bernilai: 7\n"
     ]
    }
   ],
   "source": [
    "# Cara 2\n",
    "\n",
    "print(f\"Variabel a, bernilai: {a}\")"
   ]
  },
  {
   "cell_type": "code",
   "execution_count": 82,
   "metadata": {
    "colab": {
     "base_uri": "https://localhost:8080/"
    },
    "id": "ghleTWXRJNhq",
    "outputId": "b67b53c3-0fc1-4096-89cf-62235373d3d7"
   },
   "outputs": [
    {
     "name": "stdout",
     "output_type": "stream",
     "text": [
      "Variabel a, bernilai: 7 dan variabel b, bernilai: 10. a + b = 17\n"
     ]
    }
   ],
   "source": [
    "print(f\"Variabel a, bernilai: {a} dan variabel b, bernilai: {b}. a + b = {a+b}\")"
   ]
  },
  {
   "cell_type": "code",
   "execution_count": 83,
   "metadata": {
    "colab": {
     "base_uri": "https://localhost:8080/"
    },
    "id": "dW_sw-ujmRpO",
    "outputId": "c346bd3a-9563-4645-854f-b1cb7edc3c09"
   },
   "outputs": [
    {
     "name": "stdout",
     "output_type": "stream",
     "text": [
      "Variabel a, bernilai: 7\n"
     ]
    }
   ],
   "source": [
    "# Cara 3\n",
    "\n",
    "print(\"Variabel a, bernilai: \" + str(a))"
   ]
  },
  {
   "cell_type": "code",
   "execution_count": 84,
   "metadata": {
    "colab": {
     "base_uri": "https://localhost:8080/"
    },
    "id": "r8gIrNc0JtJH",
    "outputId": "8fd50a05-ea4e-42ff-e18d-896dbc2e3825"
   },
   "outputs": [
    {
     "name": "stdout",
     "output_type": "stream",
     "text": [
      "Persentase = 1%\n"
     ]
    }
   ],
   "source": [
    "# Mencetak nilai float 0.01 menjadi 1% dengan perintah print dan string\n",
    "\n",
    "persen = 0.01\n",
    "\n",
    "print(f\"Persentase = {int(persen*100)}%\")"
   ]
  },
  {
   "cell_type": "markdown",
   "metadata": {
    "id": "209tbMR7eYQd"
   },
   "source": [
    "### Memisahkan String Menjadi List"
   ]
  },
  {
   "cell_type": "code",
   "execution_count": 85,
   "metadata": {
    "id": "g5JXmwO3edu8"
   },
   "outputs": [],
   "source": [
    "kalimat = \"Saya ingin makan nasi goreng di sebuah restoran. Nasi gorengnya enak sekali\""
   ]
  },
  {
   "cell_type": "code",
   "execution_count": 86,
   "metadata": {
    "colab": {
     "base_uri": "https://localhost:8080/"
    },
    "id": "1t65-krQek8p",
    "outputId": "5d4fc2dd-025c-4a3b-ec89-65ad49c52eca"
   },
   "outputs": [
    {
     "data": {
      "text/plain": [
       "['Saya',\n",
       " 'ingin',\n",
       " 'makan',\n",
       " 'nasi',\n",
       " 'goreng',\n",
       " 'di',\n",
       " 'sebuah',\n",
       " 'restoran.',\n",
       " 'Nasi',\n",
       " 'gorengnya',\n",
       " 'enak',\n",
       " 'sekali']"
      ]
     },
     "execution_count": 86,
     "metadata": {},
     "output_type": "execute_result"
    }
   ],
   "source": [
    "kalimat.split(\" \")"
   ]
  },
  {
   "cell_type": "code",
   "execution_count": 87,
   "metadata": {
    "colab": {
     "base_uri": "https://localhost:8080/"
    },
    "id": "1tqZLCgVeuhp",
    "outputId": "4895bfbf-776f-4cb0-d64d-213072132c90"
   },
   "outputs": [
    {
     "data": {
      "text/plain": [
       "['Saya ingin makan nasi goreng di sebuah restoran',\n",
       " ' Nasi gorengnya enak sekali']"
      ]
     },
     "execution_count": 87,
     "metadata": {},
     "output_type": "execute_result"
    }
   ],
   "source": [
    "kalimat.split(\".\")"
   ]
  },
  {
   "cell_type": "code",
   "execution_count": 88,
   "metadata": {
    "colab": {
     "base_uri": "https://localhost:8080/"
    },
    "id": "Obk2RttWK6Tl",
    "outputId": "e27e9eb1-72be-4365-adfd-9a331a72ab0d"
   },
   "outputs": [
    {
     "data": {
      "text/plain": [
       "['Saya ingin makan nasi goreng di sebuah restoran',\n",
       " 'Nasi gorengnya enak sekali']"
      ]
     },
     "execution_count": 88,
     "metadata": {},
     "output_type": "execute_result"
    }
   ],
   "source": [
    "kalimat.split(\". \")"
   ]
  },
  {
   "cell_type": "markdown",
   "metadata": {
    "id": "jOljpQLImaKG"
   },
   "source": [
    "## Sequences - List, Tuple"
   ]
  },
  {
   "cell_type": "markdown",
   "metadata": {
    "id": "4jkQjVXUmmef"
   },
   "source": [
    "### List\n",
    "\n",
    "Cara menulis objek list, dapat gunakan kurung siku \"[ ]\"\n",
    "\n",
    "List merupakan objek sequence yang bersifat mutable (dapat diganti nilainhya)"
   ]
  },
  {
   "cell_type": "code",
   "execution_count": 89,
   "metadata": {
    "colab": {
     "base_uri": "https://localhost:8080/"
    },
    "id": "2zAh0oX0lX5N",
    "outputId": "a79de996-9c71-4bb1-ddea-2249cada5e70"
   },
   "outputs": [
    {
     "data": {
      "text/plain": [
       "['foo', 'bar', 'baz', 'qux']"
      ]
     },
     "execution_count": 89,
     "metadata": {},
     "output_type": "execute_result"
    }
   ],
   "source": [
    "a = ['foo', 'bar', 'baz', 'qux']\n",
    "a"
   ]
  },
  {
   "cell_type": "code",
   "execution_count": 90,
   "metadata": {
    "colab": {
     "base_uri": "https://localhost:8080/"
    },
    "id": "OxaJqW6RaxhC",
    "outputId": "1ddb4b2b-4886-4d03-ca9e-9a9ab83089fe"
   },
   "outputs": [
    {
     "data": {
      "text/plain": [
       "list"
      ]
     },
     "execution_count": 90,
     "metadata": {},
     "output_type": "execute_result"
    }
   ],
   "source": [
    "type(a)"
   ]
  },
  {
   "cell_type": "code",
   "execution_count": 91,
   "metadata": {
    "colab": {
     "base_uri": "https://localhost:8080/"
    },
    "id": "Il33cCK9EB40",
    "outputId": "37a8bcc2-5119-483b-ca02-60a41e3505ca"
   },
   "outputs": [
    {
     "data": {
      "text/plain": [
       "[21.42, 'foobar', 3, 4, 'bark', False, 3.14159]"
      ]
     },
     "execution_count": 91,
     "metadata": {},
     "output_type": "execute_result"
    }
   ],
   "source": [
    "b = [21.42, 'foobar', 3, 4, 'bark', False, 3.14159]\n",
    "b"
   ]
  },
  {
   "cell_type": "code",
   "execution_count": 92,
   "metadata": {
    "colab": {
     "base_uri": "https://localhost:8080/"
    },
    "id": "DeyK1VgybJb5",
    "outputId": "69459001-4ea0-4777-96ff-ce753bae3a18"
   },
   "outputs": [
    {
     "data": {
      "text/plain": [
       "list"
      ]
     },
     "execution_count": 92,
     "metadata": {},
     "output_type": "execute_result"
    }
   ],
   "source": [
    "type(b)"
   ]
  },
  {
   "cell_type": "markdown",
   "metadata": {
    "id": "EKq_0snmFAzA"
   },
   "source": [
    "**Akses elemen dalam list/Slicing**"
   ]
  },
  {
   "cell_type": "code",
   "execution_count": 93,
   "metadata": {
    "colab": {
     "base_uri": "https://localhost:8080/"
    },
    "id": "fy0iFuJsEEyg",
    "outputId": "b8099ba9-d361-4e48-cb67-1f2b8da5cf80"
   },
   "outputs": [
    {
     "name": "stdout",
     "output_type": "stream",
     "text": [
      "21.42\n",
      "3\n",
      "3.14159\n",
      "bark\n"
     ]
    }
   ],
   "source": [
    "print(b[0])\n",
    "print(b[2])\n",
    "print(b[-1])\n",
    "print(b[-3])"
   ]
  },
  {
   "cell_type": "markdown",
   "metadata": {
    "id": "nBQ-EKr8FEDS"
   },
   "source": [
    "**Akses multi elemen dalam list**\n",
    "\n",
    "List[start:end:step]\n",
    "\n",
    "index 'end' tidak akan dikeluarkan"
   ]
  },
  {
   "cell_type": "code",
   "execution_count": 94,
   "metadata": {
    "colab": {
     "base_uri": "https://localhost:8080/"
    },
    "id": "geNDvOBMFdUe",
    "outputId": "90e53f0c-1ea1-4002-9a1e-b8a8a25e9fe6"
   },
   "outputs": [
    {
     "name": "stdout",
     "output_type": "stream",
     "text": [
      "[21.42, 'foobar', 3, 4, 'bark', False, 3.14159]\n"
     ]
    }
   ],
   "source": [
    "print(b)"
   ]
  },
  {
   "cell_type": "code",
   "execution_count": 95,
   "metadata": {
    "colab": {
     "base_uri": "https://localhost:8080/"
    },
    "id": "MvJkXhLMFLg5",
    "outputId": "50dea2aa-73f7-47f5-f190-ea8beaf3ba3b"
   },
   "outputs": [
    {
     "data": {
      "text/plain": [
       "['foobar', 3, 4]"
      ]
     },
     "execution_count": 95,
     "metadata": {},
     "output_type": "execute_result"
    }
   ],
   "source": [
    "b[1:4]"
   ]
  },
  {
   "cell_type": "code",
   "execution_count": 96,
   "metadata": {
    "colab": {
     "base_uri": "https://localhost:8080/"
    },
    "id": "txJNV2H_dyLW",
    "outputId": "7166592f-5d4a-47b7-e242-1ce78873fb9a"
   },
   "outputs": [
    {
     "data": {
      "text/plain": [
       "['bark', False, 3.14159]"
      ]
     },
     "execution_count": 96,
     "metadata": {},
     "output_type": "execute_result"
    }
   ],
   "source": [
    "b[4:7]"
   ]
  },
  {
   "cell_type": "code",
   "execution_count": 97,
   "metadata": {
    "colab": {
     "base_uri": "https://localhost:8080/"
    },
    "id": "e9kwWhkyeDVh",
    "outputId": "912185da-c290-41ec-b831-cccdd1fb138b"
   },
   "outputs": [
    {
     "data": {
      "text/plain": [
       "['bark', False, 3.14159]"
      ]
     },
     "execution_count": 97,
     "metadata": {},
     "output_type": "execute_result"
    }
   ],
   "source": [
    "b[4:10]"
   ]
  },
  {
   "cell_type": "code",
   "execution_count": 98,
   "metadata": {
    "colab": {
     "base_uri": "https://localhost:8080/"
    },
    "id": "sv9KenTIeQo-",
    "outputId": "c11d29ce-1a65-4102-b66a-e5cadce7be09"
   },
   "outputs": [
    {
     "data": {
      "text/plain": [
       "[]"
      ]
     },
     "execution_count": 98,
     "metadata": {},
     "output_type": "execute_result"
    }
   ],
   "source": [
    "b[-1:-4]"
   ]
  },
  {
   "cell_type": "code",
   "execution_count": 99,
   "metadata": {
    "colab": {
     "base_uri": "https://localhost:8080/"
    },
    "id": "GHcuMIb2e1Ly",
    "outputId": "f9810304-fd55-462a-ce87-694802bebd04"
   },
   "outputs": [
    {
     "data": {
      "text/plain": [
       "[4, 'bark', False]"
      ]
     },
     "execution_count": 99,
     "metadata": {},
     "output_type": "execute_result"
    }
   ],
   "source": [
    "b[-4:-1]"
   ]
  },
  {
   "cell_type": "code",
   "execution_count": 100,
   "metadata": {
    "colab": {
     "base_uri": "https://localhost:8080/"
    },
    "id": "NP7FQ4-Oe913",
    "outputId": "1fc8aeab-ed99-4eee-a208-7607df184a0c"
   },
   "outputs": [
    {
     "data": {
      "text/plain": [
       "[]"
      ]
     },
     "execution_count": 100,
     "metadata": {},
     "output_type": "execute_result"
    }
   ],
   "source": [
    "b[-4:0]"
   ]
  },
  {
   "cell_type": "code",
   "execution_count": 101,
   "metadata": {
    "colab": {
     "base_uri": "https://localhost:8080/"
    },
    "id": "T6d0GTy2fNbC",
    "outputId": "6d9de2da-b4be-4b1f-97ba-52d3a0a66d1b"
   },
   "outputs": [
    {
     "data": {
      "text/plain": [
       "[4, 'bark', False, 3.14159]"
      ]
     },
     "execution_count": 101,
     "metadata": {},
     "output_type": "execute_result"
    }
   ],
   "source": [
    "b[-4:]"
   ]
  },
  {
   "cell_type": "code",
   "execution_count": 102,
   "metadata": {
    "colab": {
     "base_uri": "https://localhost:8080/"
    },
    "id": "vD1gfwz9fY5h",
    "outputId": "376a42f5-6735-46b7-917f-a2b17b98f6ce"
   },
   "outputs": [
    {
     "data": {
      "text/plain": [
       "[21.42, 'foobar', 3, 4]"
      ]
     },
     "execution_count": 102,
     "metadata": {},
     "output_type": "execute_result"
    }
   ],
   "source": [
    "b[:4]"
   ]
  },
  {
   "cell_type": "code",
   "execution_count": 103,
   "metadata": {
    "colab": {
     "base_uri": "https://localhost:8080/",
     "height": 164
    },
    "id": "2UF7-hZffsgI",
    "outputId": "d096fb52-0001-4fab-aec1-da920982c01d"
   },
   "outputs": [
    {
     "ename": "TypeError",
     "evalue": "list indices must be integers or slices, not tuple",
     "output_type": "error",
     "traceback": [
      "\u001b[1;31m---------------------------------------------------------------------------\u001b[0m",
      "\u001b[1;31mTypeError\u001b[0m                                 Traceback (most recent call last)",
      "Input \u001b[1;32mIn [103]\u001b[0m, in \u001b[0;36m<cell line: 1>\u001b[1;34m()\u001b[0m\n\u001b[1;32m----> 1\u001b[0m \u001b[43mb\u001b[49m\u001b[43m[\u001b[49m\u001b[38;5;241;43m1\u001b[39;49m\u001b[43m,\u001b[49m\u001b[38;5;241;43m4\u001b[39;49m\u001b[43m]\u001b[49m\n",
      "\u001b[1;31mTypeError\u001b[0m: list indices must be integers or slices, not tuple"
     ]
    }
   ],
   "source": [
    "b[1,4]"
   ]
  },
  {
   "cell_type": "markdown",
   "metadata": {
    "id": "UFUQNQCDgF01"
   },
   "source": [
    "**Cek indeks suatu element**"
   ]
  },
  {
   "cell_type": "code",
   "execution_count": 104,
   "metadata": {
    "colab": {
     "base_uri": "https://localhost:8080/"
    },
    "id": "BXnFoPA0gJmN",
    "outputId": "1857af72-76ea-4d23-c694-37a20e17b5eb"
   },
   "outputs": [
    {
     "data": {
      "text/plain": [
       "2"
      ]
     },
     "execution_count": 104,
     "metadata": {},
     "output_type": "execute_result"
    }
   ],
   "source": [
    "b.index(3)"
   ]
  },
  {
   "cell_type": "code",
   "execution_count": 105,
   "metadata": {
    "colab": {
     "base_uri": "https://localhost:8080/"
    },
    "id": "9KZhkVErgb5C",
    "outputId": "957d8c5d-22fc-419b-f37c-4951330c7ca9"
   },
   "outputs": [
    {
     "data": {
      "text/plain": [
       "[21.42, 'foobar', 3, 4, 'bark', False, 3.14159]"
      ]
     },
     "execution_count": 105,
     "metadata": {},
     "output_type": "execute_result"
    }
   ],
   "source": [
    "b"
   ]
  },
  {
   "cell_type": "code",
   "execution_count": 106,
   "metadata": {
    "colab": {
     "base_uri": "https://localhost:8080/"
    },
    "id": "Vm3v-H_zFOIZ",
    "outputId": "67a99cf6-57cc-49bd-9f9d-d1221285f379"
   },
   "outputs": [
    {
     "data": {
      "text/plain": [
       "['foobar', 'bark']"
      ]
     },
     "execution_count": 106,
     "metadata": {},
     "output_type": "execute_result"
    }
   ],
   "source": [
    "b[1:5:3]"
   ]
  },
  {
   "cell_type": "markdown",
   "metadata": {
    "id": "qS9NeucBhFjY"
   },
   "source": [
    "**Operator Aritmetika pada List**"
   ]
  },
  {
   "cell_type": "code",
   "execution_count": 107,
   "metadata": {
    "colab": {
     "base_uri": "https://localhost:8080/"
    },
    "id": "45yFIv3sEa1C",
    "outputId": "e3eb1099-1ffc-4d1e-99db-91b88a4c3e40"
   },
   "outputs": [
    {
     "name": "stdout",
     "output_type": "stream",
     "text": [
      "[21.42, 'foobar', 3, 4, 'bark', False, 3.14159, 'grault', 'garply']\n",
      "[21.42, 'foobar', 3, 4, 'bark', False, 3.14159, 21.42, 'foobar', 3, 4, 'bark', False, 3.14159]\n"
     ]
    }
   ],
   "source": [
    "print(b + ['grault', 'garply'])\n",
    "print(b * 2)"
   ]
  },
  {
   "cell_type": "code",
   "execution_count": 108,
   "metadata": {
    "colab": {
     "base_uri": "https://localhost:8080/"
    },
    "id": "t9fGnq-8Ei-c",
    "outputId": "8c9b5649-da40-4769-98ce-b0650186644c"
   },
   "outputs": [
    {
     "name": "stdout",
     "output_type": "stream",
     "text": [
      "['foo', 'bar', 'baz', 'qux']\n",
      "4\n",
      "bar\n",
      "qux\n"
     ]
    }
   ],
   "source": [
    "# len(), min(), max()\n",
    "\n",
    "print(a)\n",
    "\n",
    "print(len(a))\n",
    "print(min(a))\n",
    "print(max(a))"
   ]
  },
  {
   "cell_type": "markdown",
   "metadata": {
    "id": "fZrBww6jFtBJ"
   },
   "source": [
    "**Modifikasi elemen dalam list**"
   ]
  },
  {
   "cell_type": "code",
   "execution_count": 109,
   "metadata": {
    "colab": {
     "base_uri": "https://localhost:8080/"
    },
    "id": "bMB2tetnFwvB",
    "outputId": "3a0c1cd7-a5d8-4710-cf07-a24d12dbc0c3"
   },
   "outputs": [
    {
     "name": "stdout",
     "output_type": "stream",
     "text": [
      "baz\n"
     ]
    }
   ],
   "source": [
    "print(a[2])"
   ]
  },
  {
   "cell_type": "code",
   "execution_count": 110,
   "metadata": {
    "colab": {
     "base_uri": "https://localhost:8080/"
    },
    "id": "LEcQml85F12P",
    "outputId": "72745146-d01b-46a1-91fc-23455b29ae78"
   },
   "outputs": [
    {
     "name": "stdout",
     "output_type": "stream",
     "text": [
      "bras\n"
     ]
    }
   ],
   "source": [
    "a[2] = 'bras'\n",
    "\n",
    "print(a[2])"
   ]
  },
  {
   "cell_type": "markdown",
   "metadata": {
    "id": "SjIx3zKKGfAl"
   },
   "source": [
    "**Menambahkan elemen dalam list**"
   ]
  },
  {
   "cell_type": "code",
   "execution_count": 111,
   "metadata": {
    "colab": {
     "base_uri": "https://localhost:8080/"
    },
    "id": "BCUgMtA1Gi6-",
    "outputId": "5f402edd-abb9-4c55-8caf-630c9c523732"
   },
   "outputs": [
    {
     "name": "stdout",
     "output_type": "stream",
     "text": [
      "['foo', 'bar', 'bras', 'qux']\n"
     ]
    }
   ],
   "source": [
    "print(a)"
   ]
  },
  {
   "cell_type": "code",
   "execution_count": 112,
   "metadata": {
    "colab": {
     "base_uri": "https://localhost:8080/"
    },
    "id": "2jMMtkTBGkFN",
    "outputId": "f49d842e-1f68-45df-cee4-946b08bd0b8c"
   },
   "outputs": [
    {
     "name": "stdout",
     "output_type": "stream",
     "text": [
      "['foo', 'bar', 'bras', 'qux', 'bazquux']\n"
     ]
    }
   ],
   "source": [
    "a.append('bazquux')\n",
    "print(a)"
   ]
  },
  {
   "cell_type": "code",
   "execution_count": 113,
   "metadata": {
    "colab": {
     "base_uri": "https://localhost:8080/"
    },
    "id": "-DuGaXNCjHb2",
    "outputId": "09466860-a451-454c-c5ab-3ede7748ba44"
   },
   "outputs": [
    {
     "data": {
      "text/plain": [
       "['bras', 'foo', 'bar', 'bras', 'qux', 'bazquux']"
      ]
     },
     "execution_count": 113,
     "metadata": {},
     "output_type": "execute_result"
    }
   ],
   "source": [
    "#'bras'\n",
    "\n",
    "['bras']+a"
   ]
  },
  {
   "cell_type": "code",
   "execution_count": 114,
   "metadata": {
    "id": "ocXA6lrXjeZI"
   },
   "outputs": [],
   "source": [
    "#Gunakan Insert untuk di tengah\n",
    "\n",
    "a.insert(2,'bras')"
   ]
  },
  {
   "cell_type": "code",
   "execution_count": 115,
   "metadata": {
    "colab": {
     "base_uri": "https://localhost:8080/"
    },
    "id": "LTX50-o2jqiP",
    "outputId": "7230d6a7-4780-4d00-cbbf-9b6d615e4a48"
   },
   "outputs": [
    {
     "data": {
      "text/plain": [
       "['foo', 'bar', 'bras', 'bras', 'qux', 'bazquux']"
      ]
     },
     "execution_count": 115,
     "metadata": {},
     "output_type": "execute_result"
    }
   ],
   "source": [
    "a"
   ]
  },
  {
   "cell_type": "markdown",
   "metadata": {
    "id": "mQoSH07UGxa9"
   },
   "source": [
    "**Menghapus elemen dalam list**"
   ]
  },
  {
   "cell_type": "code",
   "execution_count": 116,
   "metadata": {
    "id": "BnyZtobXGpV_"
   },
   "outputs": [],
   "source": [
    "del a[-1]"
   ]
  },
  {
   "cell_type": "code",
   "execution_count": 117,
   "metadata": {
    "colab": {
     "base_uri": "https://localhost:8080/"
    },
    "id": "J9aXq_XTG2ek",
    "outputId": "bcfbe44f-2155-4e5b-b0de-62f8a8d0de29"
   },
   "outputs": [
    {
     "name": "stdout",
     "output_type": "stream",
     "text": [
      "['foo', 'bar', 'bras', 'bras', 'qux']\n"
     ]
    }
   ],
   "source": [
    "print(a)"
   ]
  },
  {
   "cell_type": "markdown",
   "metadata": {
    "id": "p9f4lrxDHC-w"
   },
   "source": [
    "**Unpacking**"
   ]
  },
  {
   "cell_type": "code",
   "execution_count": 118,
   "metadata": {
    "id": "8N6i9i9RG-_0"
   },
   "outputs": [],
   "source": [
    "a,b = [2,3]"
   ]
  },
  {
   "cell_type": "code",
   "execution_count": 119,
   "metadata": {
    "colab": {
     "base_uri": "https://localhost:8080/"
    },
    "id": "M1SahMnskFnG",
    "outputId": "2d02d0fa-729a-4f4b-bc51-53c121cffc5f"
   },
   "outputs": [
    {
     "data": {
      "text/plain": [
       "2"
      ]
     },
     "execution_count": 119,
     "metadata": {},
     "output_type": "execute_result"
    }
   ],
   "source": [
    "a"
   ]
  },
  {
   "cell_type": "code",
   "execution_count": 120,
   "metadata": {
    "colab": {
     "base_uri": "https://localhost:8080/"
    },
    "id": "dwRXW1QbkGdw",
    "outputId": "a6672789-969b-4ab5-90ff-ef6057207c25"
   },
   "outputs": [
    {
     "data": {
      "text/plain": [
       "3"
      ]
     },
     "execution_count": 120,
     "metadata": {},
     "output_type": "execute_result"
    }
   ],
   "source": [
    "b"
   ]
  },
  {
   "cell_type": "code",
   "execution_count": 121,
   "metadata": {
    "colab": {
     "base_uri": "https://localhost:8080/",
     "height": 198
    },
    "id": "sp7QO9MrkMYy",
    "outputId": "250eee90-282c-44c4-b67c-252fa4d0d9f2"
   },
   "outputs": [
    {
     "ename": "ValueError",
     "evalue": "too many values to unpack (expected 2)",
     "output_type": "error",
     "traceback": [
      "\u001b[1;31m---------------------------------------------------------------------------\u001b[0m",
      "\u001b[1;31mValueError\u001b[0m                                Traceback (most recent call last)",
      "Input \u001b[1;32mIn [121]\u001b[0m, in \u001b[0;36m<cell line: 1>\u001b[1;34m()\u001b[0m\n\u001b[1;32m----> 1\u001b[0m a,b \u001b[38;5;241m=\u001b[39m [\u001b[38;5;241m2\u001b[39m,\u001b[38;5;241m3\u001b[39m,\u001b[38;5;241m4\u001b[39m]\n\u001b[0;32m      2\u001b[0m \u001b[38;5;28mprint\u001b[39m(a)\n\u001b[0;32m      3\u001b[0m \u001b[38;5;28mprint\u001b[39m(b)\n",
      "\u001b[1;31mValueError\u001b[0m: too many values to unpack (expected 2)"
     ]
    }
   ],
   "source": [
    "a,b = [2,3,4]\n",
    "print(a)\n",
    "print(b)"
   ]
  },
  {
   "cell_type": "markdown",
   "metadata": {
    "id": "Qc9SC9sFH6eO"
   },
   "source": [
    "**Nested List** (List di dalam list)"
   ]
  },
  {
   "cell_type": "code",
   "execution_count": 122,
   "metadata": {
    "id": "m8t1oAd1H-gU"
   },
   "outputs": [],
   "source": [
    "nested_list = [[5,4,3], [1,2,3], [0,3]]"
   ]
  },
  {
   "cell_type": "code",
   "execution_count": 123,
   "metadata": {
    "colab": {
     "base_uri": "https://localhost:8080/"
    },
    "id": "Fn-uDc8OIE9y",
    "outputId": "85da0357-9bd5-42ac-db7c-325c580e7359"
   },
   "outputs": [
    {
     "name": "stdout",
     "output_type": "stream",
     "text": [
      "[[5, 4, 3], [1, 2, 3], [0, 3]]\n"
     ]
    }
   ],
   "source": [
    "print(nested_list)"
   ]
  },
  {
   "cell_type": "code",
   "execution_count": 124,
   "metadata": {
    "colab": {
     "base_uri": "https://localhost:8080/"
    },
    "id": "kL8MzLA6IIbg",
    "outputId": "0d96d92f-256d-465d-c96e-a1cdc984c1d6"
   },
   "outputs": [
    {
     "data": {
      "text/plain": [
       "[1, 2, 3]"
      ]
     },
     "execution_count": 124,
     "metadata": {},
     "output_type": "execute_result"
    }
   ],
   "source": [
    "nested_list[1]"
   ]
  },
  {
   "cell_type": "code",
   "execution_count": 125,
   "metadata": {
    "colab": {
     "base_uri": "https://localhost:8080/"
    },
    "id": "7tjNexU-IKt0",
    "outputId": "7c77dddb-aaaa-4e91-ed19-5c5d6a87b69e"
   },
   "outputs": [
    {
     "data": {
      "text/plain": [
       "2"
      ]
     },
     "execution_count": 125,
     "metadata": {},
     "output_type": "execute_result"
    }
   ],
   "source": [
    "nested_list[1][1]"
   ]
  },
  {
   "cell_type": "code",
   "execution_count": 126,
   "metadata": {
    "colab": {
     "base_uri": "https://localhost:8080/"
    },
    "id": "UD7dAJ_AlKCx",
    "outputId": "da23bb4b-ed83-401b-f0b5-5ee3832dc59a"
   },
   "outputs": [
    {
     "data": {
      "text/plain": [
       "[]"
      ]
     },
     "execution_count": 126,
     "metadata": {},
     "output_type": "execute_result"
    }
   ],
   "source": [
    "nested_list[1:1]"
   ]
  },
  {
   "cell_type": "code",
   "execution_count": 127,
   "metadata": {
    "colab": {
     "base_uri": "https://localhost:8080/",
     "height": 164
    },
    "id": "9viou-WhlNxr",
    "outputId": "b34e0b57-50c1-4217-f68c-c567164159c6"
   },
   "outputs": [
    {
     "ename": "TypeError",
     "evalue": "list indices must be integers or slices, not tuple",
     "output_type": "error",
     "traceback": [
      "\u001b[1;31m---------------------------------------------------------------------------\u001b[0m",
      "\u001b[1;31mTypeError\u001b[0m                                 Traceback (most recent call last)",
      "Input \u001b[1;32mIn [127]\u001b[0m, in \u001b[0;36m<cell line: 1>\u001b[1;34m()\u001b[0m\n\u001b[1;32m----> 1\u001b[0m \u001b[43mnested_list\u001b[49m\u001b[43m[\u001b[49m\u001b[38;5;241;43m1\u001b[39;49m\u001b[43m,\u001b[49m\u001b[38;5;241;43m1\u001b[39;49m\u001b[43m]\u001b[49m\n",
      "\u001b[1;31mTypeError\u001b[0m: list indices must be integers or slices, not tuple"
     ]
    }
   ],
   "source": [
    "nested_list[1,1]"
   ]
  },
  {
   "cell_type": "code",
   "execution_count": 128,
   "metadata": {
    "colab": {
     "base_uri": "https://localhost:8080/"
    },
    "id": "xgwSIyfXlkbi",
    "outputId": "35d132d0-7dec-4820-a6ef-ebf36cccd6c0"
   },
   "outputs": [
    {
     "data": {
      "text/plain": [
       "[[1, 2, 3], [2, 6, 7]]"
      ]
     },
     "execution_count": 128,
     "metadata": {},
     "output_type": "execute_result"
    }
   ],
   "source": [
    "#Data tabular -> baris dan kolom\n",
    "'''\n",
    "kolom1 kolom2 kolom3\n",
    "  1.     2.     3 #baris 1\n",
    "  2.     6.     7 #baris 2\n",
    "\n",
    "\n",
    "  [[baris1],[baris2]]\n",
    "\n",
    "'''\n",
    "[[1,2,3],[2,6,7]]"
   ]
  },
  {
   "cell_type": "code",
   "execution_count": 129,
   "metadata": {
    "id": "ZfVqCpTHmJ-B"
   },
   "outputs": [
    {
     "data": {
      "text/plain": [
       "[[1, 2, 3], [2, 6, 7]]"
      ]
     },
     "execution_count": 129,
     "metadata": {},
     "output_type": "execute_result"
    }
   ],
   "source": [
    "[\n",
    " [1,2,3], #baris1\n",
    " [2,6,7] #baris2\n",
    "]"
   ]
  },
  {
   "cell_type": "markdown",
   "metadata": {
    "id": "ppkfgUDqG8ad"
   },
   "source": [
    "### Tuple\n",
    "\n",
    "Tuple mirip dengan List, hanya saja Tuple bersifat immutable atau tidak dapat diubah nilainya setelah didefinisikan"
   ]
  },
  {
   "cell_type": "code",
   "execution_count": 130,
   "metadata": {
    "id": "vFGAui0GHON8"
   },
   "outputs": [],
   "source": [
    "A = (3,6,5,2,1,0)"
   ]
  },
  {
   "cell_type": "code",
   "execution_count": 131,
   "metadata": {
    "colab": {
     "base_uri": "https://localhost:8080/"
    },
    "id": "wt2VadMZHg4O",
    "outputId": "d0c97d32-8bdd-470a-dc77-ae092eafebd6"
   },
   "outputs": [
    {
     "data": {
      "text/plain": [
       "2"
      ]
     },
     "execution_count": 131,
     "metadata": {},
     "output_type": "execute_result"
    }
   ],
   "source": [
    "A[3]"
   ]
  },
  {
   "cell_type": "code",
   "execution_count": 132,
   "metadata": {
    "colab": {
     "base_uri": "https://localhost:8080/"
    },
    "id": "T3canRJqHj_h",
    "outputId": "338dd50f-678b-452c-c011-3df98e359980"
   },
   "outputs": [
    {
     "data": {
      "text/plain": [
       "0"
      ]
     },
     "execution_count": 132,
     "metadata": {},
     "output_type": "execute_result"
    }
   ],
   "source": [
    "A[-1]"
   ]
  },
  {
   "cell_type": "code",
   "execution_count": 133,
   "metadata": {
    "colab": {
     "base_uri": "https://localhost:8080/",
     "height": 198
    },
    "id": "7nFgd0GJHl-y",
    "outputId": "599bd8f2-08e3-4097-fda2-8c4daa5e3066"
   },
   "outputs": [
    {
     "name": "stdout",
     "output_type": "stream",
     "text": [
      "2\n"
     ]
    },
    {
     "ename": "TypeError",
     "evalue": "'tuple' object does not support item assignment",
     "output_type": "error",
     "traceback": [
      "\u001b[1;31m---------------------------------------------------------------------------\u001b[0m",
      "\u001b[1;31mTypeError\u001b[0m                                 Traceback (most recent call last)",
      "Input \u001b[1;32mIn [133]\u001b[0m, in \u001b[0;36m<cell line: 2>\u001b[1;34m()\u001b[0m\n\u001b[0;32m      1\u001b[0m \u001b[38;5;28mprint\u001b[39m(A[\u001b[38;5;241m3\u001b[39m])\n\u001b[1;32m----> 2\u001b[0m A[\u001b[38;5;241m3\u001b[39m] \u001b[38;5;241m=\u001b[39m \u001b[38;5;241m4\u001b[39m\n",
      "\u001b[1;31mTypeError\u001b[0m: 'tuple' object does not support item assignment"
     ]
    }
   ],
   "source": [
    "print(A[3])\n",
    "A[3] = 4"
   ]
  },
  {
   "cell_type": "markdown",
   "metadata": {
    "id": "VfxE9KReHwtC"
   },
   "source": [
    "**Packing and Unpacking**"
   ]
  },
  {
   "cell_type": "code",
   "execution_count": 134,
   "metadata": {
    "colab": {
     "base_uri": "https://localhost:8080/",
     "height": 37
    },
    "id": "OFVIMpYVHsVu",
    "outputId": "3911caac-c229-4b5a-ce72-4415b36b42d6"
   },
   "outputs": [
    {
     "data": {
      "text/plain": [
       "'foo'"
      ]
     },
     "execution_count": 134,
     "metadata": {},
     "output_type": "execute_result"
    }
   ],
   "source": [
    "(s1, s2, s3, s4) = ('foo', 'bar', 'baz', 'qux')\n",
    "s1"
   ]
  },
  {
   "cell_type": "code",
   "execution_count": 135,
   "metadata": {
    "colab": {
     "base_uri": "https://localhost:8080/"
    },
    "id": "OFFbZp8DnOPf",
    "outputId": "706c9dac-e6eb-4e74-9743-9ee5cca6248d"
   },
   "outputs": [
    {
     "data": {
      "text/plain": [
       "[]"
      ]
     },
     "execution_count": 135,
     "metadata": {},
     "output_type": "execute_result"
    }
   ],
   "source": [
    "List = []\n",
    "List"
   ]
  },
  {
   "cell_type": "code",
   "execution_count": 136,
   "metadata": {
    "colab": {
     "base_uri": "https://localhost:8080/"
    },
    "id": "cZlAwy4inSmM",
    "outputId": "9ddffa4c-353c-42eb-d06a-8de497c660f3"
   },
   "outputs": [
    {
     "data": {
      "text/plain": [
       "()"
      ]
     },
     "execution_count": 136,
     "metadata": {},
     "output_type": "execute_result"
    }
   ],
   "source": [
    "Tuple = ()\n",
    "Tuple"
   ]
  },
  {
   "cell_type": "markdown",
   "metadata": {
    "id": "ASnBS2v8IRTJ"
   },
   "source": [
    "### Dictionary"
   ]
  },
  {
   "cell_type": "code",
   "execution_count": 137,
   "metadata": {
    "id": "M_tSjFEyntEe"
   },
   "outputs": [],
   "source": [
    "Indonesia = [\"Jakarta\", \"Indonesia Raya\", \"Rupiah\", \"Presidensial\"]"
   ]
  },
  {
   "cell_type": "code",
   "execution_count": 138,
   "metadata": {
    "id": "ITw2ZPtdH0cI"
   },
   "outputs": [],
   "source": [
    "Indonesia = {\n",
    "    'Ibukota':'Jakarta',\n",
    "    'Lagu Kebangsaan':'Indonesia Raya',\n",
    "    'Mata Uang':'Rupiah',\n",
    "    'Sistem Pemerintahan':'Presidensial'\n",
    "}"
   ]
  },
  {
   "cell_type": "code",
   "execution_count": 139,
   "metadata": {
    "colab": {
     "base_uri": "https://localhost:8080/"
    },
    "id": "YXQ9X215Ir7j",
    "outputId": "efb23a7e-ee8e-42c2-9434-1c5259626a33"
   },
   "outputs": [
    {
     "data": {
      "text/plain": [
       "{'Ibukota': 'Jakarta',\n",
       " 'Lagu Kebangsaan': 'Indonesia Raya',\n",
       " 'Mata Uang': 'Rupiah',\n",
       " 'Sistem Pemerintahan': 'Presidensial'}"
      ]
     },
     "execution_count": 139,
     "metadata": {},
     "output_type": "execute_result"
    }
   ],
   "source": [
    "Indonesia"
   ]
  },
  {
   "cell_type": "code",
   "execution_count": 140,
   "metadata": {
    "colab": {
     "base_uri": "https://localhost:8080/",
     "height": 37
    },
    "id": "h-JGRYN_Iwu-",
    "outputId": "04aca088-9392-467e-fe7b-d81cbd438ff5"
   },
   "outputs": [
    {
     "data": {
      "text/plain": [
       "'Jakarta'"
      ]
     },
     "execution_count": 140,
     "metadata": {},
     "output_type": "execute_result"
    }
   ],
   "source": [
    "Indonesia['Ibukota']"
   ]
  },
  {
   "cell_type": "code",
   "execution_count": 141,
   "metadata": {
    "id": "46d47kteIymK"
   },
   "outputs": [],
   "source": [
    "Indonesia['Ibukota'] = 'Nusantara'"
   ]
  },
  {
   "cell_type": "code",
   "execution_count": 142,
   "metadata": {
    "colab": {
     "base_uri": "https://localhost:8080/"
    },
    "id": "IPG8nE_qI9Q7",
    "outputId": "ab2e2bf9-c358-4b57-8973-39eaa827d6af"
   },
   "outputs": [
    {
     "data": {
      "text/plain": [
       "{'Ibukota': 'Nusantara',\n",
       " 'Lagu Kebangsaan': 'Indonesia Raya',\n",
       " 'Mata Uang': 'Rupiah',\n",
       " 'Sistem Pemerintahan': 'Presidensial'}"
      ]
     },
     "execution_count": 142,
     "metadata": {},
     "output_type": "execute_result"
    }
   ],
   "source": [
    "Indonesia"
   ]
  },
  {
   "cell_type": "code",
   "execution_count": 143,
   "metadata": {
    "id": "jlaFV8IpI-GE"
   },
   "outputs": [],
   "source": [
    "Indonesia['Benua'] = 'Asia'"
   ]
  },
  {
   "cell_type": "code",
   "execution_count": 144,
   "metadata": {
    "colab": {
     "base_uri": "https://localhost:8080/"
    },
    "id": "_-038u_WJCak",
    "outputId": "a652b775-21d0-40c3-bce0-a6c258a83bb6"
   },
   "outputs": [
    {
     "data": {
      "text/plain": [
       "{'Ibukota': 'Nusantara',\n",
       " 'Lagu Kebangsaan': 'Indonesia Raya',\n",
       " 'Mata Uang': 'Rupiah',\n",
       " 'Sistem Pemerintahan': 'Presidensial',\n",
       " 'Benua': 'Asia'}"
      ]
     },
     "execution_count": 144,
     "metadata": {},
     "output_type": "execute_result"
    }
   ],
   "source": [
    "Indonesia"
   ]
  },
  {
   "cell_type": "code",
   "execution_count": 145,
   "metadata": {
    "colab": {
     "base_uri": "https://localhost:8080/"
    },
    "id": "jPvG7bhSpmwC",
    "outputId": "ad289162-0e74-429c-9fff-e02f339ef0fd"
   },
   "outputs": [
    {
     "data": {
      "text/plain": [
       "{'Benua': ['Asia', 'Oseania'],\n",
       " 'Ibukota': ['Jakarta', 'Nusantara'],\n",
       " 'Lagu Kebangsaan': 'Indonesia Raya',\n",
       " 'Mata Uang': 'Rupiah',\n",
       " 'Sistem Pemerintahan': 'Presidensial'}"
      ]
     },
     "execution_count": 145,
     "metadata": {},
     "output_type": "execute_result"
    }
   ],
   "source": [
    "#Ada dua Benua dan Ibukota\n",
    "#Skema 1, dua Benua dan dua Ibukota dijadikan sebagai list\n",
    "\n",
    "Indo1 = {'Benua': ['Asia','Oseania'],\n",
    " 'Ibukota': ['Jakarta','Nusantara'],\n",
    " 'Lagu Kebangsaan': 'Indonesia Raya',\n",
    " 'Mata Uang': 'Rupiah',\n",
    " 'Sistem Pemerintahan': 'Presidensial'}\n",
    "Indo1"
   ]
  },
  {
   "cell_type": "code",
   "execution_count": 146,
   "metadata": {
    "id": "A5vA4esxqOSh"
   },
   "outputs": [],
   "source": [
    "#Skema2\n",
    "\n",
    "Indo2 = {'Benua_1': 'Asia',\n",
    "         'Benua_2' : 'Oseania',\n",
    "         'Ibukota_1' : 'Jakarta',\n",
    "        'Ibukota_2': 'Nusantara',\n",
    "        'Lagu Kebangsaan': 'Indonesia Raya',\n",
    "        'Mata Uang': 'Rupiah',\n",
    "        'Sistem Pemerintahan': 'Presidensial'}"
   ]
  },
  {
   "cell_type": "markdown",
   "metadata": {
    "id": "guFRdj_sJVby"
   },
   "source": [
    "**Building a Dictionary Incrementally**"
   ]
  },
  {
   "cell_type": "code",
   "execution_count": 147,
   "metadata": {
    "id": "H2gBZNeAJDLn"
   },
   "outputs": [],
   "source": [
    "person = {}\n",
    "\n",
    "person['fname'] = 'Hack'\n",
    "person['lname'] = 'PTP'\n",
    "person['age'] = 51\n",
    "person['spouse'] = 'Edna'\n",
    "person['children'] = ['Ralph', 'Betty', 'Joey']\n",
    "person['pets'] = {'dog': ['Fido','Dofi'], 'cat': 'Sox'}"
   ]
  },
  {
   "cell_type": "markdown",
   "metadata": {
    "id": "vN6K7xQbJfef"
   },
   "source": [
    "**Built-In Methods**"
   ]
  },
  {
   "cell_type": "code",
   "execution_count": 148,
   "metadata": {
    "colab": {
     "base_uri": "https://localhost:8080/"
    },
    "id": "JSvIXYwkJbSd",
    "outputId": "fbf7cbc7-1afc-4ae9-ebe0-5b583ba285f6"
   },
   "outputs": [
    {
     "name": "stdout",
     "output_type": "stream",
     "text": [
      "dict_items([('a', 10), ('b', 20), ('c', 30)])\n",
      "dict_keys(['a', 'b', 'c'])\n",
      "dict_values([10, 20, 30])\n"
     ]
    }
   ],
   "source": [
    "d = {'a': 10, 'b': 20, 'c': 30}\n",
    "\n",
    "# items\n",
    "print(d.items())\n",
    "\n",
    "# keys\n",
    "print(d.keys())\n",
    "\n",
    "# values\n",
    "print(d.values())"
   ]
  },
  {
   "cell_type": "code",
   "execution_count": 149,
   "metadata": {
    "colab": {
     "base_uri": "https://localhost:8080/"
    },
    "id": "rhgEhkBWJoa3",
    "outputId": "78aea514-f896-4dab-ec3b-b8a66bc404e9"
   },
   "outputs": [
    {
     "name": "stdout",
     "output_type": "stream",
     "text": [
      "dict_items([('fname', 'Hack'), ('lname', 'PTP'), ('age', 51), ('spouse', 'Edna'), ('children', ['Ralph', 'Betty', 'Joey']), ('pets', {'dog': ['Fido', 'Dofi'], 'cat': 'Sox'})])\n",
      "dict_keys(['fname', 'lname', 'age', 'spouse', 'children', 'pets'])\n",
      "dict_values(['Hack', 'PTP', 51, 'Edna', ['Ralph', 'Betty', 'Joey'], {'dog': ['Fido', 'Dofi'], 'cat': 'Sox'}])\n"
     ]
    }
   ],
   "source": [
    "# items\n",
    "print(person.items())\n",
    "\n",
    "# keys\n",
    "print(person.keys())\n",
    "\n",
    "# values\n",
    "print(person.values())"
   ]
  },
  {
   "cell_type": "code",
   "execution_count": 150,
   "metadata": {
    "colab": {
     "base_uri": "https://localhost:8080/"
    },
    "id": "YJq08zQTrlME",
    "outputId": "cc032541-f2f7-4512-a302-9b355a9fde83"
   },
   "outputs": [
    {
     "data": {
      "text/plain": [
       "{'Ibukota': 'Nusantara',\n",
       " 'Lagu Kebangsaan': 'Indonesia Raya',\n",
       " 'Mata Uang': 'Rupiah',\n",
       " 'Sistem Pemerintahan': 'Presidensial',\n",
       " 'Benua': 'Asia'}"
      ]
     },
     "execution_count": 150,
     "metadata": {},
     "output_type": "execute_result"
    }
   ],
   "source": [
    "#Mendapatkan key dari value\n",
    "Indonesia"
   ]
  },
  {
   "cell_type": "code",
   "execution_count": 151,
   "metadata": {
    "colab": {
     "base_uri": "https://localhost:8080/"
    },
    "id": "zFCLHpBCrtLb",
    "outputId": "4dc33c7b-ecd9-4fba-b710-d3619dcdf399"
   },
   "outputs": [
    {
     "data": {
      "text/plain": [
       "['Ibukota', 'Lagu Kebangsaan', 'Mata Uang', 'Sistem Pemerintahan', 'Benua']"
      ]
     },
     "execution_count": 151,
     "metadata": {},
     "output_type": "execute_result"
    }
   ],
   "source": [
    "list_keys = list(Indonesia.keys())\n",
    "list_keys"
   ]
  },
  {
   "cell_type": "code",
   "execution_count": 152,
   "metadata": {
    "colab": {
     "base_uri": "https://localhost:8080/"
    },
    "id": "0ZKhsULvr6hS",
    "outputId": "b7039d90-8c02-4666-a120-4132bc4414eb"
   },
   "outputs": [
    {
     "data": {
      "text/plain": [
       "['Nusantara', 'Indonesia Raya', 'Rupiah', 'Presidensial', 'Asia']"
      ]
     },
     "execution_count": 152,
     "metadata": {},
     "output_type": "execute_result"
    }
   ],
   "source": [
    "list_values = list(Indonesia.values())\n",
    "list_values"
   ]
  },
  {
   "cell_type": "code",
   "execution_count": 153,
   "metadata": {
    "colab": {
     "base_uri": "https://localhost:8080/"
    },
    "id": "lzyBhmPFr_mP",
    "outputId": "d52980de-7dbd-4086-b11c-5d08280232d1"
   },
   "outputs": [
    {
     "data": {
      "text/plain": [
       "4"
      ]
     },
     "execution_count": 153,
     "metadata": {},
     "output_type": "execute_result"
    }
   ],
   "source": [
    "index = list_values.index('Asia')\n",
    "index"
   ]
  },
  {
   "cell_type": "code",
   "execution_count": 154,
   "metadata": {
    "colab": {
     "base_uri": "https://localhost:8080/",
     "height": 37
    },
    "id": "qjxUPrm8sXyl",
    "outputId": "4ec05dc0-33ee-4d64-fbb0-7352e31067b7"
   },
   "outputs": [
    {
     "data": {
      "text/plain": [
       "'Benua'"
      ]
     },
     "execution_count": 154,
     "metadata": {},
     "output_type": "execute_result"
    }
   ],
   "source": [
    "list_keys[index]"
   ]
  },
  {
   "cell_type": "markdown",
   "metadata": {
    "id": "6kwJzDnEgY5x"
   },
   "source": [
    "# LATIHAN"
   ]
  },
  {
   "cell_type": "markdown",
   "metadata": {
    "id": "rQVZp4YOgbNZ"
   },
   "source": [
    "1. Write a Python program to display the first and last colors from the following list.\n",
    "\n",
    "color_list = [\"Red\",\"Green\",\"White\" ,\"Black\"]"
   ]
  },
  {
   "cell_type": "code",
   "execution_count": null,
   "metadata": {
    "id": "LecSDDasgdxc"
   },
   "outputs": [],
   "source": []
  },
  {
   "cell_type": "markdown",
   "metadata": {
    "id": "0uRJ-CQygeAS"
   },
   "source": [
    "2. Write a Python program to print a specified list after removing the 0th, 4th and 5th elements.\n",
    "\n",
    "Sample List : ['Red', 'Green', 'White', 'Black', 'Pink', 'Yellow']\n",
    "\n",
    "Expected Output : ['Green', 'White', 'Black']\n"
   ]
  },
  {
   "cell_type": "code",
   "execution_count": null,
   "metadata": {
    "id": "9vn0MkO5g9hH"
   },
   "outputs": [],
   "source": []
  },
  {
   "cell_type": "markdown",
   "metadata": {
    "id": "higNfBQrg7Z-"
   },
   "source": [
    "3. Write a Python script to add a key to a dictionary.\n",
    "\n",
    "Sample Dictionary : {0: 10, 1: 20}\n",
    "\n",
    "Expected Result : {0: 10, 1: 20, 2: 30}"
   ]
  },
  {
   "cell_type": "code",
   "execution_count": null,
   "metadata": {
    "id": "sH2rvsyUhGWR"
   },
   "outputs": [],
   "source": []
  },
  {
   "cell_type": "markdown",
   "metadata": {
    "id": "LSxGcopGhGna"
   },
   "source": [
    "4. Write a Python program to get a single string from two given strings, separated by a space and swap the first two characters of each string. \n",
    "\n",
    "Sample String : 'abc', 'xyz' \n",
    "\n",
    "Expected Result : 'xyc abz'"
   ]
  },
  {
   "cell_type": "code",
   "execution_count": null,
   "metadata": {
    "id": "uDvAif6shUzv"
   },
   "outputs": [],
   "source": []
  },
  {
   "cell_type": "code",
   "execution_count": null,
   "metadata": {},
   "outputs": [],
   "source": []
  },
  {
   "cell_type": "code",
   "execution_count": null,
   "metadata": {},
   "outputs": [],
   "source": []
  },
  {
   "cell_type": "code",
   "execution_count": null,
   "metadata": {},
   "outputs": [],
   "source": []
  },
  {
   "cell_type": "code",
   "execution_count": null,
   "metadata": {},
   "outputs": [],
   "source": []
  },
  {
   "cell_type": "code",
   "execution_count": null,
   "metadata": {},
   "outputs": [],
   "source": []
  },
  {
   "cell_type": "code",
   "execution_count": null,
   "metadata": {},
   "outputs": [],
   "source": []
  },
  {
   "cell_type": "code",
   "execution_count": null,
   "metadata": {},
   "outputs": [],
   "source": []
  },
  {
   "cell_type": "code",
   "execution_count": null,
   "metadata": {},
   "outputs": [],
   "source": []
  },
  {
   "cell_type": "code",
   "execution_count": null,
   "metadata": {},
   "outputs": [],
   "source": []
  },
  {
   "cell_type": "code",
   "execution_count": null,
   "metadata": {},
   "outputs": [],
   "source": []
  },
  {
   "cell_type": "code",
   "execution_count": null,
   "metadata": {},
   "outputs": [],
   "source": []
  },
  {
   "cell_type": "code",
   "execution_count": null,
   "metadata": {},
   "outputs": [],
   "source": []
  }
 ],
 "metadata": {
  "colab": {
   "name": "BFI PYIM 1.ipynb",
   "provenance": []
  },
  "kernelspec": {
   "display_name": "Python 3 (ipykernel)",
   "language": "python",
   "name": "python3"
  },
  "language_info": {
   "codemirror_mode": {
    "name": "ipython",
    "version": 3
   },
   "file_extension": ".py",
   "mimetype": "text/x-python",
   "name": "python",
   "nbconvert_exporter": "python",
   "pygments_lexer": "ipython3",
   "version": "3.10.4"
  }
 },
 "nbformat": 4,
 "nbformat_minor": 1
}
