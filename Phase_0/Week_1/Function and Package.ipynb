{
 "cells": [
  {
   "cell_type": "code",
   "execution_count": 1,
   "id": "37d3e070",
   "metadata": {},
   "outputs": [],
   "source": [
    "def cetakNama(var1,var2):\n",
    "    print(f'nama saya adalah {var1}, saya adalah {var2}')"
   ]
  },
  {
   "cell_type": "code",
   "execution_count": 2,
   "id": "43cb363a",
   "metadata": {},
   "outputs": [
    {
     "name": "stdout",
     "output_type": "stream",
     "text": [
      "nama saya adalah Xander, saya adalah Data Scientist\n"
     ]
    }
   ],
   "source": [
    "cetakNama('Xander', 'Data Scientist')"
   ]
  },
  {
   "cell_type": "code",
   "execution_count": 3,
   "id": "806157a3",
   "metadata": {},
   "outputs": [],
   "source": [
    "a = 'Xander'\n",
    "b = 'Data Scientist'"
   ]
  },
  {
   "cell_type": "code",
   "execution_count": 4,
   "id": "a19169e6",
   "metadata": {},
   "outputs": [
    {
     "name": "stdout",
     "output_type": "stream",
     "text": [
      "nama saya adalah Xander, saya adalah Data Scientist\n"
     ]
    }
   ],
   "source": [
    "cetakNama(var1 = a, var2 = b)"
   ]
  },
  {
   "cell_type": "code",
   "execution_count": 5,
   "id": "cf4cd416",
   "metadata": {},
   "outputs": [],
   "source": [
    "def tambah(x,y):\n",
    "    z = x + y\n",
    "    print(z)\n",
    "    return z"
   ]
  },
  {
   "cell_type": "code",
   "execution_count": 6,
   "id": "1559c08a",
   "metadata": {},
   "outputs": [
    {
     "name": "stdout",
     "output_type": "stream",
     "text": [
      "5\n"
     ]
    },
    {
     "data": {
      "text/plain": [
       "5"
      ]
     },
     "execution_count": 6,
     "metadata": {},
     "output_type": "execute_result"
    }
   ],
   "source": [
    "tambah(2,3)"
   ]
  },
  {
   "cell_type": "code",
   "execution_count": 7,
   "id": "577333c8",
   "metadata": {},
   "outputs": [
    {
     "name": "stdout",
     "output_type": "stream",
     "text": [
      "15\n"
     ]
    }
   ],
   "source": [
    "a = tambah(10,5)"
   ]
  },
  {
   "cell_type": "code",
   "execution_count": 8,
   "id": "7d91bad2",
   "metadata": {},
   "outputs": [
    {
     "data": {
      "text/plain": [
       "15"
      ]
     },
     "execution_count": 8,
     "metadata": {},
     "output_type": "execute_result"
    }
   ],
   "source": [
    "a"
   ]
  },
  {
   "cell_type": "code",
   "execution_count": 9,
   "id": "04c27ff7",
   "metadata": {},
   "outputs": [],
   "source": [
    "mylist = [10,20,30]"
   ]
  },
  {
   "cell_type": "code",
   "execution_count": 10,
   "id": "4b3b0a2e",
   "metadata": {},
   "outputs": [],
   "source": [
    "def rubahlist(var1):\n",
    "    global mylist\n",
    "    mylist = var1 + [1,2,3]\n",
    "    return mylist"
   ]
  },
  {
   "cell_type": "code",
   "execution_count": 11,
   "id": "08229333",
   "metadata": {},
   "outputs": [
    {
     "data": {
      "text/plain": [
       "[13, 23, 33, 1, 2, 3]"
      ]
     },
     "execution_count": 11,
     "metadata": {},
     "output_type": "execute_result"
    }
   ],
   "source": [
    "rubahlist([13,23,33])"
   ]
  },
  {
   "cell_type": "code",
   "execution_count": 12,
   "id": "32696725",
   "metadata": {},
   "outputs": [
    {
     "data": {
      "text/plain": [
       "[13, 23, 33, 1, 2, 3]"
      ]
     },
     "execution_count": 12,
     "metadata": {},
     "output_type": "execute_result"
    }
   ],
   "source": [
    "mylist"
   ]
  },
  {
   "cell_type": "code",
   "execution_count": 53,
   "id": "f8b47caf",
   "metadata": {},
   "outputs": [],
   "source": [
    "def matematika(x,y):\n",
    "    a = x+y\n",
    "    b = x-y\n",
    "    return a,b"
   ]
  },
  {
   "cell_type": "code",
   "execution_count": 54,
   "id": "20a7e221",
   "metadata": {},
   "outputs": [
    {
     "data": {
      "text/plain": [
       "(12, 8)"
      ]
     },
     "execution_count": 54,
     "metadata": {},
     "output_type": "execute_result"
    }
   ],
   "source": [
    "matematika(10,2)"
   ]
  },
  {
   "cell_type": "code",
   "execution_count": 14,
   "id": "36b3f2b1",
   "metadata": {},
   "outputs": [
    {
     "data": {
      "text/plain": [
       "True"
      ]
     },
     "execution_count": 14,
     "metadata": {},
     "output_type": "execute_result"
    }
   ],
   "source": [
    "def checker(var1):\n",
    "    x = 'hacktiv8' in var1.lower()\n",
    "    return x\n",
    "\n",
    "checker('hacktiv8')"
   ]
  },
  {
   "cell_type": "code",
   "execution_count": 38,
   "id": "b3377a11",
   "metadata": {},
   "outputs": [],
   "source": [
    "def tambah(var1,*var2):\n",
    "    var2 = sum(var2)\n",
    "    print(f'{var1} dan {var2}')"
   ]
  },
  {
   "cell_type": "code",
   "execution_count": 39,
   "id": "e9d400b3",
   "metadata": {},
   "outputs": [
    {
     "name": "stdout",
     "output_type": "stream",
     "text": [
      "1 dan 35\n"
     ]
    }
   ],
   "source": [
    "tambah(1,2,3,4,5,6,7,8)"
   ]
  },
  {
   "cell_type": "code",
   "execution_count": 55,
   "id": "b991f8d1",
   "metadata": {},
   "outputs": [],
   "source": [
    "def pendaftaran(**kwargs):\n",
    "    for key,value in kwargs.items():\n",
    "        print(f'Pendaftaran atas nama {key}')\n",
    "        print(f'Tujuan keberangkatan {value}')"
   ]
  },
  {
   "cell_type": "code",
   "execution_count": 58,
   "id": "de06c943",
   "metadata": {},
   "outputs": [
    {
     "name": "stdout",
     "output_type": "stream",
     "text": [
      "Pendaftaran atas nama Bambang\n",
      "Tujuan keberangkatan Surabaya\n"
     ]
    }
   ],
   "source": [
    "pendaftaran(Bambang = 'Surabaya')"
   ]
  },
  {
   "cell_type": "code",
   "execution_count": null,
   "id": "ed467c85",
   "metadata": {},
   "outputs": [],
   "source": []
  }
 ],
 "metadata": {
  "kernelspec": {
   "display_name": "Python 3 (ipykernel)",
   "language": "python",
   "name": "python3"
  },
  "language_info": {
   "codemirror_mode": {
    "name": "ipython",
    "version": 3
   },
   "file_extension": ".py",
   "mimetype": "text/x-python",
   "name": "python",
   "nbconvert_exporter": "python",
   "pygments_lexer": "ipython3",
   "version": "3.10.4"
  },
  "vscode": {
   "interpreter": {
    "hash": "277d713a2869ad522e0f58de96fa3cb2620734b34dd3b3afd7f1966d69d2580f"
   }
  }
 },
 "nbformat": 4,
 "nbformat_minor": 5
}
