{
 "cells": [
  {
   "cell_type": "code",
   "execution_count": 13,
   "id": "39e17867",
   "metadata": {},
   "outputs": [
    {
     "name": "stdout",
     "output_type": "stream",
     "text": [
      "Temperature dalam Celsius adalah 0 derajat.\n",
      "Temperature dalam Farenheit adalah 32 derajat.\n"
     ]
    }
   ],
   "source": [
    "def pengubah_suhu(derajat,tipe):\n",
    "    if tipe.upper() == \"C\":\n",
    "        result = int(round((9 * derajat) / 5 + 32))\n",
    "        suhu_ganti = \"Fahrenheit\"\n",
    "        result2 = int(round(derajat + 273))\n",
    "        suhu_ganti2 = \"Kelvin\"\n",
    "    elif tipe.upper() == \"F\":\n",
    "        result = int(round((derajat - 32) * 5 / 9))\n",
    "        suhu_ganti = \"Celsius\"\n",
    "        result2 = int(round((derajat - 32) * 5 / 9)) + 273\n",
    "        suhu_ganti2 = \"Kelvin\"\n",
    "    elif tipe.upper() == \"K\":\n",
    "        result = int(round(derajat - 273))\n",
    "        suhu_ganti = \"Celsius\"\n",
    "        result2 = int(round((9 * result) / 5 + 32))\n",
    "        suhu_ganti2 = \"Farenheit\"\n",
    "    else:\n",
    "        print(\"Input proper convention.\")\n",
    "        quit()\n",
    "    print(\"Temperature dalam\", suhu_ganti, \"adalah\", result, \"derajat.\")\n",
    "    print(\"Temperature dalam\", suhu_ganti2, \"adalah\", result2, \"derajat.\")\n",
    "    \n",
    "pengubah_suhu(273,'K')"
   ]
  }
 ],
 "metadata": {
  "kernelspec": {
   "display_name": "Python 3 (ipykernel)",
   "language": "python",
   "name": "python3"
  },
  "language_info": {
   "codemirror_mode": {
    "name": "ipython",
    "version": 3
   },
   "file_extension": ".py",
   "mimetype": "text/x-python",
   "name": "python",
   "nbconvert_exporter": "python",
   "pygments_lexer": "ipython3",
   "version": "3.10.4"
  }
 },
 "nbformat": 4,
 "nbformat_minor": 5
}
