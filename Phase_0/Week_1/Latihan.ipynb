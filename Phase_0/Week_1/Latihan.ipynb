{
 "cells": [
  {
   "cell_type": "code",
   "execution_count": 177,
   "id": "2ea1740e",
   "metadata": {},
   "outputs": [],
   "source": [
    "def check(substring,fullstring):\n",
    "    splits = fullstring.split()\n",
    "    if substring in splits:\n",
    "        index = splits.index(substring) + 1\n",
    "        print(f\"Kata {substring} berada di kata ke {index} pada kalimat ini!\")\n",
    "    else:\n",
    "        print(f\"kata {substring} tidak tedapat pada kalimat ini.\")"
   ]
  },
  {
   "cell_type": "code",
   "execution_count": 178,
   "id": "a6e07676",
   "metadata": {},
   "outputs": [
    {
     "name": "stdout",
     "output_type": "stream",
     "text": [
      "Kata apa berada di kata ke 1 pada kalimat ini!\n"
     ]
    }
   ],
   "source": [
    "check('apa','apa kabar kamu')"
   ]
  },
  {
   "cell_type": "code",
   "execution_count": 179,
   "id": "ddbb35e8",
   "metadata": {},
   "outputs": [
    {
     "name": "stdout",
     "output_type": "stream",
     "text": [
      "kata apa tidak tedapat pada kalimat ini.\n"
     ]
    }
   ],
   "source": [
    "check('apa','kamu siapa namanya')"
   ]
  },
  {
   "cell_type": "code",
   "execution_count": null,
   "id": "6fdae6e0",
   "metadata": {},
   "outputs": [],
   "source": []
  }
 ],
 "metadata": {
  "kernelspec": {
   "display_name": "Python 3 (ipykernel)",
   "language": "python",
   "name": "python3"
  },
  "language_info": {
   "codemirror_mode": {
    "name": "ipython",
    "version": 3
   },
   "file_extension": ".py",
   "mimetype": "text/x-python",
   "name": "python",
   "nbconvert_exporter": "python",
   "pygments_lexer": "ipython3",
   "version": "3.10.4"
  }
 },
 "nbformat": 4,
 "nbformat_minor": 5
}
