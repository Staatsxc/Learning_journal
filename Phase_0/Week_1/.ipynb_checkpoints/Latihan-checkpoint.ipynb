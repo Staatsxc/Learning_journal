{
 "cells": [
  {
   "cell_type": "code",
   "execution_count": 152,
   "id": "66f224f2",
   "metadata": {},
   "outputs": [],
   "source": [
    "def check(substring,fullstring):\n",
    "    fullstring = fullstring.lower()\n",
    "    substring = substring.lower()\n",
    "    splits = fullstring.split()\n",
    "    if substring in splits:\n",
    "        for idx,i in enumerate(splits):\n",
    "            if substring in i:\n",
    "                print(f'kata {substring} berada di kata ke {idx + 1} pada kalimat ini')\n",
    "    else:\n",
    "        print(f'kata {substring} tidak terdapat pada kalimat ini')\n",
    "        "
   ]
  },
  {
   "cell_type": "code",
   "execution_count": 153,
   "id": "01fe3e88",
   "metadata": {},
   "outputs": [
    {
     "name": "stdout",
     "output_type": "stream",
     "text": [
      "kata apa berada di kata ke 1 pada kalimat ini\n",
      "kata apa berada di kata ke 3 pada kalimat ini\n"
     ]
    }
   ],
   "source": [
    "check('apa','apa kamu apa')"
   ]
  },
  {
   "cell_type": "code",
   "execution_count": 154,
   "id": "5a8e2523",
   "metadata": {},
   "outputs": [
    {
     "name": "stdout",
     "output_type": "stream",
     "text": [
      "kata apa tidak terdapat pada kalimat ini\n"
     ]
    }
   ],
   "source": [
    "check('apa','kamu siapa namanya')"
   ]
  }
 ],
 "metadata": {
  "kernelspec": {
   "display_name": "Python 3 (ipykernel)",
   "language": "python",
   "name": "python3"
  },
  "language_info": {
   "codemirror_mode": {
    "name": "ipython",
    "version": 3
   },
   "file_extension": ".py",
   "mimetype": "text/x-python",
   "name": "python",
   "nbconvert_exporter": "python",
   "pygments_lexer": "ipython3",
   "version": "3.10.4"
  }
 },
 "nbformat": 4,
 "nbformat_minor": 5
}
