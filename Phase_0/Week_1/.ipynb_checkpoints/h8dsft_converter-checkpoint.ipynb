{
 "cells": [
  {
   "cell_type": "code",
   "execution_count": 12,
   "id": "39e17867",
   "metadata": {},
   "outputs": [
    {
     "name": "stdout",
     "output_type": "stream",
     "text": [
      "Masukkan Suhu: 19F\n",
      "Temperature dalam Celsius adalah -7 derajat.\n"
     ]
    }
   ],
   "source": [
    "temp = input(\"Masukkan Suhu: \")\n",
    "derajat = int(temp[:-1])\n",
    "tipe = temp[-1]\n",
    "\n",
    "if tipe.upper() == \"C\":\n",
    "  result = int(round((9 * derajat) / 5 + 32))\n",
    "  suhu_ganti = \"Fahrenheit\"\n",
    "elif tipe.upper() == \"F\":\n",
    "  result = int(round((derajat - 32) * 5 / 9))\n",
    "  suhu_ganti = \"Celsius\"\n",
    "else:\n",
    "  print(\"Input proper convention.\")\n",
    "  quit()\n",
    "print(\"Temperature dalam\", suhu_ganti, \"adalah\", result, \"derajat.\")"
   ]
  }
 ],
 "metadata": {
  "kernelspec": {
   "display_name": "Python 3 (ipykernel)",
   "language": "python",
   "name": "python3"
  },
  "language_info": {
   "codemirror_mode": {
    "name": "ipython",
    "version": 3
   },
   "file_extension": ".py",
   "mimetype": "text/x-python",
   "name": "python",
   "nbconvert_exporter": "python",
   "pygments_lexer": "ipython3",
   "version": "3.10.4"
  }
 },
 "nbformat": 4,
 "nbformat_minor": 5
}
