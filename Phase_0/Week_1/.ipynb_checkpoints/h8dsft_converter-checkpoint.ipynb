{
 "cells": [
  {
   "cell_type": "code",
   "execution_count": 2,
   "id": "39e17867",
   "metadata": {},
   "outputs": [
    {
     "name": "stdout",
     "output_type": "stream",
     "text": [
      "Masukkan Suhu: 300K\n",
      "Temperature dalam Celsius adalah 27 derajat.\n",
      "Temperature dalam Farenheit adalah 81 derajat.\n"
     ]
    }
   ],
   "source": [
    "temp = input(\"Masukkan Suhu: \")\n",
    "derajat = int(temp[:-1])\n",
    "tipe = temp[-1]\n",
    "\n",
    "if tipe.upper() == \"C\":\n",
    "    result = int(round((9 * derajat) / 5 + 32))\n",
    "    suhu_ganti = \"Fahrenheit\"\n",
    "    result2 = int(round(derajat + 273))\n",
    "    suhu_ganti2 = \"Kelvin\"\n",
    "elif tipe.upper() == \"F\":\n",
    "    result = int(round((derajat - 32) * 5 / 9))\n",
    "    suhu_ganti = \"Celsius\"\n",
    "    result2 = int(round((derajat - 32) * 5 / 9)) + 273\n",
    "    suhu_ganti2 = \"Kelvin\"\n",
    "elif tipe.upper() == \"K\":\n",
    "    result = int(round(derajat - 273))\n",
    "    suhu_ganti = \"Celsius\"\n",
    "    result2 = int(round((9 * result) / 5 + 32))\n",
    "    suhu_ganti2 = \"Farenheit\"\n",
    "else:\n",
    "    print(\"Input proper convention.\")\n",
    "    quit()\n",
    "print(\"Temperature dalam\", suhu_ganti, \"adalah\", result, \"derajat.\")\n",
    "print(\"Temperature dalam\", suhu_ganti2, \"adalah\", result2, \"derajat.\")"
   ]
  }
 ],
 "metadata": {
  "kernelspec": {
   "display_name": "Python 3 (ipykernel)",
   "language": "python",
   "name": "python3"
  },
  "language_info": {
   "codemirror_mode": {
    "name": "ipython",
    "version": 3
   },
   "file_extension": ".py",
   "mimetype": "text/x-python",
   "name": "python",
   "nbconvert_exporter": "python",
   "pygments_lexer": "ipython3",
   "version": "3.10.4"
  }
 },
 "nbformat": 4,
 "nbformat_minor": 5
}
