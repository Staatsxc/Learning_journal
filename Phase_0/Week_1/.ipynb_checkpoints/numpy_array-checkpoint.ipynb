{
 "cells": [
  {
   "cell_type": "markdown",
   "metadata": {
    "id": "N5-OHOJaTc5R"
   },
   "source": [
    "## Latihan Numpy \n"
   ]
  },
  {
   "cell_type": "code",
   "execution_count": 1,
   "metadata": {
    "id": "MEBTuAxdTc5U"
   },
   "outputs": [],
   "source": [
    "#Import Library\n",
    "import numpy as np"
   ]
  },
  {
   "cell_type": "code",
   "execution_count": 22,
   "metadata": {
    "id": "kbRV4-LtTc5W"
   },
   "outputs": [
    {
     "name": "stdout",
     "output_type": "stream",
     "text": [
      "[1 2 3 4] <class 'numpy.ndarray'>\n",
      "[4 2 3 1] <class 'numpy.ndarray'>\n"
     ]
    }
   ],
   "source": [
    "# Perubahan dari List ke Array\n",
    "# np.array()\n",
    "a = [1,2,3,4]\n",
    "b = np.array(a)\n",
    "print(b, type(b))\n",
    "\n",
    "c = np.array([4,2,3,1])\n",
    "print(c,type(c))\n",
    "\n"
   ]
  },
  {
   "cell_type": "code",
   "execution_count": 26,
   "metadata": {},
   "outputs": [
    {
     "data": {
      "text/plain": [
       "array([ 1,  2,  3,  4,  5,  6,  7,  8,  9, 10])"
      ]
     },
     "execution_count": 26,
     "metadata": {},
     "output_type": "execute_result"
    }
   ],
   "source": [
    "# Membuat List menggunakan arrange\n",
    "d = np.arange(1,11)\n",
    "d"
   ]
  },
  {
   "cell_type": "code",
   "execution_count": 32,
   "metadata": {
    "id": "Mc4X2zPSTc5W"
   },
   "outputs": [
    {
     "name": "stdout",
     "output_type": "stream",
     "text": [
      "[[1 2 3 4]\n",
      " [5 6 7 8]]\n"
     ]
    }
   ],
   "source": [
    "# Membuat Array 2D\n",
    "# Lihat seberapa banyak kurung siku di awal untuk menentukan jumlah dimensi\n",
    "e = [\n",
    "    [1,2,3,4],[5,6,7,8]\n",
    "]\n",
    "e = np.array(e)\n",
    "print(e)"
   ]
  },
  {
   "cell_type": "code",
   "execution_count": 36,
   "metadata": {},
   "outputs": [
    {
     "data": {
      "text/plain": [
       "3"
      ]
     },
     "execution_count": 36,
     "metadata": {},
     "output_type": "execute_result"
    }
   ],
   "source": [
    "f = [\n",
    "    [[1,2,3,4],\n",
    "     [5,6,7,8]],\n",
    "     \n",
    "     [[10,11,12,13],\n",
    "      [14,16,17,18]]\n",
    "    ]\n",
    "f = np.array(f)\n",
    "f.ndim"
   ]
  },
  {
   "cell_type": "code",
   "execution_count": 46,
   "metadata": {
    "id": "3VO6O_f3Tc5W"
   },
   "outputs": [
    {
     "name": "stdout",
     "output_type": "stream",
     "text": [
      "[[1 2 3 4]\n",
      " [5 6 7 8]]\n",
      "(2, 4)\n",
      "(2, 2, 4)\n"
     ]
    }
   ],
   "source": [
    "#Menentukan ukuran suatu array\n",
    "#.shape\n",
    "print(e)\n",
    "# Shape dari e\n",
    "print(e.shape)\n",
    "print(f.shape)"
   ]
  },
  {
   "cell_type": "code",
   "execution_count": 48,
   "metadata": {
    "id": "pdGoqu1CTc5X"
   },
   "outputs": [
    {
     "name": "stdout",
     "output_type": "stream",
     "text": [
      "8\n",
      "16\n"
     ]
    }
   ],
   "source": [
    "#Menentukan jumlah total elemen suatu array\n",
    "#.size\n",
    "print(e.size)\n",
    "print(f.size)"
   ]
  },
  {
   "cell_type": "code",
   "execution_count": 65,
   "metadata": {
    "id": "ICzwr0c5Tc5X"
   },
   "outputs": [
    {
     "name": "stdout",
     "output_type": "stream",
     "text": [
      "[1 2 3 4]\n",
      "[1 2 3]\n",
      "[1 2 3 4]\n",
      "[1 3]\n"
     ]
    }
   ],
   "source": [
    "#Indexing & Slicing\n",
    "print(b)\n",
    "print(b[0:3])\n",
    "print(b[0:])\n",
    "print(b[0:4:2])\n",
    "#Mengubah urutan array 1D dari belakang ke depan (Descending)\n",
    "\n"
   ]
  },
  {
   "cell_type": "markdown",
   "metadata": {
    "id": "8a7cxhBcTc5Y"
   },
   "source": [
    "**NOMOR 1**\n",
    "\n",
    "Buatlah sebuah array seperti dibawah ini dan tambahkan setiap elemennya dengan `1`.\n",
    "\n",
    "```\n",
    "a = [10, 20, 30, 40, 50]\n",
    "```"
   ]
  },
  {
   "cell_type": "code",
   "execution_count": null,
   "metadata": {
    "id": "keE8FPlRTc5Y"
   },
   "outputs": [],
   "source": [
    "#Cara 1 : Menambahkan dengan bil. skalar\n"
   ]
  },
  {
   "cell_type": "code",
   "execution_count": null,
   "metadata": {
    "id": "yz-GcavyTc5Z"
   },
   "outputs": [],
   "source": [
    "# Cara 2 : Menambahkan dengan \"Special Array\"\n",
    "#np.ones()\n",
    "\n"
   ]
  },
  {
   "cell_type": "markdown",
   "metadata": {
    "id": "PBNWxMt_Tc5c"
   },
   "source": [
    "**NOMOR 2**\n",
    "\n",
    "Buatlah sebuah array seperti dibawah ini dan keluarkan element yang bernilai negatif.\n",
    "\n",
    "```\n",
    "b = [-3, 0, -2, 1, 2, 3, -4]\n",
    "```"
   ]
  },
  {
   "cell_type": "code",
   "execution_count": null,
   "metadata": {
    "id": "qCWTxWLqTc5c"
   },
   "outputs": [],
   "source": [
    "#Buat array\n"
   ]
  },
  {
   "cell_type": "code",
   "execution_count": null,
   "metadata": {
    "id": "AZG34u8iTc5d"
   },
   "outputs": [],
   "source": [
    "# Jika `b < 0` maka hanya akan dilakukan pengecekan apakah element di `b` kurang dari 0 atau tidak\n"
   ]
  },
  {
   "cell_type": "code",
   "execution_count": null,
   "metadata": {
    "id": "vlKHEFg-Tc5d"
   },
   "outputs": [],
   "source": [
    "# Jika `b[b < 0]` maka element di `b` kurang dari 0 akan ditampilkan\n",
    "\n"
   ]
  },
  {
   "cell_type": "markdown",
   "metadata": {
    "id": "HwFYVFuHTc5d"
   },
   "source": [
    "**NOMOR 3**\n",
    "\n",
    "Buatlah sebuah array seperti dibawah ini. Keluarkan element yang bernilai positif kemudian urutkan dari nilai yang kecil ke besar\n",
    "\n",
    "```\n",
    "c = [10, -8, 4, 5, -41, 7, 5, -4]\n",
    "```"
   ]
  },
  {
   "cell_type": "code",
   "execution_count": null,
   "metadata": {
    "id": "eNQqbaROTc5d"
   },
   "outputs": [],
   "source": [
    "#Buat array\n",
    "\n"
   ]
  },
  {
   "cell_type": "code",
   "execution_count": null,
   "metadata": {
    "id": "-mPZYIOkTc5e"
   },
   "outputs": [],
   "source": [
    "# Sort elemen dari bilangan kecil ke besar\n",
    "#np.sort(nama_array)\n",
    "\n"
   ]
  },
  {
   "cell_type": "code",
   "execution_count": null,
   "metadata": {
    "id": "jcNTAgl7Tc5e"
   },
   "outputs": [],
   "source": [
    "# Sort elemen dari bilangan besar ke kecil\n",
    "#sort dan Slicing dengan step = -1\n",
    "\n"
   ]
  },
  {
   "cell_type": "markdown",
   "metadata": {
    "id": "ARioAA5RTc5e"
   },
   "source": [
    "**NOMOR 4**\n",
    "\n",
    "Buatlah array seperti dibawah ini kemudian tumpukkan secara horizontal dan vertikal satu sama lain.\n",
    "\n",
    "```\n",
    "d = [1, 2, 3, 4, 5]\n",
    "e = [6, 7, 8, 9, 10]\n",
    "```"
   ]
  },
  {
   "cell_type": "code",
   "execution_count": null,
   "metadata": {
    "id": "FFRxsTy0Tc5e"
   },
   "outputs": [],
   "source": [
    "#Buat array\n"
   ]
  },
  {
   "cell_type": "code",
   "execution_count": null,
   "metadata": {
    "id": "tReFto0xTc5e"
   },
   "outputs": [],
   "source": [
    "#Stacking Horizontal -> np.hstack((array1,array2))\n",
    "#Stacking Vertikal -> np.vstack((array1,array2))\n",
    "\n"
   ]
  },
  {
   "cell_type": "markdown",
   "metadata": {
    "id": "SXQWRWL9Tc5e"
   },
   "source": [
    "**NOMOR 5**\n",
    "\n",
    "Buatlah dua buah array seperti dibawah ini yang berasal dari 1 deklarasi variabel yang sama. Kemudian, kalikan array pertama dengan `2` dan kalikan array kedua dengan `3`.\n",
    "\n",
    "```\n",
    "f = [10, 20, 30, 40, 50]\n",
    "```\n",
    "\n",
    "Ekspektasi output : \n",
    "```\n",
    "hasil perkalian dengan 2 -> [20, 40, 60, 80, 100] \n",
    "hasil perkalian dengan 3 -> [30, 60, 90, 120, 150]\n",
    "```"
   ]
  },
  {
   "cell_type": "code",
   "execution_count": null,
   "metadata": {
    "id": "1xaj23ggTc5f"
   },
   "outputs": [],
   "source": [
    "#Buat array f\n",
    "\n"
   ]
  },
  {
   "cell_type": "code",
   "execution_count": null,
   "metadata": {
    "id": "r3HvIqQlTc5f"
   },
   "outputs": [],
   "source": [
    "#Copy array f ke variabel baru\n"
   ]
  },
  {
   "cell_type": "code",
   "execution_count": null,
   "metadata": {
    "id": "BpWz5jYHTc5f"
   },
   "outputs": [],
   "source": [
    "#Kalikan masing2 variabel\n",
    "\n"
   ]
  },
  {
   "cell_type": "markdown",
   "metadata": {
    "id": "1xd5C157Tc5f"
   },
   "source": [
    "**NOMOR 6**\n",
    "\n",
    "Buatlah sebuah array seperti dibawah ini dan hitung total jumlahnya.\n",
    "\n",
    "```\n",
    "h = [1, 2, 3, 4, 5]\n",
    "j = [ [1, 2, 3],\n",
    "      [4, 5, 6]]\n",
    "```\n",
    "\n",
    "Ekspektasi output :\n",
    "\n",
    "```\n",
    "total nilai h = 15\n",
    "total nilai j berdasarkan penjumlahan baris = [6, 15]\n",
    "total nilai j berdasarkan penjumlahan kolom = [5, 7, 9]\n",
    "```"
   ]
  },
  {
   "cell_type": "code",
   "execution_count": null,
   "metadata": {
    "id": "isZ-hYnxTc5f"
   },
   "outputs": [],
   "source": [
    "#Buat array\n",
    "\n"
   ]
  },
  {
   "cell_type": "code",
   "execution_count": null,
   "metadata": {
    "id": "tHhaga7_Tc5f"
   },
   "outputs": [],
   "source": [
    "#jumlahkan array h\n",
    "#.sum()\n",
    "\n"
   ]
  },
  {
   "cell_type": "code",
   "execution_count": null,
   "metadata": {
    "id": "dVJprr9XTc5f"
   },
   "outputs": [],
   "source": [
    "#Penjumlahan berdasarkan baris\n",
    "#baris -> axis = 1\n",
    "\n"
   ]
  },
  {
   "cell_type": "code",
   "execution_count": null,
   "metadata": {
    "id": "A6HySjP8Tc5g"
   },
   "outputs": [],
   "source": [
    "#Penjumlahan berdasarkan kolom\n",
    "# kolom -> axis = 0\n",
    "\n",
    "\n"
   ]
  },
  {
   "cell_type": "markdown",
   "metadata": {
    "id": "5DsryaHDTc5g"
   },
   "source": [
    "**NOMOR 7**\n",
    "\n",
    "Buatlah sebuah array seperti dibawah ini dan cari nilai `min`, `max`, dan `sum` per baris dan per kolom.\n",
    "\n",
    "```\n",
    "k = [ [1, 2, 3],\n",
    "      [4, 5, 6]]\n",
    "```"
   ]
  },
  {
   "cell_type": "code",
   "execution_count": null,
   "metadata": {
    "id": "TgE6RaXNTc5g"
   },
   "outputs": [],
   "source": [
    "#Buat array\n"
   ]
  },
  {
   "cell_type": "code",
   "execution_count": null,
   "metadata": {
    "id": "GgZn0CK5Tc5g"
   },
   "outputs": [],
   "source": [
    "#Mencari nilai minimum -> .min()\n",
    "#Mencari nilai maximum - > .max()\n",
    "#Mencari nilai total -> .sum()\n",
    "\n",
    "\n"
   ]
  },
  {
   "cell_type": "markdown",
   "metadata": {
    "id": "Zj6LoAmgTc5g"
   },
   "source": [
    "**NOMOR 8**\n",
    "\n",
    "Buatlah sebuah array seperti dibawah ini dan cari baris kedua dan kolom kedua.\n",
    "\n",
    "```\n",
    "n = [ [1, 2, 3], \n",
    "      [4, 5, 6],\n",
    "      [7, 8, 9]]\n",
    "```"
   ]
  },
  {
   "cell_type": "code",
   "execution_count": null,
   "metadata": {
    "id": "nv2ui-9YTc5g"
   },
   "outputs": [],
   "source": [
    "#Buat array\n",
    "\n",
    "\n"
   ]
  },
  {
   "cell_type": "code",
   "execution_count": null,
   "metadata": {
    "id": "RUGZ5yXzTc5g"
   },
   "outputs": [],
   "source": [
    "#Get baris&Kolom\n",
    "# nama_array[baris,kolom]\n"
   ]
  },
  {
   "cell_type": "code",
   "execution_count": null,
   "metadata": {
    "id": "COUHL84ETc5h"
   },
   "outputs": [],
   "source": [
    "# Get baris kedua\n",
    "# Bisa menggunakan n[1] atau n[1, :]\n",
    "\n"
   ]
  },
  {
   "cell_type": "code",
   "execution_count": null,
   "metadata": {
    "id": "YQ9fROzvTc5h"
   },
   "outputs": [],
   "source": [
    "# Get kolom kedua (menampilkan secara array 1D)\n",
    "# nama_array[:, [index_kolom]]\n",
    "\n"
   ]
  },
  {
   "cell_type": "code",
   "execution_count": null,
   "metadata": {
    "id": "H6rtrCiXTc5h"
   },
   "outputs": [],
   "source": [
    "# Get elemen diagonal (dari kiri ke kanan)\n",
    "# np.diag()\n",
    "# buka dokumentasi\n",
    "\n",
    "\n"
   ]
  },
  {
   "cell_type": "code",
   "execution_count": null,
   "metadata": {
    "id": "vBrV7LsXTc5h"
   },
   "outputs": [],
   "source": [
    "# Get elemen diagonal (dari kanan ke kiri)\n",
    "# np.diag(np.fliplr(n))\n",
    "\n"
   ]
  },
  {
   "cell_type": "markdown",
   "metadata": {
    "id": "hWzS3_12Tc5h"
   },
   "source": [
    "**NOMOR 9**\n",
    "\n",
    "Buatlah sebuah array seperti dibawah ini dan cari nilai `min`, `max`, dan `sum` untuk baris kedua dan kolom kedua.\n",
    "\n",
    "```\n",
    "m = [ [1, 2, 3], \n",
    "      [4, 5, 6],\n",
    "      [7, 8, 9]]\n",
    "```"
   ]
  },
  {
   "cell_type": "code",
   "execution_count": null,
   "metadata": {
    "id": "fx5931epTc5h"
   },
   "outputs": [],
   "source": [
    "#Buat array\n",
    "\n"
   ]
  },
  {
   "cell_type": "code",
   "execution_count": null,
   "metadata": {
    "id": "FadAXRK0Tc5h"
   },
   "outputs": [],
   "source": [
    "#buat variabel yang berisikan baris ke 2\n",
    "\n",
    "\n",
    "#buat variabel yang berisikan kolom ke 2\n",
    "\n"
   ]
  },
  {
   "cell_type": "code",
   "execution_count": null,
   "metadata": {
    "id": "D4oc8ix5Tc5h"
   },
   "outputs": [],
   "source": [
    "#Cari masing2 nilai sum, min, dan max\n",
    "\n",
    "\n"
   ]
  },
  {
   "cell_type": "markdown",
   "metadata": {
    "id": "iRRcx3e4Tc5h"
   },
   "source": [
    "**NOMOR 10**\n",
    "\n",
    "<img src='https://i.ibb.co/JvBzgWn/greyscale.png'>\n",
    "\n",
    "Download image [disini](https://i.ibb.co/JvBzgWn/greyscale.png)\n",
    "\n",
    "* Load gambar tersebut dengan menggunakan library matplotlib.\n",
    "* Jawab pertanyaan berikut ini : \n",
    "  - Berapa ukuran gambar tersebut.\n",
    "  - Berapa total piksel/element pada gambar tersebut.\n",
    "  - Cerahkan gambar tersebut dengan menambahkan suatu angka."
   ]
  },
  {
   "cell_type": "code",
   "execution_count": null,
   "metadata": {
    "id": "5de1CPT5Tc5i",
    "outputId": "5347df76-9fa4-4436-8ab6-354192b08a31"
   },
   "outputs": [
    {
     "name": "stdout",
     "output_type": "stream",
     "text": [
      "Requirement already satisfied: matplotlib in c:\\users\\acer\\anaconda3\\lib\\site-packages (3.3.4)\n",
      "Requirement already satisfied: numpy>=1.15 in c:\\users\\acer\\anaconda3\\lib\\site-packages (from matplotlib) (1.19.5)\n",
      "Requirement already satisfied: kiwisolver>=1.0.1 in c:\\users\\acer\\anaconda3\\lib\\site-packages (from matplotlib) (1.3.1)\n",
      "Requirement already satisfied: pillow>=6.2.0 in c:\\users\\acer\\anaconda3\\lib\\site-packages (from matplotlib) (8.2.0)\n",
      "Requirement already satisfied: cycler>=0.10 in c:\\users\\acer\\anaconda3\\lib\\site-packages (from matplotlib) (0.10.0)\n",
      "Requirement already satisfied: pyparsing!=2.0.4,!=2.1.2,!=2.1.6,>=2.0.3 in c:\\users\\acer\\anaconda3\\lib\\site-packages (from matplotlib) (2.4.7)\n",
      "Requirement already satisfied: python-dateutil>=2.1 in c:\\users\\acer\\anaconda3\\lib\\site-packages (from matplotlib) (2.8.1)\n",
      "Requirement already satisfied: six in c:\\users\\acer\\anaconda3\\lib\\site-packages (from cycler>=0.10->matplotlib) (1.15.0)\n"
     ]
    }
   ],
   "source": [
    "#Install matplotlib in jupyter\n",
    "import sys  \n",
    "!{sys.executable} -m pip install --user matplotlib"
   ]
  },
  {
   "cell_type": "code",
   "execution_count": null,
   "metadata": {
    "id": "qcWDcNnaTc5i"
   },
   "outputs": [],
   "source": [
    "#Import matplotlib\n",
    "import matplotlib.pyplot as plt"
   ]
  },
  {
   "cell_type": "code",
   "execution_count": null,
   "metadata": {
    "id": "Fsyf9DMRTc5i"
   },
   "outputs": [],
   "source": [
    "#Baca gambar menggunakan plt.imread('location_gambar') lalu masukkan ke variabel\n",
    "\n"
   ]
  },
  {
   "cell_type": "code",
   "execution_count": null,
   "metadata": {
    "id": "p6jvUYYNTc5i"
   },
   "outputs": [],
   "source": [
    "#Cek ukuran gambar\n",
    "#.shape\n",
    "\n"
   ]
  },
  {
   "cell_type": "code",
   "execution_count": null,
   "metadata": {
    "id": "9QL-bjTZTc5i"
   },
   "outputs": [],
   "source": [
    "# Total Piksel\n",
    "#.size\n"
   ]
  },
  {
   "cell_type": "code",
   "execution_count": null,
   "metadata": {
    "id": "5qFLl5YATc5i"
   },
   "outputs": [],
   "source": [
    "#Nilai piksel\n",
    "#img, udah di scalling\n",
    "\n"
   ]
  },
  {
   "cell_type": "code",
   "execution_count": null,
   "metadata": {
    "id": "sRmS2aY0Tc5j"
   },
   "outputs": [],
   "source": [
    "#Memastikan tipe data menjadi array\n",
    "#np.asarray()\n",
    "\n",
    "\n"
   ]
  },
  {
   "cell_type": "code",
   "execution_count": null,
   "metadata": {
    "id": "3WVALexaTc5j"
   },
   "outputs": [],
   "source": [
    "#Menentukan nilai yg akan ditambahkan ke piksel\n",
    "#Ubah ke skala 0-1, divide by 255 (highest pixel value)\n",
    "\n",
    "\n"
   ]
  },
  {
   "cell_type": "code",
   "execution_count": null,
   "metadata": {
    "id": "i7Yio5b1Tc5j"
   },
   "outputs": [],
   "source": [
    "#Copy datanya dulu (penting setiap ingin memodifikasi data) ke variabel baru\n",
    "\n",
    "#tambahkan nilai piksel ke gambar\n",
    "\n"
   ]
  },
  {
   "cell_type": "code",
   "execution_count": null,
   "metadata": {
    "id": "ZFw1ocoeTc5j"
   },
   "outputs": [],
   "source": [
    "# Menampilkan gambar original\n",
    "# `img` : array gambar\n",
    "# `cmap` : color map #figure\n",
    "# `vmin` : value minimum #figure\n",
    "# `vmax` : value maximum #figure\n",
    "#plt.imshow(nama_variabel, cmap='gray', vmin=0, vmax=1)\n",
    "\n"
   ]
  },
  {
   "cell_type": "code",
   "execution_count": null,
   "metadata": {
    "id": "I_VUaNa5Tc5j"
   },
   "outputs": [],
   "source": [
    "# Menampilkan gambar yg sudah ditambah suatu value\n",
    "\n"
   ]
  }
 ],
 "metadata": {
  "colab": {
   "name": "numpy_array.ipynb",
   "provenance": []
  },
  "interpreter": {
   "hash": "c42d99d755d00efaf066b964ceed011a4027ae5af520c8ef8190b9acee3a6094"
  },
  "kernelspec": {
   "display_name": "Python 3 (ipykernel)",
   "language": "python",
   "name": "python3"
  },
  "language_info": {
   "codemirror_mode": {
    "name": "ipython",
    "version": 3
   },
   "file_extension": ".py",
   "mimetype": "text/x-python",
   "name": "python",
   "nbconvert_exporter": "python",
   "pygments_lexer": "ipython3",
   "version": "3.10.4"
  }
 },
 "nbformat": 4,
 "nbformat_minor": 1
}
